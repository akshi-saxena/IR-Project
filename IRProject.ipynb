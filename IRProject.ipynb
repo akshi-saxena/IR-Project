{
  "nbformat": 4,
  "nbformat_minor": 0,
  "metadata": {
    "colab": {
      "name": "IRProject.ipynb",
      "provenance": [],
      "collapsed_sections": [],
      "include_colab_link": true
    },
    "kernelspec": {
      "name": "python3",
      "display_name": "Python 3"
    },
    "language_info": {
      "name": "python"
    }
  },
  "cells": [
    {
      "cell_type": "markdown",
      "metadata": {
        "id": "view-in-github",
        "colab_type": "text"
      },
      "source": [
        "<a href=\"https://colab.research.google.com/github/akshi-saxena/IR-Project/blob/main/IRProject.ipynb\" target=\"_parent\"><img src=\"https://colab.research.google.com/assets/colab-badge.svg\" alt=\"Open In Colab\"/></a>"
      ]
    },
    {
      "cell_type": "markdown",
      "source": [
        "### Importing libraries"
      ],
      "metadata": {
        "id": "4OCaEYKpX8VN"
      }
    },
    {
      "cell_type": "code",
      "source": [
        "import pandas as pd\n",
        "import numpy as np\n",
        "\n",
        "import nltk\n",
        "from nltk import corpus\n",
        "nltk.download('stopwords')\n",
        "\n",
        "# from nltk.stem.porter import PorterStemmer\n",
        "\n",
        "import nltk\n",
        "nltk.download('wordnet')\n",
        "from nltk.stem import WordNetLemmatizer\n",
        "\n",
        "from sklearn.feature_extraction.text import TfidfVectorizer\n",
        "from sklearn.model_selection import train_test_split\n",
        "from sklearn.naive_bayes import MultinomialNB"
      ],
      "metadata": {
        "id": "QQUc9kxL_CMo",
        "colab": {
          "base_uri": "https://localhost:8080/"
        },
        "outputId": "d04ee01e-9ef2-44cb-8157-4a72dd27aa7d"
      },
      "execution_count": 152,
      "outputs": [
        {
          "output_type": "stream",
          "name": "stdout",
          "text": [
            "[nltk_data] Downloading package stopwords to /root/nltk_data...\n",
            "[nltk_data]   Package stopwords is already up-to-date!\n",
            "[nltk_data] Downloading package wordnet to /root/nltk_data...\n",
            "[nltk_data]   Package wordnet is already up-to-date!\n"
          ]
        }
      ]
    },
    {
      "cell_type": "markdown",
      "source": [
        "### Acquiring Data"
      ],
      "metadata": {
        "id": "lBYck7YYYnpu"
      }
    },
    {
      "cell_type": "code",
      "source": [
        "# Code to read csv file into Colaboratory:\n",
        "!pip install -U -q PyDrive\n",
        "from pydrive.auth import GoogleAuth\n",
        "from pydrive.drive import GoogleDrive\n",
        "from google.colab import auth\n",
        "from oauth2client.client import GoogleCredentials\n",
        "# Authenticate and create the PyDrive client.\n",
        "auth.authenticate_user()\n",
        "gauth = GoogleAuth()\n",
        "gauth.credentials = GoogleCredentials.get_application_default()\n",
        "drive = GoogleDrive(gauth)"
      ],
      "metadata": {
        "id": "wGfJzPzf9Utn"
      },
      "execution_count": 100,
      "outputs": []
    },
    {
      "cell_type": "code",
      "execution_count": 101,
      "metadata": {
        "id": "VoULbMJ42MIm"
      },
      "outputs": [],
      "source": [
        "# link_train = 'https://drive.google.com/file/d/1-52Y3wUADsknJDxJ3y_ejZ9ULrZHYcmM'\n",
        "link_train = 'https://drive.google.com/file/d/1JnzRS-DX5zwxWpzIKf_RpM3fblt-yzcC'"
      ]
    },
    {
      "cell_type": "code",
      "source": [
        "data, id = link_train.split('/d/')\n",
        "print (id) # Verify that you have everything after '/d/'"
      ],
      "metadata": {
        "id": "5h3vmD-_3USt",
        "colab": {
          "base_uri": "https://localhost:8080/"
        },
        "outputId": "be6573ae-31e3-4e89-aa28-d9e3b63d23b8"
      },
      "execution_count": 102,
      "outputs": [
        {
          "output_type": "stream",
          "name": "stdout",
          "text": [
            "1JnzRS-DX5zwxWpzIKf_RpM3fblt-yzcC\n"
          ]
        }
      ]
    },
    {
      "cell_type": "markdown",
      "source": [
        "Create train dataframe"
      ],
      "metadata": {
        "id": "1F1iBdCZYvcw"
      }
    },
    {
      "cell_type": "code",
      "source": [
        "train = drive.CreateFile({'id':id}) \n",
        "train.GetContentFile('training.csv')  \n",
        "train_df = pd.read_csv('training.csv')"
      ],
      "metadata": {
        "id": "rqA1nOD69sFe"
      },
      "execution_count": 103,
      "outputs": []
    },
    {
      "cell_type": "code",
      "source": [
        "train_df.head()"
      ],
      "metadata": {
        "id": "RvUJTWar9_GK",
        "colab": {
          "base_uri": "https://localhost:8080/",
          "height": 206
        },
        "outputId": "fcb4fe49-90bf-483f-b257-6f70cb0c13f7"
      },
      "execution_count": 104,
      "outputs": [
        {
          "output_type": "execute_result",
          "data": {
            "text/html": [
              "\n",
              "  <div id=\"df-556ca398-86a6-4ad4-9b3d-87958ca977a2\">\n",
              "    <div class=\"colab-df-container\">\n",
              "      <div>\n",
              "<style scoped>\n",
              "    .dataframe tbody tr th:only-of-type {\n",
              "        vertical-align: middle;\n",
              "    }\n",
              "\n",
              "    .dataframe tbody tr th {\n",
              "        vertical-align: top;\n",
              "    }\n",
              "\n",
              "    .dataframe thead th {\n",
              "        text-align: right;\n",
              "    }\n",
              "</style>\n",
              "<table border=\"1\" class=\"dataframe\">\n",
              "  <thead>\n",
              "    <tr style=\"text-align: right;\">\n",
              "      <th></th>\n",
              "      <th>Id</th>\n",
              "      <th>title</th>\n",
              "      <th>text</th>\n",
              "      <th>subject</th>\n",
              "      <th>date</th>\n",
              "      <th>label</th>\n",
              "    </tr>\n",
              "  </thead>\n",
              "  <tbody>\n",
              "    <tr>\n",
              "      <th>0</th>\n",
              "      <td>13970</td>\n",
              "      <td>WATCH: Paul Manafort Gets DESTROYED On CNN Fo...</td>\n",
              "      <td>Paul Manafort, the chair of Donald Trump s cam...</td>\n",
              "      <td>News</td>\n",
              "      <td>August 14, 2016</td>\n",
              "      <td>1</td>\n",
              "    </tr>\n",
              "    <tr>\n",
              "      <th>1</th>\n",
              "      <td>41668</td>\n",
              "      <td>REFUGEE BUSINESS IS CASH COW FOR LUTHERAN CHAR...</td>\n",
              "      <td>How very  charitable  of the Lutheran and Cath...</td>\n",
              "      <td>left-news</td>\n",
              "      <td>May 8, 2015</td>\n",
              "      <td>1</td>\n",
              "    </tr>\n",
              "    <tr>\n",
              "      <th>2</th>\n",
              "      <td>26810</td>\n",
              "      <td>Trump’s Excuse For All His Sexist Statements ...</td>\n",
              "      <td>In case you ve been living under a rock for yo...</td>\n",
              "      <td>News</td>\n",
              "      <td>March 28, 2016</td>\n",
              "      <td>1</td>\n",
              "    </tr>\n",
              "    <tr>\n",
              "      <th>3</th>\n",
              "      <td>30967</td>\n",
              "      <td>'Jihadi Gran' gets 10 years after joining son ...</td>\n",
              "      <td>PARIS (Reuters) - A court on Friday sentenced ...</td>\n",
              "      <td>worldnews</td>\n",
              "      <td>October 6, 2017</td>\n",
              "      <td>0</td>\n",
              "    </tr>\n",
              "    <tr>\n",
              "      <th>4</th>\n",
              "      <td>26072</td>\n",
              "      <td>New Czech government to seek confidence vote o...</td>\n",
              "      <td>PRAGUE (Reuters) - The Czech government will s...</td>\n",
              "      <td>worldnews</td>\n",
              "      <td>December 13, 2017</td>\n",
              "      <td>0</td>\n",
              "    </tr>\n",
              "  </tbody>\n",
              "</table>\n",
              "</div>\n",
              "      <button class=\"colab-df-convert\" onclick=\"convertToInteractive('df-556ca398-86a6-4ad4-9b3d-87958ca977a2')\"\n",
              "              title=\"Convert this dataframe to an interactive table.\"\n",
              "              style=\"display:none;\">\n",
              "        \n",
              "  <svg xmlns=\"http://www.w3.org/2000/svg\" height=\"24px\"viewBox=\"0 0 24 24\"\n",
              "       width=\"24px\">\n",
              "    <path d=\"M0 0h24v24H0V0z\" fill=\"none\"/>\n",
              "    <path d=\"M18.56 5.44l.94 2.06.94-2.06 2.06-.94-2.06-.94-.94-2.06-.94 2.06-2.06.94zm-11 1L8.5 8.5l.94-2.06 2.06-.94-2.06-.94L8.5 2.5l-.94 2.06-2.06.94zm10 10l.94 2.06.94-2.06 2.06-.94-2.06-.94-.94-2.06-.94 2.06-2.06.94z\"/><path d=\"M17.41 7.96l-1.37-1.37c-.4-.4-.92-.59-1.43-.59-.52 0-1.04.2-1.43.59L10.3 9.45l-7.72 7.72c-.78.78-.78 2.05 0 2.83L4 21.41c.39.39.9.59 1.41.59.51 0 1.02-.2 1.41-.59l7.78-7.78 2.81-2.81c.8-.78.8-2.07 0-2.86zM5.41 20L4 18.59l7.72-7.72 1.47 1.35L5.41 20z\"/>\n",
              "  </svg>\n",
              "      </button>\n",
              "      \n",
              "  <style>\n",
              "    .colab-df-container {\n",
              "      display:flex;\n",
              "      flex-wrap:wrap;\n",
              "      gap: 12px;\n",
              "    }\n",
              "\n",
              "    .colab-df-convert {\n",
              "      background-color: #E8F0FE;\n",
              "      border: none;\n",
              "      border-radius: 50%;\n",
              "      cursor: pointer;\n",
              "      display: none;\n",
              "      fill: #1967D2;\n",
              "      height: 32px;\n",
              "      padding: 0 0 0 0;\n",
              "      width: 32px;\n",
              "    }\n",
              "\n",
              "    .colab-df-convert:hover {\n",
              "      background-color: #E2EBFA;\n",
              "      box-shadow: 0px 1px 2px rgba(60, 64, 67, 0.3), 0px 1px 3px 1px rgba(60, 64, 67, 0.15);\n",
              "      fill: #174EA6;\n",
              "    }\n",
              "\n",
              "    [theme=dark] .colab-df-convert {\n",
              "      background-color: #3B4455;\n",
              "      fill: #D2E3FC;\n",
              "    }\n",
              "\n",
              "    [theme=dark] .colab-df-convert:hover {\n",
              "      background-color: #434B5C;\n",
              "      box-shadow: 0px 1px 3px 1px rgba(0, 0, 0, 0.15);\n",
              "      filter: drop-shadow(0px 1px 2px rgba(0, 0, 0, 0.3));\n",
              "      fill: #FFFFFF;\n",
              "    }\n",
              "  </style>\n",
              "\n",
              "      <script>\n",
              "        const buttonEl =\n",
              "          document.querySelector('#df-556ca398-86a6-4ad4-9b3d-87958ca977a2 button.colab-df-convert');\n",
              "        buttonEl.style.display =\n",
              "          google.colab.kernel.accessAllowed ? 'block' : 'none';\n",
              "\n",
              "        async function convertToInteractive(key) {\n",
              "          const element = document.querySelector('#df-556ca398-86a6-4ad4-9b3d-87958ca977a2');\n",
              "          const dataTable =\n",
              "            await google.colab.kernel.invokeFunction('convertToInteractive',\n",
              "                                                     [key], {});\n",
              "          if (!dataTable) return;\n",
              "\n",
              "          const docLinkHtml = 'Like what you see? Visit the ' +\n",
              "            '<a target=\"_blank\" href=https://colab.research.google.com/notebooks/data_table.ipynb>data table notebook</a>'\n",
              "            + ' to learn more about interactive tables.';\n",
              "          element.innerHTML = '';\n",
              "          dataTable['output_type'] = 'display_data';\n",
              "          await google.colab.output.renderOutput(dataTable, element);\n",
              "          const docLink = document.createElement('div');\n",
              "          docLink.innerHTML = docLinkHtml;\n",
              "          element.appendChild(docLink);\n",
              "        }\n",
              "      </script>\n",
              "    </div>\n",
              "  </div>\n",
              "  "
            ],
            "text/plain": [
              "      Id  ... label\n",
              "0  13970  ...     1\n",
              "1  41668  ...     1\n",
              "2  26810  ...     1\n",
              "3  30967  ...     0\n",
              "4  26072  ...     0\n",
              "\n",
              "[5 rows x 6 columns]"
            ]
          },
          "metadata": {},
          "execution_count": 104
        }
      ]
    },
    {
      "cell_type": "code",
      "source": [
        "# Records in training data\n",
        "len(train_df)"
      ],
      "metadata": {
        "id": "scRexz7G_JGJ",
        "colab": {
          "base_uri": "https://localhost:8080/"
        },
        "outputId": "fc885068-f81f-4e7b-9680-91f7d277946a"
      },
      "execution_count": 105,
      "outputs": [
        {
          "output_type": "execute_result",
          "data": {
            "text/plain": [
              "31428"
            ]
          },
          "metadata": {},
          "execution_count": 105
        }
      ]
    },
    {
      "cell_type": "markdown",
      "source": [
        "Create test dataframe"
      ],
      "metadata": {
        "id": "6rWGO7y-Y--1"
      }
    },
    {
      "cell_type": "code",
      "source": [
        "# link_test = 'https://drive.google.com/file/d/1NjOcOCKVMlFyJXnPqIxBv3IWZAKMnwM0'\n",
        "link_test = 'https://drive.google.com/file/d/1kO4FkbqMdpa1_fDVWHqvQ7CxfxS5AMwE'"
      ],
      "metadata": {
        "id": "eTSQ4kbC_Oyd"
      },
      "execution_count": 106,
      "outputs": []
    },
    {
      "cell_type": "code",
      "source": [
        "data, id = link_test.split('/d/')\n",
        "print (id) # Verify that you have everything after '/d/'"
      ],
      "metadata": {
        "id": "3zYHq8Gu_ijt",
        "colab": {
          "base_uri": "https://localhost:8080/"
        },
        "outputId": "de5ed611-6979-44ac-e7bf-2c1a188cd655"
      },
      "execution_count": 107,
      "outputs": [
        {
          "output_type": "stream",
          "name": "stdout",
          "text": [
            "1kO4FkbqMdpa1_fDVWHqvQ7CxfxS5AMwE\n"
          ]
        }
      ]
    },
    {
      "cell_type": "code",
      "source": [
        "train = drive.CreateFile({'id':id}) \n",
        "train.GetContentFile('test.csv')  \n",
        "test_df = pd.read_csv('test.csv')"
      ],
      "metadata": {
        "id": "GU82RU3i_lD1"
      },
      "execution_count": 108,
      "outputs": []
    },
    {
      "cell_type": "code",
      "source": [
        "test_df.head()"
      ],
      "metadata": {
        "id": "zXFx80gO_6Rg",
        "colab": {
          "base_uri": "https://localhost:8080/",
          "height": 206
        },
        "outputId": "42779ea7-c650-44be-899e-c4ab0e8b2b19"
      },
      "execution_count": 109,
      "outputs": [
        {
          "output_type": "execute_result",
          "data": {
            "text/html": [
              "\n",
              "  <div id=\"df-e49ef26a-4e45-4d02-9da5-5c3d8bc89fb8\">\n",
              "    <div class=\"colab-df-container\">\n",
              "      <div>\n",
              "<style scoped>\n",
              "    .dataframe tbody tr th:only-of-type {\n",
              "        vertical-align: middle;\n",
              "    }\n",
              "\n",
              "    .dataframe tbody tr th {\n",
              "        vertical-align: top;\n",
              "    }\n",
              "\n",
              "    .dataframe thead th {\n",
              "        text-align: right;\n",
              "    }\n",
              "</style>\n",
              "<table border=\"1\" class=\"dataframe\">\n",
              "  <thead>\n",
              "    <tr style=\"text-align: right;\">\n",
              "      <th></th>\n",
              "      <th>Id</th>\n",
              "      <th>title</th>\n",
              "      <th>text</th>\n",
              "      <th>subject</th>\n",
              "      <th>date</th>\n",
              "    </tr>\n",
              "  </thead>\n",
              "  <tbody>\n",
              "    <tr>\n",
              "      <th>0</th>\n",
              "      <td>22216</td>\n",
              "      <td>Five killed in sectarian attack in Pakistan</td>\n",
              "      <td>QUETTA, Pakistan (Reuters) - (This October 9 s...</td>\n",
              "      <td>worldnews</td>\n",
              "      <td>October 9, 2017</td>\n",
              "    </tr>\n",
              "    <tr>\n",
              "      <th>1</th>\n",
              "      <td>27917</td>\n",
              "      <td>White House narrows search to three for Suprem...</td>\n",
              "      <td>WASHINGTON/AUSTIN, Texas (Reuters) - The White...</td>\n",
              "      <td>politicsNews</td>\n",
              "      <td>March 11, 2016</td>\n",
              "    </tr>\n",
              "    <tr>\n",
              "      <th>2</th>\n",
              "      <td>25007</td>\n",
              "      <td>THE DEATH OF P.C. POLICE? Trump’s DOJ Makes Ma...</td>\n",
              "      <td>The Justice Department on Thursday dropped the...</td>\n",
              "      <td>politics</td>\n",
              "      <td>Jun 30, 2017</td>\n",
              "    </tr>\n",
              "    <tr>\n",
              "      <th>3</th>\n",
              "      <td>1377</td>\n",
              "      <td>House, Senate Republicans face challenge over ...</td>\n",
              "      <td>WASHINGTON (Reuters) - U.S. Republicans in Con...</td>\n",
              "      <td>politicsNews</td>\n",
              "      <td>December 5, 2017</td>\n",
              "    </tr>\n",
              "    <tr>\n",
              "      <th>4</th>\n",
              "      <td>32476</td>\n",
              "      <td>China complains about Taiwan content in U.S. d...</td>\n",
              "      <td>BEIJING (Reuters) - China said on Thursday it ...</td>\n",
              "      <td>worldnews</td>\n",
              "      <td>December 14, 2017</td>\n",
              "    </tr>\n",
              "  </tbody>\n",
              "</table>\n",
              "</div>\n",
              "      <button class=\"colab-df-convert\" onclick=\"convertToInteractive('df-e49ef26a-4e45-4d02-9da5-5c3d8bc89fb8')\"\n",
              "              title=\"Convert this dataframe to an interactive table.\"\n",
              "              style=\"display:none;\">\n",
              "        \n",
              "  <svg xmlns=\"http://www.w3.org/2000/svg\" height=\"24px\"viewBox=\"0 0 24 24\"\n",
              "       width=\"24px\">\n",
              "    <path d=\"M0 0h24v24H0V0z\" fill=\"none\"/>\n",
              "    <path d=\"M18.56 5.44l.94 2.06.94-2.06 2.06-.94-2.06-.94-.94-2.06-.94 2.06-2.06.94zm-11 1L8.5 8.5l.94-2.06 2.06-.94-2.06-.94L8.5 2.5l-.94 2.06-2.06.94zm10 10l.94 2.06.94-2.06 2.06-.94-2.06-.94-.94-2.06-.94 2.06-2.06.94z\"/><path d=\"M17.41 7.96l-1.37-1.37c-.4-.4-.92-.59-1.43-.59-.52 0-1.04.2-1.43.59L10.3 9.45l-7.72 7.72c-.78.78-.78 2.05 0 2.83L4 21.41c.39.39.9.59 1.41.59.51 0 1.02-.2 1.41-.59l7.78-7.78 2.81-2.81c.8-.78.8-2.07 0-2.86zM5.41 20L4 18.59l7.72-7.72 1.47 1.35L5.41 20z\"/>\n",
              "  </svg>\n",
              "      </button>\n",
              "      \n",
              "  <style>\n",
              "    .colab-df-container {\n",
              "      display:flex;\n",
              "      flex-wrap:wrap;\n",
              "      gap: 12px;\n",
              "    }\n",
              "\n",
              "    .colab-df-convert {\n",
              "      background-color: #E8F0FE;\n",
              "      border: none;\n",
              "      border-radius: 50%;\n",
              "      cursor: pointer;\n",
              "      display: none;\n",
              "      fill: #1967D2;\n",
              "      height: 32px;\n",
              "      padding: 0 0 0 0;\n",
              "      width: 32px;\n",
              "    }\n",
              "\n",
              "    .colab-df-convert:hover {\n",
              "      background-color: #E2EBFA;\n",
              "      box-shadow: 0px 1px 2px rgba(60, 64, 67, 0.3), 0px 1px 3px 1px rgba(60, 64, 67, 0.15);\n",
              "      fill: #174EA6;\n",
              "    }\n",
              "\n",
              "    [theme=dark] .colab-df-convert {\n",
              "      background-color: #3B4455;\n",
              "      fill: #D2E3FC;\n",
              "    }\n",
              "\n",
              "    [theme=dark] .colab-df-convert:hover {\n",
              "      background-color: #434B5C;\n",
              "      box-shadow: 0px 1px 3px 1px rgba(0, 0, 0, 0.15);\n",
              "      filter: drop-shadow(0px 1px 2px rgba(0, 0, 0, 0.3));\n",
              "      fill: #FFFFFF;\n",
              "    }\n",
              "  </style>\n",
              "\n",
              "      <script>\n",
              "        const buttonEl =\n",
              "          document.querySelector('#df-e49ef26a-4e45-4d02-9da5-5c3d8bc89fb8 button.colab-df-convert');\n",
              "        buttonEl.style.display =\n",
              "          google.colab.kernel.accessAllowed ? 'block' : 'none';\n",
              "\n",
              "        async function convertToInteractive(key) {\n",
              "          const element = document.querySelector('#df-e49ef26a-4e45-4d02-9da5-5c3d8bc89fb8');\n",
              "          const dataTable =\n",
              "            await google.colab.kernel.invokeFunction('convertToInteractive',\n",
              "                                                     [key], {});\n",
              "          if (!dataTable) return;\n",
              "\n",
              "          const docLinkHtml = 'Like what you see? Visit the ' +\n",
              "            '<a target=\"_blank\" href=https://colab.research.google.com/notebooks/data_table.ipynb>data table notebook</a>'\n",
              "            + ' to learn more about interactive tables.';\n",
              "          element.innerHTML = '';\n",
              "          dataTable['output_type'] = 'display_data';\n",
              "          await google.colab.output.renderOutput(dataTable, element);\n",
              "          const docLink = document.createElement('div');\n",
              "          docLink.innerHTML = docLinkHtml;\n",
              "          element.appendChild(docLink);\n",
              "        }\n",
              "      </script>\n",
              "    </div>\n",
              "  </div>\n",
              "  "
            ],
            "text/plain": [
              "      Id  ...                date\n",
              "0  22216  ...    October 9, 2017 \n",
              "1  27917  ...     March 11, 2016 \n",
              "2  25007  ...        Jun 30, 2017\n",
              "3   1377  ...   December 5, 2017 \n",
              "4  32476  ...  December 14, 2017 \n",
              "\n",
              "[5 rows x 5 columns]"
            ]
          },
          "metadata": {},
          "execution_count": 109
        }
      ]
    },
    {
      "cell_type": "code",
      "source": [
        "#Records in test dataframe\n",
        "len(test_df)"
      ],
      "metadata": {
        "id": "gY_JngdlAVGc",
        "colab": {
          "base_uri": "https://localhost:8080/"
        },
        "outputId": "95c4ccf1-4935-48d7-8df5-e1c6acb5262c"
      },
      "execution_count": 110,
      "outputs": [
        {
          "output_type": "execute_result",
          "data": {
            "text/plain": [
              "13470"
            ]
          },
          "metadata": {},
          "execution_count": 110
        }
      ]
    },
    {
      "cell_type": "markdown",
      "source": [
        "### Dropping null values"
      ],
      "metadata": {
        "id": "VafD6B82ZFpm"
      }
    },
    {
      "cell_type": "code",
      "source": [
        "train_df = train_df.dropna()\n",
        "train_df"
      ],
      "metadata": {
        "id": "yfj_7ayTK31U",
        "colab": {
          "base_uri": "https://localhost:8080/",
          "height": 467
        },
        "outputId": "61a961e7-e9a6-4efe-ebad-72b47e26e7da"
      },
      "execution_count": 111,
      "outputs": [
        {
          "output_type": "execute_result",
          "data": {
            "text/html": [
              "\n",
              "  <div id=\"df-cef7898d-dbde-4bfb-b18c-e97df608393d\">\n",
              "    <div class=\"colab-df-container\">\n",
              "      <div>\n",
              "<style scoped>\n",
              "    .dataframe tbody tr th:only-of-type {\n",
              "        vertical-align: middle;\n",
              "    }\n",
              "\n",
              "    .dataframe tbody tr th {\n",
              "        vertical-align: top;\n",
              "    }\n",
              "\n",
              "    .dataframe thead th {\n",
              "        text-align: right;\n",
              "    }\n",
              "</style>\n",
              "<table border=\"1\" class=\"dataframe\">\n",
              "  <thead>\n",
              "    <tr style=\"text-align: right;\">\n",
              "      <th></th>\n",
              "      <th>Id</th>\n",
              "      <th>title</th>\n",
              "      <th>text</th>\n",
              "      <th>subject</th>\n",
              "      <th>date</th>\n",
              "      <th>label</th>\n",
              "    </tr>\n",
              "  </thead>\n",
              "  <tbody>\n",
              "    <tr>\n",
              "      <th>0</th>\n",
              "      <td>13970</td>\n",
              "      <td>WATCH: Paul Manafort Gets DESTROYED On CNN Fo...</td>\n",
              "      <td>Paul Manafort, the chair of Donald Trump s cam...</td>\n",
              "      <td>News</td>\n",
              "      <td>August 14, 2016</td>\n",
              "      <td>1</td>\n",
              "    </tr>\n",
              "    <tr>\n",
              "      <th>1</th>\n",
              "      <td>41668</td>\n",
              "      <td>REFUGEE BUSINESS IS CASH COW FOR LUTHERAN CHAR...</td>\n",
              "      <td>How very  charitable  of the Lutheran and Cath...</td>\n",
              "      <td>left-news</td>\n",
              "      <td>May 8, 2015</td>\n",
              "      <td>1</td>\n",
              "    </tr>\n",
              "    <tr>\n",
              "      <th>2</th>\n",
              "      <td>26810</td>\n",
              "      <td>Trump’s Excuse For All His Sexist Statements ...</td>\n",
              "      <td>In case you ve been living under a rock for yo...</td>\n",
              "      <td>News</td>\n",
              "      <td>March 28, 2016</td>\n",
              "      <td>1</td>\n",
              "    </tr>\n",
              "    <tr>\n",
              "      <th>3</th>\n",
              "      <td>30967</td>\n",
              "      <td>'Jihadi Gran' gets 10 years after joining son ...</td>\n",
              "      <td>PARIS (Reuters) - A court on Friday sentenced ...</td>\n",
              "      <td>worldnews</td>\n",
              "      <td>October 6, 2017</td>\n",
              "      <td>0</td>\n",
              "    </tr>\n",
              "    <tr>\n",
              "      <th>4</th>\n",
              "      <td>26072</td>\n",
              "      <td>New Czech government to seek confidence vote o...</td>\n",
              "      <td>PRAGUE (Reuters) - The Czech government will s...</td>\n",
              "      <td>worldnews</td>\n",
              "      <td>December 13, 2017</td>\n",
              "      <td>0</td>\n",
              "    </tr>\n",
              "    <tr>\n",
              "      <th>...</th>\n",
              "      <td>...</td>\n",
              "      <td>...</td>\n",
              "      <td>...</td>\n",
              "      <td>...</td>\n",
              "      <td>...</td>\n",
              "      <td>...</td>\n",
              "    </tr>\n",
              "    <tr>\n",
              "      <th>31423</th>\n",
              "      <td>11284</td>\n",
              "      <td>CHICAGO TRUMP RALLY CANCELLED: Radicals And BL...</td>\n",
              "      <td>A huge rally of 10,000 Chicagoans didn t get t...</td>\n",
              "      <td>politics</td>\n",
              "      <td>Mar 11, 2016</td>\n",
              "      <td>1</td>\n",
              "    </tr>\n",
              "    <tr>\n",
              "      <th>31424</th>\n",
              "      <td>44732</td>\n",
              "      <td>Trump supports completion of Dakota Access Pip...</td>\n",
              "      <td>WASHINGTON (Reuters) - U.S. President-elect Do...</td>\n",
              "      <td>politicsNews</td>\n",
              "      <td>December 5, 2016</td>\n",
              "      <td>0</td>\n",
              "    </tr>\n",
              "    <tr>\n",
              "      <th>31425</th>\n",
              "      <td>38158</td>\n",
              "      <td>Obama Can’t Stop Winning As New Jobs Report S...</td>\n",
              "      <td>Today, I would hate to be a Republican strateg...</td>\n",
              "      <td>News</td>\n",
              "      <td>January 8, 2016</td>\n",
              "      <td>1</td>\n",
              "    </tr>\n",
              "    <tr>\n",
              "      <th>31426</th>\n",
              "      <td>860</td>\n",
              "      <td>Turkey bank regulator dismisses 'rumors' after...</td>\n",
              "      <td>ANKARA (Reuters) - Turkey s banking regulator ...</td>\n",
              "      <td>worldnews</td>\n",
              "      <td>October 21, 2017</td>\n",
              "      <td>0</td>\n",
              "    </tr>\n",
              "    <tr>\n",
              "      <th>31427</th>\n",
              "      <td>15795</td>\n",
              "      <td>California mayors ask for governor's support f...</td>\n",
              "      <td>(Reuters) - Five mayors in northern California...</td>\n",
              "      <td>politicsNews</td>\n",
              "      <td>May 27, 2016</td>\n",
              "      <td>0</td>\n",
              "    </tr>\n",
              "  </tbody>\n",
              "</table>\n",
              "<p>31428 rows × 6 columns</p>\n",
              "</div>\n",
              "      <button class=\"colab-df-convert\" onclick=\"convertToInteractive('df-cef7898d-dbde-4bfb-b18c-e97df608393d')\"\n",
              "              title=\"Convert this dataframe to an interactive table.\"\n",
              "              style=\"display:none;\">\n",
              "        \n",
              "  <svg xmlns=\"http://www.w3.org/2000/svg\" height=\"24px\"viewBox=\"0 0 24 24\"\n",
              "       width=\"24px\">\n",
              "    <path d=\"M0 0h24v24H0V0z\" fill=\"none\"/>\n",
              "    <path d=\"M18.56 5.44l.94 2.06.94-2.06 2.06-.94-2.06-.94-.94-2.06-.94 2.06-2.06.94zm-11 1L8.5 8.5l.94-2.06 2.06-.94-2.06-.94L8.5 2.5l-.94 2.06-2.06.94zm10 10l.94 2.06.94-2.06 2.06-.94-2.06-.94-.94-2.06-.94 2.06-2.06.94z\"/><path d=\"M17.41 7.96l-1.37-1.37c-.4-.4-.92-.59-1.43-.59-.52 0-1.04.2-1.43.59L10.3 9.45l-7.72 7.72c-.78.78-.78 2.05 0 2.83L4 21.41c.39.39.9.59 1.41.59.51 0 1.02-.2 1.41-.59l7.78-7.78 2.81-2.81c.8-.78.8-2.07 0-2.86zM5.41 20L4 18.59l7.72-7.72 1.47 1.35L5.41 20z\"/>\n",
              "  </svg>\n",
              "      </button>\n",
              "      \n",
              "  <style>\n",
              "    .colab-df-container {\n",
              "      display:flex;\n",
              "      flex-wrap:wrap;\n",
              "      gap: 12px;\n",
              "    }\n",
              "\n",
              "    .colab-df-convert {\n",
              "      background-color: #E8F0FE;\n",
              "      border: none;\n",
              "      border-radius: 50%;\n",
              "      cursor: pointer;\n",
              "      display: none;\n",
              "      fill: #1967D2;\n",
              "      height: 32px;\n",
              "      padding: 0 0 0 0;\n",
              "      width: 32px;\n",
              "    }\n",
              "\n",
              "    .colab-df-convert:hover {\n",
              "      background-color: #E2EBFA;\n",
              "      box-shadow: 0px 1px 2px rgba(60, 64, 67, 0.3), 0px 1px 3px 1px rgba(60, 64, 67, 0.15);\n",
              "      fill: #174EA6;\n",
              "    }\n",
              "\n",
              "    [theme=dark] .colab-df-convert {\n",
              "      background-color: #3B4455;\n",
              "      fill: #D2E3FC;\n",
              "    }\n",
              "\n",
              "    [theme=dark] .colab-df-convert:hover {\n",
              "      background-color: #434B5C;\n",
              "      box-shadow: 0px 1px 3px 1px rgba(0, 0, 0, 0.15);\n",
              "      filter: drop-shadow(0px 1px 2px rgba(0, 0, 0, 0.3));\n",
              "      fill: #FFFFFF;\n",
              "    }\n",
              "  </style>\n",
              "\n",
              "      <script>\n",
              "        const buttonEl =\n",
              "          document.querySelector('#df-cef7898d-dbde-4bfb-b18c-e97df608393d button.colab-df-convert');\n",
              "        buttonEl.style.display =\n",
              "          google.colab.kernel.accessAllowed ? 'block' : 'none';\n",
              "\n",
              "        async function convertToInteractive(key) {\n",
              "          const element = document.querySelector('#df-cef7898d-dbde-4bfb-b18c-e97df608393d');\n",
              "          const dataTable =\n",
              "            await google.colab.kernel.invokeFunction('convertToInteractive',\n",
              "                                                     [key], {});\n",
              "          if (!dataTable) return;\n",
              "\n",
              "          const docLinkHtml = 'Like what you see? Visit the ' +\n",
              "            '<a target=\"_blank\" href=https://colab.research.google.com/notebooks/data_table.ipynb>data table notebook</a>'\n",
              "            + ' to learn more about interactive tables.';\n",
              "          element.innerHTML = '';\n",
              "          dataTable['output_type'] = 'display_data';\n",
              "          await google.colab.output.renderOutput(dataTable, element);\n",
              "          const docLink = document.createElement('div');\n",
              "          docLink.innerHTML = docLinkHtml;\n",
              "          element.appendChild(docLink);\n",
              "        }\n",
              "      </script>\n",
              "    </div>\n",
              "  </div>\n",
              "  "
            ],
            "text/plain": [
              "          Id  ... label\n",
              "0      13970  ...     1\n",
              "1      41668  ...     1\n",
              "2      26810  ...     1\n",
              "3      30967  ...     0\n",
              "4      26072  ...     0\n",
              "...      ...  ...   ...\n",
              "31423  11284  ...     1\n",
              "31424  44732  ...     0\n",
              "31425  38158  ...     1\n",
              "31426    860  ...     0\n",
              "31427  15795  ...     0\n",
              "\n",
              "[31428 rows x 6 columns]"
            ]
          },
          "metadata": {},
          "execution_count": 111
        }
      ]
    },
    {
      "cell_type": "markdown",
      "source": [
        "### Removing Stopwords"
      ],
      "metadata": {
        "id": "UxEqL0ovZKE8"
      }
    },
    {
      "cell_type": "code",
      "source": [
        "stop_words = corpus.stopwords.words('english')\n",
        "def remove_stopwords(text):\n",
        "    return ' '.join(word.lower() for word in text.split(' ') if word not in stop_words)\n",
        "\n",
        "train_df.text = train_df.text.apply(remove_stopwords)"
      ],
      "metadata": {
        "id": "ruYYTxC5Eg0h"
      },
      "execution_count": 112,
      "outputs": []
    },
    {
      "cell_type": "code",
      "source": [
        "train_df.head()"
      ],
      "metadata": {
        "id": "cFHf8RG7GDCD",
        "colab": {
          "base_uri": "https://localhost:8080/",
          "height": 250
        },
        "outputId": "7f649818-2feb-4538-d18c-c650150c8546"
      },
      "execution_count": 113,
      "outputs": [
        {
          "output_type": "execute_result",
          "data": {
            "text/html": [
              "\n",
              "  <div id=\"df-ccd01892-2437-4d53-81bc-fa8da8d35ff0\">\n",
              "    <div class=\"colab-df-container\">\n",
              "      <div>\n",
              "<style scoped>\n",
              "    .dataframe tbody tr th:only-of-type {\n",
              "        vertical-align: middle;\n",
              "    }\n",
              "\n",
              "    .dataframe tbody tr th {\n",
              "        vertical-align: top;\n",
              "    }\n",
              "\n",
              "    .dataframe thead th {\n",
              "        text-align: right;\n",
              "    }\n",
              "</style>\n",
              "<table border=\"1\" class=\"dataframe\">\n",
              "  <thead>\n",
              "    <tr style=\"text-align: right;\">\n",
              "      <th></th>\n",
              "      <th>Id</th>\n",
              "      <th>title</th>\n",
              "      <th>text</th>\n",
              "      <th>subject</th>\n",
              "      <th>date</th>\n",
              "      <th>label</th>\n",
              "    </tr>\n",
              "  </thead>\n",
              "  <tbody>\n",
              "    <tr>\n",
              "      <th>0</th>\n",
              "      <td>13970</td>\n",
              "      <td>WATCH: Paul Manafort Gets DESTROYED On CNN Fo...</td>\n",
              "      <td>Paul Manafort, chair Donald Trump campaign, go...</td>\n",
              "      <td>News</td>\n",
              "      <td>August 14, 2016</td>\n",
              "      <td>1</td>\n",
              "    </tr>\n",
              "    <tr>\n",
              "      <th>1</th>\n",
              "      <td>41668</td>\n",
              "      <td>REFUGEE BUSINESS IS CASH COW FOR LUTHERAN CHAR...</td>\n",
              "      <td>How  charitable  Lutheran Catholic churches br...</td>\n",
              "      <td>left-news</td>\n",
              "      <td>May 8, 2015</td>\n",
              "      <td>1</td>\n",
              "    </tr>\n",
              "    <tr>\n",
              "      <th>2</th>\n",
              "      <td>26810</td>\n",
              "      <td>Trump’s Excuse For All His Sexist Statements ...</td>\n",
              "      <td>In case living rock entire life, especially ca...</td>\n",
              "      <td>News</td>\n",
              "      <td>March 28, 2016</td>\n",
              "      <td>1</td>\n",
              "    </tr>\n",
              "    <tr>\n",
              "      <th>3</th>\n",
              "      <td>30967</td>\n",
              "      <td>'Jihadi Gran' gets 10 years after joining son ...</td>\n",
              "      <td>PARIS (Reuters) - A court Friday sentenced rad...</td>\n",
              "      <td>worldnews</td>\n",
              "      <td>October 6, 2017</td>\n",
              "      <td>0</td>\n",
              "    </tr>\n",
              "    <tr>\n",
              "      <th>4</th>\n",
              "      <td>26072</td>\n",
              "      <td>New Czech government to seek confidence vote o...</td>\n",
              "      <td>PRAGUE (Reuters) - The Czech government seek v...</td>\n",
              "      <td>worldnews</td>\n",
              "      <td>December 13, 2017</td>\n",
              "      <td>0</td>\n",
              "    </tr>\n",
              "  </tbody>\n",
              "</table>\n",
              "</div>\n",
              "      <button class=\"colab-df-convert\" onclick=\"convertToInteractive('df-ccd01892-2437-4d53-81bc-fa8da8d35ff0')\"\n",
              "              title=\"Convert this dataframe to an interactive table.\"\n",
              "              style=\"display:none;\">\n",
              "        \n",
              "  <svg xmlns=\"http://www.w3.org/2000/svg\" height=\"24px\"viewBox=\"0 0 24 24\"\n",
              "       width=\"24px\">\n",
              "    <path d=\"M0 0h24v24H0V0z\" fill=\"none\"/>\n",
              "    <path d=\"M18.56 5.44l.94 2.06.94-2.06 2.06-.94-2.06-.94-.94-2.06-.94 2.06-2.06.94zm-11 1L8.5 8.5l.94-2.06 2.06-.94-2.06-.94L8.5 2.5l-.94 2.06-2.06.94zm10 10l.94 2.06.94-2.06 2.06-.94-2.06-.94-.94-2.06-.94 2.06-2.06.94z\"/><path d=\"M17.41 7.96l-1.37-1.37c-.4-.4-.92-.59-1.43-.59-.52 0-1.04.2-1.43.59L10.3 9.45l-7.72 7.72c-.78.78-.78 2.05 0 2.83L4 21.41c.39.39.9.59 1.41.59.51 0 1.02-.2 1.41-.59l7.78-7.78 2.81-2.81c.8-.78.8-2.07 0-2.86zM5.41 20L4 18.59l7.72-7.72 1.47 1.35L5.41 20z\"/>\n",
              "  </svg>\n",
              "      </button>\n",
              "      \n",
              "  <style>\n",
              "    .colab-df-container {\n",
              "      display:flex;\n",
              "      flex-wrap:wrap;\n",
              "      gap: 12px;\n",
              "    }\n",
              "\n",
              "    .colab-df-convert {\n",
              "      background-color: #E8F0FE;\n",
              "      border: none;\n",
              "      border-radius: 50%;\n",
              "      cursor: pointer;\n",
              "      display: none;\n",
              "      fill: #1967D2;\n",
              "      height: 32px;\n",
              "      padding: 0 0 0 0;\n",
              "      width: 32px;\n",
              "    }\n",
              "\n",
              "    .colab-df-convert:hover {\n",
              "      background-color: #E2EBFA;\n",
              "      box-shadow: 0px 1px 2px rgba(60, 64, 67, 0.3), 0px 1px 3px 1px rgba(60, 64, 67, 0.15);\n",
              "      fill: #174EA6;\n",
              "    }\n",
              "\n",
              "    [theme=dark] .colab-df-convert {\n",
              "      background-color: #3B4455;\n",
              "      fill: #D2E3FC;\n",
              "    }\n",
              "\n",
              "    [theme=dark] .colab-df-convert:hover {\n",
              "      background-color: #434B5C;\n",
              "      box-shadow: 0px 1px 3px 1px rgba(0, 0, 0, 0.15);\n",
              "      filter: drop-shadow(0px 1px 2px rgba(0, 0, 0, 0.3));\n",
              "      fill: #FFFFFF;\n",
              "    }\n",
              "  </style>\n",
              "\n",
              "      <script>\n",
              "        const buttonEl =\n",
              "          document.querySelector('#df-ccd01892-2437-4d53-81bc-fa8da8d35ff0 button.colab-df-convert');\n",
              "        buttonEl.style.display =\n",
              "          google.colab.kernel.accessAllowed ? 'block' : 'none';\n",
              "\n",
              "        async function convertToInteractive(key) {\n",
              "          const element = document.querySelector('#df-ccd01892-2437-4d53-81bc-fa8da8d35ff0');\n",
              "          const dataTable =\n",
              "            await google.colab.kernel.invokeFunction('convertToInteractive',\n",
              "                                                     [key], {});\n",
              "          if (!dataTable) return;\n",
              "\n",
              "          const docLinkHtml = 'Like what you see? Visit the ' +\n",
              "            '<a target=\"_blank\" href=https://colab.research.google.com/notebooks/data_table.ipynb>data table notebook</a>'\n",
              "            + ' to learn more about interactive tables.';\n",
              "          element.innerHTML = '';\n",
              "          dataTable['output_type'] = 'display_data';\n",
              "          await google.colab.output.renderOutput(dataTable, element);\n",
              "          const docLink = document.createElement('div');\n",
              "          docLink.innerHTML = docLinkHtml;\n",
              "          element.appendChild(docLink);\n",
              "        }\n",
              "      </script>\n",
              "    </div>\n",
              "  </div>\n",
              "  "
            ],
            "text/plain": [
              "      Id  ... label\n",
              "0  13970  ...     1\n",
              "1  41668  ...     1\n",
              "2  26810  ...     1\n",
              "3  30967  ...     0\n",
              "4  26072  ...     0\n",
              "\n",
              "[5 rows x 6 columns]"
            ]
          },
          "metadata": {},
          "execution_count": 113
        }
      ]
    },
    {
      "cell_type": "markdown",
      "source": [
        "### Removing junk characters"
      ],
      "metadata": {
        "id": "EZWmkjUzr09E"
      }
    },
    {
      "cell_type": "code",
      "source": [
        "train_df.text = train_df.text.str.replace('\\d+','')"
      ],
      "metadata": {
        "id": "FnIFPjftr0Hy"
      },
      "execution_count": 114,
      "outputs": []
    },
    {
      "cell_type": "markdown",
      "source": [
        "### Lemmatization"
      ],
      "metadata": {
        "id": "_RRip4M1Zl0z"
      }
    },
    {
      "cell_type": "code",
      "source": [
        "# ps = PorterStemmer()\n",
        "# def stemming(text):\n",
        "#     return ' '.join(ps.stem(word) for word in text.split(' ') if word not in stop_words)\n",
        "\n",
        "# train_df.text = train_df.text.apply(stemming)"
      ],
      "metadata": {
        "id": "NlW62usQGC8F"
      },
      "execution_count": 115,
      "outputs": []
    },
    {
      "cell_type": "code",
      "source": [
        "lemmatizer = WordNetLemmatizer()\n",
        "def lemmatizing(text):\n",
        "    return ' '.join(lemmatizer.lemmatize(word) for word in text.split(' ') )\n",
        "\n",
        "train_df.text = train_df.text.apply(lemmatizing)"
      ],
      "metadata": {
        "id": "2pR66wjfr8rA"
      },
      "execution_count": 116,
      "outputs": []
    },
    {
      "cell_type": "markdown",
      "source": [
        "### Calculate TF-IDF"
      ],
      "metadata": {
        "id": "MQ8i__pXZtOn"
      }
    },
    {
      "cell_type": "code",
      "source": [
        "tfidf =TfidfVectorizer(max_features=5000, ngram_range=(1,3))\n",
        "X = tfidf.fit_transform(train_df.text).toarray()"
      ],
      "metadata": {
        "id": "gV5Eo7_nXdtS"
      },
      "execution_count": 117,
      "outputs": []
    },
    {
      "cell_type": "code",
      "source": [
        "X.shape"
      ],
      "metadata": {
        "id": "eDnu4eSgbOyj",
        "colab": {
          "base_uri": "https://localhost:8080/"
        },
        "outputId": "2923f20a-2335-4545-df84-c67cf6952078"
      },
      "execution_count": 118,
      "outputs": [
        {
          "output_type": "execute_result",
          "data": {
            "text/plain": [
              "(31428, 5000)"
            ]
          },
          "metadata": {},
          "execution_count": 118
        }
      ]
    },
    {
      "cell_type": "code",
      "source": [
        "y = train_df.label"
      ],
      "metadata": {
        "id": "JxbKuoq2d8hj"
      },
      "execution_count": 119,
      "outputs": []
    },
    {
      "cell_type": "code",
      "source": [
        "y[:10]"
      ],
      "metadata": {
        "id": "8_heMnBaexPo",
        "colab": {
          "base_uri": "https://localhost:8080/"
        },
        "outputId": "9f7ebb95-eda9-41a8-e4ef-2247c3d9c5c5"
      },
      "execution_count": 120,
      "outputs": [
        {
          "output_type": "execute_result",
          "data": {
            "text/plain": [
              "0    1\n",
              "1    1\n",
              "2    1\n",
              "3    0\n",
              "4    0\n",
              "5    1\n",
              "6    1\n",
              "7    1\n",
              "8    0\n",
              "9    0\n",
              "Name: label, dtype: int64"
            ]
          },
          "metadata": {},
          "execution_count": 120
        }
      ]
    },
    {
      "cell_type": "markdown",
      "source": [
        "Create train-validation data split"
      ],
      "metadata": {
        "id": "lWpsq0JjZ4An"
      }
    },
    {
      "cell_type": "code",
      "source": [
        "x_train, x_dev, y_train, y_dev = train_test_split(X,y,train_size=0.25, random_state = 12)"
      ],
      "metadata": {
        "id": "WFrQCM3AeXWN"
      },
      "execution_count": 121,
      "outputs": []
    },
    {
      "cell_type": "markdown",
      "source": [
        "### Naive Bayes Classifier"
      ],
      "metadata": {
        "id": "gn29CHd9Z9uy"
      }
    },
    {
      "cell_type": "code",
      "source": [
        "classifier = MultinomialNB().fit(x_train,y_train)\n",
        "preds = classifier.predict(x_dev)"
      ],
      "metadata": {
        "id": "JjuQ09FLbOp1"
      },
      "execution_count": 122,
      "outputs": []
    },
    {
      "cell_type": "code",
      "source": [
        "preds[:10]"
      ],
      "metadata": {
        "id": "U7JJsstbbOmE",
        "colab": {
          "base_uri": "https://localhost:8080/"
        },
        "outputId": "8503934c-f29d-444a-a89d-1a16b120928f"
      },
      "execution_count": 123,
      "outputs": [
        {
          "output_type": "execute_result",
          "data": {
            "text/plain": [
              "array([0, 1, 1, 1, 1, 0, 0, 0, 0, 1])"
            ]
          },
          "metadata": {},
          "execution_count": 123
        }
      ]
    },
    {
      "cell_type": "markdown",
      "source": [
        "### Calculate accuracy"
      ],
      "metadata": {
        "id": "z0T0MtYDaBu_"
      }
    },
    {
      "cell_type": "code",
      "source": [
        "def accuracy(preds, actual):\n",
        "  acc = 0 \n",
        "  for i,j in zip(preds, actual):\n",
        "    if i == j:\n",
        "      acc += 1\n",
        "\n",
        "  return acc/len(actual)\n",
        "\n",
        "accuracy(preds, y_dev)"
      ],
      "metadata": {
        "id": "kNBw69GUd6Iy",
        "colab": {
          "base_uri": "https://localhost:8080/"
        },
        "outputId": "1db0d53e-499e-4009-a37f-150178100309"
      },
      "execution_count": 124,
      "outputs": [
        {
          "output_type": "execute_result",
          "data": {
            "text/plain": [
              "0.9492596835093972"
            ]
          },
          "metadata": {},
          "execution_count": 124
        }
      ]
    },
    {
      "cell_type": "markdown",
      "source": [
        "### Calculate Precision and Recall"
      ],
      "metadata": {
        "id": "OlGXbqQ1a5Oo"
      }
    },
    {
      "cell_type": "code",
      "source": [
        "def precision(gold_labels, predicted_labels, positive_label = '1'):\n",
        "    tp = 0\n",
        "    fp = 0\n",
        "    tn = 0\n",
        "    fn = 0\n",
        "    for i,j in zip(gold_labels, predicted_labels):\n",
        "      if i == positive_label:\n",
        "          if j == i:\n",
        "              tp += 1\n",
        "          else:\n",
        "              fn += 1\n",
        "      else:\n",
        "          if j == i:\n",
        "              tn += 1\n",
        "          else:\n",
        "              fp += 1\n",
        "    return (tp) / (tp + fp)\n",
        "\n",
        "\n",
        "def recall(gold_labels, predicted_labels, positive_label = '1'):\n",
        "    tp = 0\n",
        "    fp = 0\n",
        "    tn = 0\n",
        "    fn = 0\n",
        "    for i,j in zip(gold_labels, predicted_labels):\n",
        "        if i == positive_label:\n",
        "            if i == j:\n",
        "                tp += 1\n",
        "            else:\n",
        "                fn += 1\n",
        "        else:\n",
        "            if i == j:\n",
        "                tn += 1\n",
        "            else:\n",
        "                fp += 1\n",
        "    return (tp) / (tp + fn)\n",
        "    "
      ],
      "metadata": {
        "id": "rjUCsj3td6DL"
      },
      "execution_count": 125,
      "outputs": []
    },
    {
      "cell_type": "code",
      "source": [
        "precision(y_dev.tolist(), list(preds.flatten()), 1)"
      ],
      "metadata": {
        "id": "9FTqybxQfa_i",
        "colab": {
          "base_uri": "https://localhost:8080/"
        },
        "outputId": "802e0f5f-5be2-443d-a174-3599739b2e09"
      },
      "execution_count": 126,
      "outputs": [
        {
          "output_type": "execute_result",
          "data": {
            "text/plain": [
              "0.9544863459037711"
            ]
          },
          "metadata": {},
          "execution_count": 126
        }
      ]
    },
    {
      "cell_type": "code",
      "source": [
        "recall(y_dev.tolist(), list(preds.flatten()), 1)"
      ],
      "metadata": {
        "id": "g8KRtlWDfa1u",
        "colab": {
          "base_uri": "https://localhost:8080/"
        },
        "outputId": "dbef533c-c3ae-4906-f3b3-73e00330da19"
      },
      "execution_count": 127,
      "outputs": [
        {
          "output_type": "execute_result",
          "data": {
            "text/plain": [
              "0.948626817447496"
            ]
          },
          "metadata": {},
          "execution_count": 127
        }
      ]
    },
    {
      "cell_type": "markdown",
      "source": [
        "### Getting Topical relevance"
      ],
      "metadata": {
        "id": "xzJd46DTlBRf"
      }
    },
    {
      "cell_type": "code",
      "source": [
        "# Topics in the dataset\n",
        "train_df[\"subject\"].value_counts()"
      ],
      "metadata": {
        "colab": {
          "base_uri": "https://localhost:8080/"
        },
        "id": "mafxIFQ5lHTK",
        "outputId": "4133ada7-38a5-485c-8f9c-97441c819aba"
      },
      "execution_count": 139,
      "outputs": [
        {
          "output_type": "execute_result",
          "data": {
            "text/plain": [
              "politicsNews       7863\n",
              "worldnews          7088\n",
              "News               6378\n",
              "politics           4832\n",
              "left-news          3096\n",
              "Government News    1089\n",
              "US_News             546\n",
              "Middle-east         536\n",
              "Name: subject, dtype: int64"
            ]
          },
          "metadata": {},
          "execution_count": 139
        }
      ]
    },
    {
      "cell_type": "code",
      "source": [
        "#Convert topics to numeric values\n",
        "train_df[\"subject\"] = train_df[\"subject\"].astype('category')\n",
        "train_df[\"subject_label\"] = train_df[\"subject\"].cat.codes"
      ],
      "metadata": {
        "id": "wl0cy0ZqlHNe"
      },
      "execution_count": 140,
      "outputs": []
    },
    {
      "cell_type": "code",
      "source": [
        "train_df"
      ],
      "metadata": {
        "colab": {
          "base_uri": "https://localhost:8080/",
          "height": 624
        },
        "id": "y0ctNZJolHDO",
        "outputId": "a6087ad7-bb66-49f2-8f44-393d9d38c82c"
      },
      "execution_count": 141,
      "outputs": [
        {
          "output_type": "execute_result",
          "data": {
            "text/html": [
              "\n",
              "  <div id=\"df-e5288885-d18c-480c-a037-71931c67edda\">\n",
              "    <div class=\"colab-df-container\">\n",
              "      <div>\n",
              "<style scoped>\n",
              "    .dataframe tbody tr th:only-of-type {\n",
              "        vertical-align: middle;\n",
              "    }\n",
              "\n",
              "    .dataframe tbody tr th {\n",
              "        vertical-align: top;\n",
              "    }\n",
              "\n",
              "    .dataframe thead th {\n",
              "        text-align: right;\n",
              "    }\n",
              "</style>\n",
              "<table border=\"1\" class=\"dataframe\">\n",
              "  <thead>\n",
              "    <tr style=\"text-align: right;\">\n",
              "      <th></th>\n",
              "      <th>Id</th>\n",
              "      <th>title</th>\n",
              "      <th>text</th>\n",
              "      <th>subject</th>\n",
              "      <th>date</th>\n",
              "      <th>label</th>\n",
              "      <th>subject_label</th>\n",
              "    </tr>\n",
              "  </thead>\n",
              "  <tbody>\n",
              "    <tr>\n",
              "      <th>0</th>\n",
              "      <td>13970</td>\n",
              "      <td>WATCH: Paul Manafort Gets DESTROYED On CNN Fo...</td>\n",
              "      <td>Paul Manafort, chair Donald Trump campaign, go...</td>\n",
              "      <td>News</td>\n",
              "      <td>August 14, 2016</td>\n",
              "      <td>1</td>\n",
              "      <td>2</td>\n",
              "    </tr>\n",
              "    <tr>\n",
              "      <th>1</th>\n",
              "      <td>41668</td>\n",
              "      <td>REFUGEE BUSINESS IS CASH COW FOR LUTHERAN CHAR...</td>\n",
              "      <td>How  charitable  Lutheran Catholic church brin...</td>\n",
              "      <td>left-news</td>\n",
              "      <td>May 8, 2015</td>\n",
              "      <td>1</td>\n",
              "      <td>4</td>\n",
              "    </tr>\n",
              "    <tr>\n",
              "      <th>2</th>\n",
              "      <td>26810</td>\n",
              "      <td>Trump’s Excuse For All His Sexist Statements ...</td>\n",
              "      <td>In case living rock entire life, especially ca...</td>\n",
              "      <td>News</td>\n",
              "      <td>March 28, 2016</td>\n",
              "      <td>1</td>\n",
              "      <td>2</td>\n",
              "    </tr>\n",
              "    <tr>\n",
              "      <th>3</th>\n",
              "      <td>30967</td>\n",
              "      <td>'Jihadi Gran' gets 10 years after joining son ...</td>\n",
              "      <td>PARIS (Reuters) - A court Friday sentenced rad...</td>\n",
              "      <td>worldnews</td>\n",
              "      <td>October 6, 2017</td>\n",
              "      <td>0</td>\n",
              "      <td>7</td>\n",
              "    </tr>\n",
              "    <tr>\n",
              "      <th>4</th>\n",
              "      <td>26072</td>\n",
              "      <td>New Czech government to seek confidence vote o...</td>\n",
              "      <td>PRAGUE (Reuters) - The Czech government seek v...</td>\n",
              "      <td>worldnews</td>\n",
              "      <td>December 13, 2017</td>\n",
              "      <td>0</td>\n",
              "      <td>7</td>\n",
              "    </tr>\n",
              "    <tr>\n",
              "      <th>...</th>\n",
              "      <td>...</td>\n",
              "      <td>...</td>\n",
              "      <td>...</td>\n",
              "      <td>...</td>\n",
              "      <td>...</td>\n",
              "      <td>...</td>\n",
              "      <td>...</td>\n",
              "    </tr>\n",
              "    <tr>\n",
              "      <th>31423</th>\n",
              "      <td>11284</td>\n",
              "      <td>CHICAGO TRUMP RALLY CANCELLED: Radicals And BL...</td>\n",
              "      <td>A huge rally , Chicagoans get hear candidate s...</td>\n",
              "      <td>politics</td>\n",
              "      <td>Mar 11, 2016</td>\n",
              "      <td>1</td>\n",
              "      <td>5</td>\n",
              "    </tr>\n",
              "    <tr>\n",
              "      <th>31424</th>\n",
              "      <td>44732</td>\n",
              "      <td>Trump supports completion of Dakota Access Pip...</td>\n",
              "      <td>WASHINGTON (Reuters) - U.S. President-elect Do...</td>\n",
              "      <td>politicsNews</td>\n",
              "      <td>December 5, 2016</td>\n",
              "      <td>0</td>\n",
              "      <td>6</td>\n",
              "    </tr>\n",
              "    <tr>\n",
              "      <th>31425</th>\n",
              "      <td>38158</td>\n",
              "      <td>Obama Can’t Stop Winning As New Jobs Report S...</td>\n",
              "      <td>Today, I would hate Republican strategist. Why...</td>\n",
              "      <td>News</td>\n",
              "      <td>January 8, 2016</td>\n",
              "      <td>1</td>\n",
              "      <td>2</td>\n",
              "    </tr>\n",
              "    <tr>\n",
              "      <th>31426</th>\n",
              "      <td>860</td>\n",
              "      <td>Turkey bank regulator dismisses 'rumors' after...</td>\n",
              "      <td>ANKARA (Reuters) - Turkey banking regulator ur...</td>\n",
              "      <td>worldnews</td>\n",
              "      <td>October 21, 2017</td>\n",
              "      <td>0</td>\n",
              "      <td>7</td>\n",
              "    </tr>\n",
              "    <tr>\n",
              "      <th>31427</th>\n",
              "      <td>15795</td>\n",
              "      <td>California mayors ask for governor's support f...</td>\n",
              "      <td>(Reuters) - Five mayor northern California Thu...</td>\n",
              "      <td>politicsNews</td>\n",
              "      <td>May 27, 2016</td>\n",
              "      <td>0</td>\n",
              "      <td>6</td>\n",
              "    </tr>\n",
              "  </tbody>\n",
              "</table>\n",
              "<p>31428 rows × 7 columns</p>\n",
              "</div>\n",
              "      <button class=\"colab-df-convert\" onclick=\"convertToInteractive('df-e5288885-d18c-480c-a037-71931c67edda')\"\n",
              "              title=\"Convert this dataframe to an interactive table.\"\n",
              "              style=\"display:none;\">\n",
              "        \n",
              "  <svg xmlns=\"http://www.w3.org/2000/svg\" height=\"24px\"viewBox=\"0 0 24 24\"\n",
              "       width=\"24px\">\n",
              "    <path d=\"M0 0h24v24H0V0z\" fill=\"none\"/>\n",
              "    <path d=\"M18.56 5.44l.94 2.06.94-2.06 2.06-.94-2.06-.94-.94-2.06-.94 2.06-2.06.94zm-11 1L8.5 8.5l.94-2.06 2.06-.94-2.06-.94L8.5 2.5l-.94 2.06-2.06.94zm10 10l.94 2.06.94-2.06 2.06-.94-2.06-.94-.94-2.06-.94 2.06-2.06.94z\"/><path d=\"M17.41 7.96l-1.37-1.37c-.4-.4-.92-.59-1.43-.59-.52 0-1.04.2-1.43.59L10.3 9.45l-7.72 7.72c-.78.78-.78 2.05 0 2.83L4 21.41c.39.39.9.59 1.41.59.51 0 1.02-.2 1.41-.59l7.78-7.78 2.81-2.81c.8-.78.8-2.07 0-2.86zM5.41 20L4 18.59l7.72-7.72 1.47 1.35L5.41 20z\"/>\n",
              "  </svg>\n",
              "      </button>\n",
              "      \n",
              "  <style>\n",
              "    .colab-df-container {\n",
              "      display:flex;\n",
              "      flex-wrap:wrap;\n",
              "      gap: 12px;\n",
              "    }\n",
              "\n",
              "    .colab-df-convert {\n",
              "      background-color: #E8F0FE;\n",
              "      border: none;\n",
              "      border-radius: 50%;\n",
              "      cursor: pointer;\n",
              "      display: none;\n",
              "      fill: #1967D2;\n",
              "      height: 32px;\n",
              "      padding: 0 0 0 0;\n",
              "      width: 32px;\n",
              "    }\n",
              "\n",
              "    .colab-df-convert:hover {\n",
              "      background-color: #E2EBFA;\n",
              "      box-shadow: 0px 1px 2px rgba(60, 64, 67, 0.3), 0px 1px 3px 1px rgba(60, 64, 67, 0.15);\n",
              "      fill: #174EA6;\n",
              "    }\n",
              "\n",
              "    [theme=dark] .colab-df-convert {\n",
              "      background-color: #3B4455;\n",
              "      fill: #D2E3FC;\n",
              "    }\n",
              "\n",
              "    [theme=dark] .colab-df-convert:hover {\n",
              "      background-color: #434B5C;\n",
              "      box-shadow: 0px 1px 3px 1px rgba(0, 0, 0, 0.15);\n",
              "      filter: drop-shadow(0px 1px 2px rgba(0, 0, 0, 0.3));\n",
              "      fill: #FFFFFF;\n",
              "    }\n",
              "  </style>\n",
              "\n",
              "      <script>\n",
              "        const buttonEl =\n",
              "          document.querySelector('#df-e5288885-d18c-480c-a037-71931c67edda button.colab-df-convert');\n",
              "        buttonEl.style.display =\n",
              "          google.colab.kernel.accessAllowed ? 'block' : 'none';\n",
              "\n",
              "        async function convertToInteractive(key) {\n",
              "          const element = document.querySelector('#df-e5288885-d18c-480c-a037-71931c67edda');\n",
              "          const dataTable =\n",
              "            await google.colab.kernel.invokeFunction('convertToInteractive',\n",
              "                                                     [key], {});\n",
              "          if (!dataTable) return;\n",
              "\n",
              "          const docLinkHtml = 'Like what you see? Visit the ' +\n",
              "            '<a target=\"_blank\" href=https://colab.research.google.com/notebooks/data_table.ipynb>data table notebook</a>'\n",
              "            + ' to learn more about interactive tables.';\n",
              "          element.innerHTML = '';\n",
              "          dataTable['output_type'] = 'display_data';\n",
              "          await google.colab.output.renderOutput(dataTable, element);\n",
              "          const docLink = document.createElement('div');\n",
              "          docLink.innerHTML = docLinkHtml;\n",
              "          element.appendChild(docLink);\n",
              "        }\n",
              "      </script>\n",
              "    </div>\n",
              "  </div>\n",
              "  "
            ],
            "text/plain": [
              "          Id  ... subject_label\n",
              "0      13970  ...             2\n",
              "1      41668  ...             4\n",
              "2      26810  ...             2\n",
              "3      30967  ...             7\n",
              "4      26072  ...             7\n",
              "...      ...  ...           ...\n",
              "31423  11284  ...             5\n",
              "31424  44732  ...             6\n",
              "31425  38158  ...             2\n",
              "31426    860  ...             7\n",
              "31427  15795  ...             6\n",
              "\n",
              "[31428 rows x 7 columns]"
            ]
          },
          "metadata": {},
          "execution_count": 141
        }
      ]
    },
    {
      "cell_type": "markdown",
      "source": [
        "Calculate TF-IDF and pass to classifier"
      ],
      "metadata": {
        "id": "Z6MuZyBID3Z7"
      }
    },
    {
      "cell_type": "code",
      "source": [
        "X_multi = tfidf.fit_transform(train_df.text).toarray()\n",
        "y_multi = train_df.subject_label"
      ],
      "metadata": {
        "id": "ggkah3g8o3gV"
      },
      "execution_count": 142,
      "outputs": []
    },
    {
      "cell_type": "code",
      "source": [
        "x_multi_train,x_multi_dev,y_multi_train,y_multi_dev = train_test_split(X_multi,y_multi,train_size=0.25, random_state = 32)\n",
        "multi_classifier = MultinomialNB().fit(x_multi_train,y_multi_train)\n",
        "preds_multi = multi_classifier.predict(x_multi_dev)"
      ],
      "metadata": {
        "id": "QstsPNjYo3Up"
      },
      "execution_count": 179,
      "outputs": []
    },
    {
      "cell_type": "code",
      "source": [
        "accuracy(preds_multi, y_multi_dev)"
      ],
      "metadata": {
        "colab": {
          "base_uri": "https://localhost:8080/"
        },
        "id": "LiECV7sqqNbG",
        "outputId": "aeecef1d-fac7-404b-f151-786192fde159"
      },
      "execution_count": 180,
      "outputs": [
        {
          "output_type": "execute_result",
          "data": {
            "text/plain": [
              "0.7042552288829493"
            ]
          },
          "metadata": {},
          "execution_count": 180
        }
      ]
    },
    {
      "cell_type": "code",
      "source": [
        ""
      ],
      "metadata": {
        "id": "sbcXFjMHrn-i"
      },
      "execution_count": 144,
      "outputs": []
    },
    {
      "cell_type": "markdown",
      "source": [
        "### Test Data prediction"
      ],
      "metadata": {
        "id": "petxqTQuG1dc"
      }
    },
    {
      "cell_type": "code",
      "source": [
        "test_df = test_df.dropna()\n",
        "test_df.text = test_df.text.apply(remove_stopwords)\n",
        "test_df.text = test_df.text.apply(lemmatizing)\n",
        "test_df.text"
      ],
      "metadata": {
        "colab": {
          "base_uri": "https://localhost:8080/"
        },
        "outputId": "0d30202c-ac9b-4da8-e8c5-c600f46e0686",
        "id": "yL78fMYzG1dd"
      },
      "execution_count": null,
      "outputs": [
        {
          "output_type": "execute_result",
          "data": {
            "text/plain": [
              "0        quetta, pakistan (reuters) - (thi octob 9 stor...\n",
              "1        washington/austin, texa (reuters) - the white ...\n",
              "2        the justic depart thursday drop legal challeng...\n",
              "3        washington (reuters) - u.s. republican congres...\n",
              "4        beij (reuters) - china said thursday complain ...\n",
              "                               ...                        \n",
              "13465    ron reagan, late presid reagan son, understand...\n",
              "13466    A prolif trump foe found viral fame boast aban...\n",
              "13467    washington (reuters) - u.s. presid donald trum...\n",
              "13468    beij (reuters) - A young chines climb enthusia...\n",
              "13469    hillari lost lead swing state oh, nv, IA FL si...\n",
              "Name: text, Length: 13470, dtype: object"
            ]
          },
          "metadata": {},
          "execution_count": 135
        }
      ]
    },
    {
      "cell_type": "code",
      "source": [
        "X_test = tfidf.fit_transform(train_df.text).toarray()"
      ],
      "metadata": {
        "id": "FUxFhYXgG1de"
      },
      "execution_count": null,
      "outputs": []
    },
    {
      "cell_type": "code",
      "source": [
        "X_test.shape"
      ],
      "metadata": {
        "colab": {
          "base_uri": "https://localhost:8080/"
        },
        "outputId": "c5ff167a-7019-46ed-f0b3-b1188e2acbb3",
        "id": "Nq13mpaBG1df"
      },
      "execution_count": null,
      "outputs": [
        {
          "output_type": "execute_result",
          "data": {
            "text/plain": [
              "(31428, 5000)"
            ]
          },
          "metadata": {},
          "execution_count": 137
        }
      ]
    },
    {
      "cell_type": "code",
      "source": [
        "pred_test = classifier.predict(X_test)\n",
        "pred_test[:100]"
      ],
      "metadata": {
        "colab": {
          "base_uri": "https://localhost:8080/"
        },
        "outputId": "b72e099e-00fc-481a-97d3-0d68e9999108",
        "id": "KPrJ42sHG1dg"
      },
      "execution_count": null,
      "outputs": [
        {
          "output_type": "execute_result",
          "data": {
            "text/plain": [
              "array([1, 1, 1, 0, 0, 1, 1, 1, 0, 0, 0, 1, 0, 0, 0, 1, 0, 0, 1, 1, 1, 0,\n",
              "       0, 0, 0, 0, 0, 0, 0, 1, 1, 0, 1, 0, 0, 1, 1, 0, 0, 1, 0, 1, 1, 0,\n",
              "       1, 0, 1, 1, 0, 0, 1, 0, 1, 1, 1, 1, 1, 1, 1, 0, 0, 0, 0, 0, 1, 1,\n",
              "       0, 0, 1, 1, 1, 1, 1, 0, 0, 1, 0, 1, 1, 0, 0, 1, 1, 1, 1, 1, 1, 0,\n",
              "       0, 1, 0, 0, 1, 1, 1, 0, 0, 0, 1, 1])"
            ]
          },
          "metadata": {},
          "execution_count": 138
        }
      ]
    },
    {
      "cell_type": "code",
      "source": [
        "multi_classifier.predict(X_test)"
      ],
      "metadata": {
        "id": "fqJTpHwCG1dg"
      },
      "execution_count": null,
      "outputs": []
    },
    {
      "cell_type": "markdown",
      "source": [
        "### Calculate query - doc similarity"
      ],
      "metadata": {
        "id": "af5dyW1eG7ta"
      }
    },
    {
      "cell_type": "code",
      "source": [
        "titles = list(train_df.title)\n",
        "docs = list(train_df.text)\n",
        "ids = list(train_df.Id)"
      ],
      "metadata": {
        "id": "OwYq77hqrn4-"
      },
      "execution_count": 145,
      "outputs": []
    },
    {
      "cell_type": "code",
      "source": [
        "X = tfidf.fit_transform(docs)\n",
        "# Convert the X as transposed matrix\n",
        "X = X.T.toarray()\n",
        "# Create a DataFrame and set the vocabulary as the index\n",
        "df = pd.DataFrame(X, index=tfidf.get_feature_names_out())"
      ],
      "metadata": {
        "id": "HWE1wA2ern2M"
      },
      "execution_count": 233,
      "outputs": []
    },
    {
      "cell_type": "markdown",
      "source": [
        "### Calculate similarity score of query and document"
      ],
      "metadata": {
        "id": "5PhCZTt9EPax"
      }
    },
    {
      "cell_type": "code",
      "source": [
        "def get_similar_articles(q, df, n):\n",
        "  print(\"query:\", q)\n",
        "  print(\"search results: \")\n",
        "  ans_df = pd.DataFrame()\n",
        "  ans_title = []\n",
        "  ans_sim = []\n",
        "  ans_id = []\n",
        "\n",
        "  # Convert the query become a vector\n",
        "  q = [q]\n",
        "  q_vec = tfidf.transform(q).toarray().reshape(df.shape[0],)\n",
        "  sim = {}\n",
        "  \n",
        "  # Calculate the similarity\n",
        "  for i in range(df.shape[1]):\n",
        "    sim[i] = np.dot(df.loc[:, i].values, q_vec) / np.linalg.norm(df.loc[:, i]) * np.linalg.norm(q_vec)\n",
        "  \n",
        "  # Sort the values \n",
        "  sim_sorted = sorted(sim.items(), key=lambda x: x[1], reverse=True)\n",
        "  # Print the articles and their similarity values\n",
        "  for k, v in sim_sorted:\n",
        "    if v != 0.0:\n",
        "      # print(\"Cosine Similarity:\", v)\n",
        "      ans_sim.append(v)\n",
        "      # print(titles[k])\n",
        "      ans_title.append(titles[k])\n",
        "      ans_id.append(ids[k])\n",
        "      # print()\n",
        "  ans_df['id'] = ans_id\n",
        "  ans_df['title'] = ans_title\n",
        "  ans_df['sim'] = ans_sim\n",
        "  return ans_df[:n]"
      ],
      "metadata": {
        "id": "S_VzGMmGrnzB"
      },
      "execution_count": 234,
      "outputs": []
    },
    {
      "cell_type": "markdown",
      "source": [
        "### Basic Search Engine"
      ],
      "metadata": {
        "id": "UdUw_GZgHRJ0"
      }
    },
    {
      "cell_type": "code",
      "source": [
        "# Add The Query\n",
        "q1 = 'trump'\n",
        "\n",
        "# Get 100 similar documents\n",
        "ans = get_similar_articles(q1, df, 100)"
      ],
      "metadata": {
        "colab": {
          "base_uri": "https://localhost:8080/"
        },
        "id": "ubSoahR_rnvx",
        "outputId": "6f978b5f-7067-4900-a0fe-9c01858f7c99"
      },
      "execution_count": 245,
      "outputs": [
        {
          "output_type": "stream",
          "name": "stdout",
          "text": [
            "query: trump\n",
            "search results: \n"
          ]
        },
        {
          "output_type": "stream",
          "name": "stderr",
          "text": [
            "/usr/local/lib/python3.7/dist-packages/ipykernel_launcher.py:16: RuntimeWarning: invalid value encountered in double_scalars\n",
            "  app.launch_new_instance()\n"
          ]
        }
      ]
    },
    {
      "cell_type": "code",
      "source": [
        "ans"
      ],
      "metadata": {
        "colab": {
          "base_uri": "https://localhost:8080/",
          "height": 423
        },
        "id": "3m7exGoMtZEL",
        "outputId": "54b31bbe-4141-4acb-9458-bffa15555a6c"
      },
      "execution_count": 246,
      "outputs": [
        {
          "output_type": "execute_result",
          "data": {
            "text/html": [
              "\n",
              "  <div id=\"df-2323f1ac-d9d3-4dd4-abe5-5679d91b3214\">\n",
              "    <div class=\"colab-df-container\">\n",
              "      <div>\n",
              "<style scoped>\n",
              "    .dataframe tbody tr th:only-of-type {\n",
              "        vertical-align: middle;\n",
              "    }\n",
              "\n",
              "    .dataframe tbody tr th {\n",
              "        vertical-align: top;\n",
              "    }\n",
              "\n",
              "    .dataframe thead th {\n",
              "        text-align: right;\n",
              "    }\n",
              "</style>\n",
              "<table border=\"1\" class=\"dataframe\">\n",
              "  <thead>\n",
              "    <tr style=\"text-align: right;\">\n",
              "      <th></th>\n",
              "      <th>id</th>\n",
              "      <th>title</th>\n",
              "      <th>sim</th>\n",
              "    </tr>\n",
              "  </thead>\n",
              "  <tbody>\n",
              "    <tr>\n",
              "      <th>0</th>\n",
              "      <td>20109</td>\n",
              "      <td>BUSTED: Steel Unions FURIOUS At Trump For Des...</td>\n",
              "      <td>0.342352</td>\n",
              "    </tr>\n",
              "    <tr>\n",
              "      <th>1</th>\n",
              "      <td>16178</td>\n",
              "      <td>Greedy Trump Cuts Takes Housing Money Away Fr...</td>\n",
              "      <td>0.318355</td>\n",
              "    </tr>\n",
              "    <tr>\n",
              "      <th>2</th>\n",
              "      <td>39856</td>\n",
              "      <td>Trump Just Got DESTROYED By J.K. Rowling For ...</td>\n",
              "      <td>0.318006</td>\n",
              "    </tr>\n",
              "    <tr>\n",
              "      <th>3</th>\n",
              "      <td>23254</td>\n",
              "      <td>Gawker Fools Trump Into Quoting Genocidal Man...</td>\n",
              "      <td>0.281729</td>\n",
              "    </tr>\n",
              "    <tr>\n",
              "      <th>4</th>\n",
              "      <td>34361</td>\n",
              "      <td>Trump hugs Harvey's victims in test of preside...</td>\n",
              "      <td>0.272363</td>\n",
              "    </tr>\n",
              "    <tr>\n",
              "      <th>...</th>\n",
              "      <td>...</td>\n",
              "      <td>...</td>\n",
              "      <td>...</td>\n",
              "    </tr>\n",
              "    <tr>\n",
              "      <th>95</th>\n",
              "      <td>30162</td>\n",
              "      <td>White House aims to speed U.S. drone, wireless...</td>\n",
              "      <td>0.033781</td>\n",
              "    </tr>\n",
              "    <tr>\n",
              "      <th>96</th>\n",
              "      <td>26891</td>\n",
              "      <td>LOL! HYPOCRITE HILLARY Gives Speech On Evils O...</td>\n",
              "      <td>0.033073</td>\n",
              "    </tr>\n",
              "    <tr>\n",
              "      <th>97</th>\n",
              "      <td>11709</td>\n",
              "      <td>CONTROVERSY AT SCHOOL After Brave Student Wear...</td>\n",
              "      <td>0.030954</td>\n",
              "    </tr>\n",
              "    <tr>\n",
              "      <th>98</th>\n",
              "      <td>7387</td>\n",
              "      <td>Sign-up pace slows in third week of 2018 Obama...</td>\n",
              "      <td>0.030706</td>\n",
              "    </tr>\n",
              "    <tr>\n",
              "      <th>99</th>\n",
              "      <td>21247</td>\n",
              "      <td>TRUMP WAS RIGHT! Why The Heck Is This Liberal ...</td>\n",
              "      <td>0.029806</td>\n",
              "    </tr>\n",
              "  </tbody>\n",
              "</table>\n",
              "<p>100 rows × 3 columns</p>\n",
              "</div>\n",
              "      <button class=\"colab-df-convert\" onclick=\"convertToInteractive('df-2323f1ac-d9d3-4dd4-abe5-5679d91b3214')\"\n",
              "              title=\"Convert this dataframe to an interactive table.\"\n",
              "              style=\"display:none;\">\n",
              "        \n",
              "  <svg xmlns=\"http://www.w3.org/2000/svg\" height=\"24px\"viewBox=\"0 0 24 24\"\n",
              "       width=\"24px\">\n",
              "    <path d=\"M0 0h24v24H0V0z\" fill=\"none\"/>\n",
              "    <path d=\"M18.56 5.44l.94 2.06.94-2.06 2.06-.94-2.06-.94-.94-2.06-.94 2.06-2.06.94zm-11 1L8.5 8.5l.94-2.06 2.06-.94-2.06-.94L8.5 2.5l-.94 2.06-2.06.94zm10 10l.94 2.06.94-2.06 2.06-.94-2.06-.94-.94-2.06-.94 2.06-2.06.94z\"/><path d=\"M17.41 7.96l-1.37-1.37c-.4-.4-.92-.59-1.43-.59-.52 0-1.04.2-1.43.59L10.3 9.45l-7.72 7.72c-.78.78-.78 2.05 0 2.83L4 21.41c.39.39.9.59 1.41.59.51 0 1.02-.2 1.41-.59l7.78-7.78 2.81-2.81c.8-.78.8-2.07 0-2.86zM5.41 20L4 18.59l7.72-7.72 1.47 1.35L5.41 20z\"/>\n",
              "  </svg>\n",
              "      </button>\n",
              "      \n",
              "  <style>\n",
              "    .colab-df-container {\n",
              "      display:flex;\n",
              "      flex-wrap:wrap;\n",
              "      gap: 12px;\n",
              "    }\n",
              "\n",
              "    .colab-df-convert {\n",
              "      background-color: #E8F0FE;\n",
              "      border: none;\n",
              "      border-radius: 50%;\n",
              "      cursor: pointer;\n",
              "      display: none;\n",
              "      fill: #1967D2;\n",
              "      height: 32px;\n",
              "      padding: 0 0 0 0;\n",
              "      width: 32px;\n",
              "    }\n",
              "\n",
              "    .colab-df-convert:hover {\n",
              "      background-color: #E2EBFA;\n",
              "      box-shadow: 0px 1px 2px rgba(60, 64, 67, 0.3), 0px 1px 3px 1px rgba(60, 64, 67, 0.15);\n",
              "      fill: #174EA6;\n",
              "    }\n",
              "\n",
              "    [theme=dark] .colab-df-convert {\n",
              "      background-color: #3B4455;\n",
              "      fill: #D2E3FC;\n",
              "    }\n",
              "\n",
              "    [theme=dark] .colab-df-convert:hover {\n",
              "      background-color: #434B5C;\n",
              "      box-shadow: 0px 1px 3px 1px rgba(0, 0, 0, 0.15);\n",
              "      filter: drop-shadow(0px 1px 2px rgba(0, 0, 0, 0.3));\n",
              "      fill: #FFFFFF;\n",
              "    }\n",
              "  </style>\n",
              "\n",
              "      <script>\n",
              "        const buttonEl =\n",
              "          document.querySelector('#df-2323f1ac-d9d3-4dd4-abe5-5679d91b3214 button.colab-df-convert');\n",
              "        buttonEl.style.display =\n",
              "          google.colab.kernel.accessAllowed ? 'block' : 'none';\n",
              "\n",
              "        async function convertToInteractive(key) {\n",
              "          const element = document.querySelector('#df-2323f1ac-d9d3-4dd4-abe5-5679d91b3214');\n",
              "          const dataTable =\n",
              "            await google.colab.kernel.invokeFunction('convertToInteractive',\n",
              "                                                     [key], {});\n",
              "          if (!dataTable) return;\n",
              "\n",
              "          const docLinkHtml = 'Like what you see? Visit the ' +\n",
              "            '<a target=\"_blank\" href=https://colab.research.google.com/notebooks/data_table.ipynb>data table notebook</a>'\n",
              "            + ' to learn more about interactive tables.';\n",
              "          element.innerHTML = '';\n",
              "          dataTable['output_type'] = 'display_data';\n",
              "          await google.colab.output.renderOutput(dataTable, element);\n",
              "          const docLink = document.createElement('div');\n",
              "          docLink.innerHTML = docLinkHtml;\n",
              "          element.appendChild(docLink);\n",
              "        }\n",
              "      </script>\n",
              "    </div>\n",
              "  </div>\n",
              "  "
            ],
            "text/plain": [
              "       id                                              title       sim\n",
              "0   20109   BUSTED: Steel Unions FURIOUS At Trump For Des...  0.342352\n",
              "1   16178   Greedy Trump Cuts Takes Housing Money Away Fr...  0.318355\n",
              "2   39856   Trump Just Got DESTROYED By J.K. Rowling For ...  0.318006\n",
              "3   23254   Gawker Fools Trump Into Quoting Genocidal Man...  0.281729\n",
              "4   34361  Trump hugs Harvey's victims in test of preside...  0.272363\n",
              "..    ...                                                ...       ...\n",
              "95  30162  White House aims to speed U.S. drone, wireless...  0.033781\n",
              "96  26891  LOL! HYPOCRITE HILLARY Gives Speech On Evils O...  0.033073\n",
              "97  11709  CONTROVERSY AT SCHOOL After Brave Student Wear...  0.030954\n",
              "98   7387  Sign-up pace slows in third week of 2018 Obama...  0.030706\n",
              "99  21247  TRUMP WAS RIGHT! Why The Heck Is This Liberal ...  0.029806\n",
              "\n",
              "[100 rows x 3 columns]"
            ]
          },
          "metadata": {},
          "execution_count": 246
        }
      ]
    },
    {
      "cell_type": "code",
      "source": [
        "# Get topic of query\n",
        "def get_query_class(q):\n",
        "  q = [q]\n",
        "  q_vec = tfidf.transform(q).toarray()\n",
        "  subj_class = multi_classifier.predict(q_vec)\n",
        "  print(subj_class)\n",
        "  return subj_class"
      ],
      "metadata": {
        "id": "cJoQRiPU-GE5"
      },
      "execution_count": 240,
      "outputs": []
    },
    {
      "cell_type": "code",
      "source": [
        "query_topic = get_query_class(q1)\n",
        "\n",
        "# Get similar documents from predicted label dataset\n",
        "result_ids = list(ans.id)\n",
        "ans_labels = train_df[[True if i in result_ids else False for i in train_df.Id] ][[\"Id\",\"subject_label\",\"label\"]]\n",
        "ans_labels.head()"
      ],
      "metadata": {
        "colab": {
          "base_uri": "https://localhost:8080/",
          "height": 223
        },
        "id": "7ON_NrCN-JSt",
        "outputId": "09e5d440-d507-4d85-f253-a68f6d617b72"
      },
      "execution_count": 241,
      "outputs": [
        {
          "output_type": "stream",
          "name": "stdout",
          "text": [
            "[2]\n"
          ]
        },
        {
          "output_type": "execute_result",
          "data": {
            "text/html": [
              "\n",
              "  <div id=\"df-f831cafb-6f7b-42fc-be12-b18f4d7aa9ea\">\n",
              "    <div class=\"colab-df-container\">\n",
              "      <div>\n",
              "<style scoped>\n",
              "    .dataframe tbody tr th:only-of-type {\n",
              "        vertical-align: middle;\n",
              "    }\n",
              "\n",
              "    .dataframe tbody tr th {\n",
              "        vertical-align: top;\n",
              "    }\n",
              "\n",
              "    .dataframe thead th {\n",
              "        text-align: right;\n",
              "    }\n",
              "</style>\n",
              "<table border=\"1\" class=\"dataframe\">\n",
              "  <thead>\n",
              "    <tr style=\"text-align: right;\">\n",
              "      <th></th>\n",
              "      <th>Id</th>\n",
              "      <th>subject_label</th>\n",
              "      <th>label</th>\n",
              "    </tr>\n",
              "  </thead>\n",
              "  <tbody>\n",
              "    <tr>\n",
              "      <th>0</th>\n",
              "      <td>13970</td>\n",
              "      <td>2</td>\n",
              "      <td>1</td>\n",
              "    </tr>\n",
              "    <tr>\n",
              "      <th>2</th>\n",
              "      <td>26810</td>\n",
              "      <td>2</td>\n",
              "      <td>1</td>\n",
              "    </tr>\n",
              "    <tr>\n",
              "      <th>5</th>\n",
              "      <td>7209</td>\n",
              "      <td>5</td>\n",
              "      <td>1</td>\n",
              "    </tr>\n",
              "    <tr>\n",
              "      <th>7</th>\n",
              "      <td>41384</td>\n",
              "      <td>5</td>\n",
              "      <td>1</td>\n",
              "    </tr>\n",
              "    <tr>\n",
              "      <th>8</th>\n",
              "      <td>34361</td>\n",
              "      <td>6</td>\n",
              "      <td>0</td>\n",
              "    </tr>\n",
              "  </tbody>\n",
              "</table>\n",
              "</div>\n",
              "      <button class=\"colab-df-convert\" onclick=\"convertToInteractive('df-f831cafb-6f7b-42fc-be12-b18f4d7aa9ea')\"\n",
              "              title=\"Convert this dataframe to an interactive table.\"\n",
              "              style=\"display:none;\">\n",
              "        \n",
              "  <svg xmlns=\"http://www.w3.org/2000/svg\" height=\"24px\"viewBox=\"0 0 24 24\"\n",
              "       width=\"24px\">\n",
              "    <path d=\"M0 0h24v24H0V0z\" fill=\"none\"/>\n",
              "    <path d=\"M18.56 5.44l.94 2.06.94-2.06 2.06-.94-2.06-.94-.94-2.06-.94 2.06-2.06.94zm-11 1L8.5 8.5l.94-2.06 2.06-.94-2.06-.94L8.5 2.5l-.94 2.06-2.06.94zm10 10l.94 2.06.94-2.06 2.06-.94-2.06-.94-.94-2.06-.94 2.06-2.06.94z\"/><path d=\"M17.41 7.96l-1.37-1.37c-.4-.4-.92-.59-1.43-.59-.52 0-1.04.2-1.43.59L10.3 9.45l-7.72 7.72c-.78.78-.78 2.05 0 2.83L4 21.41c.39.39.9.59 1.41.59.51 0 1.02-.2 1.41-.59l7.78-7.78 2.81-2.81c.8-.78.8-2.07 0-2.86zM5.41 20L4 18.59l7.72-7.72 1.47 1.35L5.41 20z\"/>\n",
              "  </svg>\n",
              "      </button>\n",
              "      \n",
              "  <style>\n",
              "    .colab-df-container {\n",
              "      display:flex;\n",
              "      flex-wrap:wrap;\n",
              "      gap: 12px;\n",
              "    }\n",
              "\n",
              "    .colab-df-convert {\n",
              "      background-color: #E8F0FE;\n",
              "      border: none;\n",
              "      border-radius: 50%;\n",
              "      cursor: pointer;\n",
              "      display: none;\n",
              "      fill: #1967D2;\n",
              "      height: 32px;\n",
              "      padding: 0 0 0 0;\n",
              "      width: 32px;\n",
              "    }\n",
              "\n",
              "    .colab-df-convert:hover {\n",
              "      background-color: #E2EBFA;\n",
              "      box-shadow: 0px 1px 2px rgba(60, 64, 67, 0.3), 0px 1px 3px 1px rgba(60, 64, 67, 0.15);\n",
              "      fill: #174EA6;\n",
              "    }\n",
              "\n",
              "    [theme=dark] .colab-df-convert {\n",
              "      background-color: #3B4455;\n",
              "      fill: #D2E3FC;\n",
              "    }\n",
              "\n",
              "    [theme=dark] .colab-df-convert:hover {\n",
              "      background-color: #434B5C;\n",
              "      box-shadow: 0px 1px 3px 1px rgba(0, 0, 0, 0.15);\n",
              "      filter: drop-shadow(0px 1px 2px rgba(0, 0, 0, 0.3));\n",
              "      fill: #FFFFFF;\n",
              "    }\n",
              "  </style>\n",
              "\n",
              "      <script>\n",
              "        const buttonEl =\n",
              "          document.querySelector('#df-f831cafb-6f7b-42fc-be12-b18f4d7aa9ea button.colab-df-convert');\n",
              "        buttonEl.style.display =\n",
              "          google.colab.kernel.accessAllowed ? 'block' : 'none';\n",
              "\n",
              "        async function convertToInteractive(key) {\n",
              "          const element = document.querySelector('#df-f831cafb-6f7b-42fc-be12-b18f4d7aa9ea');\n",
              "          const dataTable =\n",
              "            await google.colab.kernel.invokeFunction('convertToInteractive',\n",
              "                                                     [key], {});\n",
              "          if (!dataTable) return;\n",
              "\n",
              "          const docLinkHtml = 'Like what you see? Visit the ' +\n",
              "            '<a target=\"_blank\" href=https://colab.research.google.com/notebooks/data_table.ipynb>data table notebook</a>'\n",
              "            + ' to learn more about interactive tables.';\n",
              "          element.innerHTML = '';\n",
              "          dataTable['output_type'] = 'display_data';\n",
              "          await google.colab.output.renderOutput(dataTable, element);\n",
              "          const docLink = document.createElement('div');\n",
              "          docLink.innerHTML = docLinkHtml;\n",
              "          element.appendChild(docLink);\n",
              "        }\n",
              "      </script>\n",
              "    </div>\n",
              "  </div>\n",
              "  "
            ],
            "text/plain": [
              "      Id  subject_label  label\n",
              "0  13970              2      1\n",
              "2  26810              2      1\n",
              "5   7209              5      1\n",
              "7  41384              5      1\n",
              "8  34361              6      0"
            ]
          },
          "metadata": {},
          "execution_count": 241
        }
      ]
    },
    {
      "cell_type": "code",
      "source": [
        "docs_retreived = pd.merge(ans,ans_labels, left_on=[\"id\"], right_on=[\"Id\"])\n",
        "docs_retreived"
      ],
      "metadata": {
        "colab": {
          "base_uri": "https://localhost:8080/",
          "height": 423
        },
        "id": "ZBO7oSmKAFY1",
        "outputId": "3d39ecd5-a13b-4e95-bccd-d5cde089d344"
      },
      "execution_count": 242,
      "outputs": [
        {
          "output_type": "execute_result",
          "data": {
            "text/html": [
              "\n",
              "  <div id=\"df-544c3249-5ae7-4283-ae01-c0a4959871de\">\n",
              "    <div class=\"colab-df-container\">\n",
              "      <div>\n",
              "<style scoped>\n",
              "    .dataframe tbody tr th:only-of-type {\n",
              "        vertical-align: middle;\n",
              "    }\n",
              "\n",
              "    .dataframe tbody tr th {\n",
              "        vertical-align: top;\n",
              "    }\n",
              "\n",
              "    .dataframe thead th {\n",
              "        text-align: right;\n",
              "    }\n",
              "</style>\n",
              "<table border=\"1\" class=\"dataframe\">\n",
              "  <thead>\n",
              "    <tr style=\"text-align: right;\">\n",
              "      <th></th>\n",
              "      <th>id</th>\n",
              "      <th>title</th>\n",
              "      <th>sim</th>\n",
              "      <th>Id</th>\n",
              "      <th>subject_label</th>\n",
              "      <th>label</th>\n",
              "    </tr>\n",
              "  </thead>\n",
              "  <tbody>\n",
              "    <tr>\n",
              "      <th>0</th>\n",
              "      <td>20109</td>\n",
              "      <td>BUSTED: Steel Unions FURIOUS At Trump For Des...</td>\n",
              "      <td>0.342352</td>\n",
              "      <td>20109</td>\n",
              "      <td>2</td>\n",
              "      <td>1</td>\n",
              "    </tr>\n",
              "    <tr>\n",
              "      <th>1</th>\n",
              "      <td>16178</td>\n",
              "      <td>Greedy Trump Cuts Takes Housing Money Away Fr...</td>\n",
              "      <td>0.318355</td>\n",
              "      <td>16178</td>\n",
              "      <td>2</td>\n",
              "      <td>1</td>\n",
              "    </tr>\n",
              "    <tr>\n",
              "      <th>2</th>\n",
              "      <td>39856</td>\n",
              "      <td>Trump Just Got DESTROYED By J.K. Rowling For ...</td>\n",
              "      <td>0.318006</td>\n",
              "      <td>39856</td>\n",
              "      <td>2</td>\n",
              "      <td>1</td>\n",
              "    </tr>\n",
              "    <tr>\n",
              "      <th>3</th>\n",
              "      <td>23254</td>\n",
              "      <td>Gawker Fools Trump Into Quoting Genocidal Man...</td>\n",
              "      <td>0.281729</td>\n",
              "      <td>23254</td>\n",
              "      <td>2</td>\n",
              "      <td>1</td>\n",
              "    </tr>\n",
              "    <tr>\n",
              "      <th>4</th>\n",
              "      <td>34361</td>\n",
              "      <td>Trump hugs Harvey's victims in test of preside...</td>\n",
              "      <td>0.272363</td>\n",
              "      <td>34361</td>\n",
              "      <td>6</td>\n",
              "      <td>0</td>\n",
              "    </tr>\n",
              "    <tr>\n",
              "      <th>...</th>\n",
              "      <td>...</td>\n",
              "      <td>...</td>\n",
              "      <td>...</td>\n",
              "      <td>...</td>\n",
              "      <td>...</td>\n",
              "      <td>...</td>\n",
              "    </tr>\n",
              "    <tr>\n",
              "      <th>95</th>\n",
              "      <td>30162</td>\n",
              "      <td>White House aims to speed U.S. drone, wireless...</td>\n",
              "      <td>0.033781</td>\n",
              "      <td>30162</td>\n",
              "      <td>6</td>\n",
              "      <td>0</td>\n",
              "    </tr>\n",
              "    <tr>\n",
              "      <th>96</th>\n",
              "      <td>26891</td>\n",
              "      <td>LOL! HYPOCRITE HILLARY Gives Speech On Evils O...</td>\n",
              "      <td>0.033073</td>\n",
              "      <td>26891</td>\n",
              "      <td>5</td>\n",
              "      <td>1</td>\n",
              "    </tr>\n",
              "    <tr>\n",
              "      <th>97</th>\n",
              "      <td>11709</td>\n",
              "      <td>CONTROVERSY AT SCHOOL After Brave Student Wear...</td>\n",
              "      <td>0.030954</td>\n",
              "      <td>11709</td>\n",
              "      <td>5</td>\n",
              "      <td>1</td>\n",
              "    </tr>\n",
              "    <tr>\n",
              "      <th>98</th>\n",
              "      <td>7387</td>\n",
              "      <td>Sign-up pace slows in third week of 2018 Obama...</td>\n",
              "      <td>0.030706</td>\n",
              "      <td>7387</td>\n",
              "      <td>6</td>\n",
              "      <td>0</td>\n",
              "    </tr>\n",
              "    <tr>\n",
              "      <th>99</th>\n",
              "      <td>21247</td>\n",
              "      <td>TRUMP WAS RIGHT! Why The Heck Is This Liberal ...</td>\n",
              "      <td>0.029806</td>\n",
              "      <td>21247</td>\n",
              "      <td>5</td>\n",
              "      <td>1</td>\n",
              "    </tr>\n",
              "  </tbody>\n",
              "</table>\n",
              "<p>100 rows × 6 columns</p>\n",
              "</div>\n",
              "      <button class=\"colab-df-convert\" onclick=\"convertToInteractive('df-544c3249-5ae7-4283-ae01-c0a4959871de')\"\n",
              "              title=\"Convert this dataframe to an interactive table.\"\n",
              "              style=\"display:none;\">\n",
              "        \n",
              "  <svg xmlns=\"http://www.w3.org/2000/svg\" height=\"24px\"viewBox=\"0 0 24 24\"\n",
              "       width=\"24px\">\n",
              "    <path d=\"M0 0h24v24H0V0z\" fill=\"none\"/>\n",
              "    <path d=\"M18.56 5.44l.94 2.06.94-2.06 2.06-.94-2.06-.94-.94-2.06-.94 2.06-2.06.94zm-11 1L8.5 8.5l.94-2.06 2.06-.94-2.06-.94L8.5 2.5l-.94 2.06-2.06.94zm10 10l.94 2.06.94-2.06 2.06-.94-2.06-.94-.94-2.06-.94 2.06-2.06.94z\"/><path d=\"M17.41 7.96l-1.37-1.37c-.4-.4-.92-.59-1.43-.59-.52 0-1.04.2-1.43.59L10.3 9.45l-7.72 7.72c-.78.78-.78 2.05 0 2.83L4 21.41c.39.39.9.59 1.41.59.51 0 1.02-.2 1.41-.59l7.78-7.78 2.81-2.81c.8-.78.8-2.07 0-2.86zM5.41 20L4 18.59l7.72-7.72 1.47 1.35L5.41 20z\"/>\n",
              "  </svg>\n",
              "      </button>\n",
              "      \n",
              "  <style>\n",
              "    .colab-df-container {\n",
              "      display:flex;\n",
              "      flex-wrap:wrap;\n",
              "      gap: 12px;\n",
              "    }\n",
              "\n",
              "    .colab-df-convert {\n",
              "      background-color: #E8F0FE;\n",
              "      border: none;\n",
              "      border-radius: 50%;\n",
              "      cursor: pointer;\n",
              "      display: none;\n",
              "      fill: #1967D2;\n",
              "      height: 32px;\n",
              "      padding: 0 0 0 0;\n",
              "      width: 32px;\n",
              "    }\n",
              "\n",
              "    .colab-df-convert:hover {\n",
              "      background-color: #E2EBFA;\n",
              "      box-shadow: 0px 1px 2px rgba(60, 64, 67, 0.3), 0px 1px 3px 1px rgba(60, 64, 67, 0.15);\n",
              "      fill: #174EA6;\n",
              "    }\n",
              "\n",
              "    [theme=dark] .colab-df-convert {\n",
              "      background-color: #3B4455;\n",
              "      fill: #D2E3FC;\n",
              "    }\n",
              "\n",
              "    [theme=dark] .colab-df-convert:hover {\n",
              "      background-color: #434B5C;\n",
              "      box-shadow: 0px 1px 3px 1px rgba(0, 0, 0, 0.15);\n",
              "      filter: drop-shadow(0px 1px 2px rgba(0, 0, 0, 0.3));\n",
              "      fill: #FFFFFF;\n",
              "    }\n",
              "  </style>\n",
              "\n",
              "      <script>\n",
              "        const buttonEl =\n",
              "          document.querySelector('#df-544c3249-5ae7-4283-ae01-c0a4959871de button.colab-df-convert');\n",
              "        buttonEl.style.display =\n",
              "          google.colab.kernel.accessAllowed ? 'block' : 'none';\n",
              "\n",
              "        async function convertToInteractive(key) {\n",
              "          const element = document.querySelector('#df-544c3249-5ae7-4283-ae01-c0a4959871de');\n",
              "          const dataTable =\n",
              "            await google.colab.kernel.invokeFunction('convertToInteractive',\n",
              "                                                     [key], {});\n",
              "          if (!dataTable) return;\n",
              "\n",
              "          const docLinkHtml = 'Like what you see? Visit the ' +\n",
              "            '<a target=\"_blank\" href=https://colab.research.google.com/notebooks/data_table.ipynb>data table notebook</a>'\n",
              "            + ' to learn more about interactive tables.';\n",
              "          element.innerHTML = '';\n",
              "          dataTable['output_type'] = 'display_data';\n",
              "          await google.colab.output.renderOutput(dataTable, element);\n",
              "          const docLink = document.createElement('div');\n",
              "          docLink.innerHTML = docLinkHtml;\n",
              "          element.appendChild(docLink);\n",
              "        }\n",
              "      </script>\n",
              "    </div>\n",
              "  </div>\n",
              "  "
            ],
            "text/plain": [
              "       id  ... label\n",
              "0   20109  ...     1\n",
              "1   16178  ...     1\n",
              "2   39856  ...     1\n",
              "3   23254  ...     1\n",
              "4   34361  ...     0\n",
              "..    ...  ...   ...\n",
              "95  30162  ...     0\n",
              "96  26891  ...     1\n",
              "97  11709  ...     1\n",
              "98   7387  ...     0\n",
              "99  21247  ...     1\n",
              "\n",
              "[100 rows x 6 columns]"
            ]
          },
          "metadata": {},
          "execution_count": 242
        }
      ]
    },
    {
      "cell_type": "markdown",
      "source": [
        "Filter on basis of reliability and topical relevance"
      ],
      "metadata": {
        "id": "CqCByHl5HeJo"
      }
    },
    {
      "cell_type": "code",
      "source": [
        "class_labs = list(docs_retreived.label)\n",
        "fact_filtered = docs_retreived[[True if i == 1 else False for i in class_labs]]\n",
        "\n",
        "subj_labs = list(docs_retreived.subject_label)\n",
        "topic_filtered = docs_retreived[[True if i == query_topic else False for i in subj_labs]][[\"id\",\"title\"]]\n",
        "\n",
        "topic_filtered"
      ],
      "metadata": {
        "colab": {
          "base_uri": "https://localhost:8080/",
          "height": 990
        },
        "id": "btMbhCsTA5bk",
        "outputId": "63e98399-86aa-40c2-961b-59aaeb7f545b"
      },
      "execution_count": 243,
      "outputs": [
        {
          "output_type": "execute_result",
          "data": {
            "text/html": [
              "\n",
              "  <div id=\"df-4c6b93ac-4f70-4c74-99b7-ee1f85c77d3f\">\n",
              "    <div class=\"colab-df-container\">\n",
              "      <div>\n",
              "<style scoped>\n",
              "    .dataframe tbody tr th:only-of-type {\n",
              "        vertical-align: middle;\n",
              "    }\n",
              "\n",
              "    .dataframe tbody tr th {\n",
              "        vertical-align: top;\n",
              "    }\n",
              "\n",
              "    .dataframe thead th {\n",
              "        text-align: right;\n",
              "    }\n",
              "</style>\n",
              "<table border=\"1\" class=\"dataframe\">\n",
              "  <thead>\n",
              "    <tr style=\"text-align: right;\">\n",
              "      <th></th>\n",
              "      <th>id</th>\n",
              "      <th>title</th>\n",
              "    </tr>\n",
              "  </thead>\n",
              "  <tbody>\n",
              "    <tr>\n",
              "      <th>0</th>\n",
              "      <td>20109</td>\n",
              "      <td>BUSTED: Steel Unions FURIOUS At Trump For Des...</td>\n",
              "    </tr>\n",
              "    <tr>\n",
              "      <th>1</th>\n",
              "      <td>16178</td>\n",
              "      <td>Greedy Trump Cuts Takes Housing Money Away Fr...</td>\n",
              "    </tr>\n",
              "    <tr>\n",
              "      <th>2</th>\n",
              "      <td>39856</td>\n",
              "      <td>Trump Just Got DESTROYED By J.K. Rowling For ...</td>\n",
              "    </tr>\n",
              "    <tr>\n",
              "      <th>3</th>\n",
              "      <td>23254</td>\n",
              "      <td>Gawker Fools Trump Into Quoting Genocidal Man...</td>\n",
              "    </tr>\n",
              "    <tr>\n",
              "      <th>6</th>\n",
              "      <td>13970</td>\n",
              "      <td>WATCH: Paul Manafort Gets DESTROYED On CNN Fo...</td>\n",
              "    </tr>\n",
              "    <tr>\n",
              "      <th>7</th>\n",
              "      <td>26810</td>\n",
              "      <td>Trump’s Excuse For All His Sexist Statements ...</td>\n",
              "    </tr>\n",
              "    <tr>\n",
              "      <th>8</th>\n",
              "      <td>5086</td>\n",
              "      <td>Billionaire Richard Branson Breaks Silence Ab...</td>\n",
              "    </tr>\n",
              "    <tr>\n",
              "      <th>9</th>\n",
              "      <td>8318</td>\n",
              "      <td>Warren Buffett Knows Exactly Why Trump’s Camp...</td>\n",
              "    </tr>\n",
              "    <tr>\n",
              "      <th>10</th>\n",
              "      <td>2932</td>\n",
              "      <td>Hillary’s Campaign Account Hasn’t Tweeted Sin...</td>\n",
              "    </tr>\n",
              "    <tr>\n",
              "      <th>11</th>\n",
              "      <td>32545</td>\n",
              "      <td>CNN And MSNBC Destroy Trump, Black Out His Fa...</td>\n",
              "    </tr>\n",
              "    <tr>\n",
              "      <th>16</th>\n",
              "      <td>11684</td>\n",
              "      <td>Trump Still Isn’t Convinced Russia Interfered...</td>\n",
              "    </tr>\n",
              "    <tr>\n",
              "      <th>18</th>\n",
              "      <td>7174</td>\n",
              "      <td>SHAME: Proof Trump Doesn’t Care About Militar...</td>\n",
              "    </tr>\n",
              "    <tr>\n",
              "      <th>20</th>\n",
              "      <td>2084</td>\n",
              "      <td>Donald Trump Has Become So Toxic That He Can’...</td>\n",
              "    </tr>\n",
              "    <tr>\n",
              "      <th>24</th>\n",
              "      <td>11598</td>\n",
              "      <td>Donald Trump Is Destroying The Country’s Repu...</td>\n",
              "    </tr>\n",
              "    <tr>\n",
              "      <th>28</th>\n",
              "      <td>9998</td>\n",
              "      <td>BREAKING: Sessions Lied, Discussed Trump Camp...</td>\n",
              "    </tr>\n",
              "    <tr>\n",
              "      <th>34</th>\n",
              "      <td>4272</td>\n",
              "      <td>Sean Hannity Goes Apesh*t Over Trump As Caesa...</td>\n",
              "    </tr>\n",
              "    <tr>\n",
              "      <th>43</th>\n",
              "      <td>41627</td>\n",
              "      <td>Paul Ryan Is So Unpopular Even 8th Graders Re...</td>\n",
              "    </tr>\n",
              "    <tr>\n",
              "      <th>45</th>\n",
              "      <td>17702</td>\n",
              "      <td>Watch Bernie Sanders Slam The Hell Out Of Rep...</td>\n",
              "    </tr>\n",
              "    <tr>\n",
              "      <th>50</th>\n",
              "      <td>5763</td>\n",
              "      <td>Actress Salma Hayek Perfectly BURNS Trump For...</td>\n",
              "    </tr>\n",
              "    <tr>\n",
              "      <th>52</th>\n",
              "      <td>38522</td>\n",
              "      <td>Trump Gets P*SSED As TODAY Hosts Slam His ‘Ly...</td>\n",
              "    </tr>\n",
              "    <tr>\n",
              "      <th>55</th>\n",
              "      <td>353</td>\n",
              "      <td>The Republican Jewish Coalition Loves Trump S...</td>\n",
              "    </tr>\n",
              "    <tr>\n",
              "      <th>71</th>\n",
              "      <td>32717</td>\n",
              "      <td>Nobody Likes Donald Trump, And These Three DE...</td>\n",
              "    </tr>\n",
              "    <tr>\n",
              "      <th>73</th>\n",
              "      <td>19594</td>\n",
              "      <td>Trump Is Literally Causing Business Owners To...</td>\n",
              "    </tr>\n",
              "    <tr>\n",
              "      <th>75</th>\n",
              "      <td>3272</td>\n",
              "      <td>Chelsea Handler Hilariously Trashes Trump’s S...</td>\n",
              "    </tr>\n",
              "    <tr>\n",
              "      <th>76</th>\n",
              "      <td>38350</td>\n",
              "      <td>Trump’s Biggest KKK Fan Is Back, And He Just ...</td>\n",
              "    </tr>\n",
              "    <tr>\n",
              "      <th>78</th>\n",
              "      <td>41191</td>\n",
              "      <td>Sean Spicer Just Gave ‘Alternative Facts’ Abo...</td>\n",
              "    </tr>\n",
              "    <tr>\n",
              "      <th>80</th>\n",
              "      <td>27218</td>\n",
              "      <td>Donald Trump Tries To Spin ‘Second Amendment’...</td>\n",
              "    </tr>\n",
              "    <tr>\n",
              "      <th>88</th>\n",
              "      <td>35729</td>\n",
              "      <td>WATCH: Trump Aide Asks CRAZIEST Question Ever...</td>\n",
              "    </tr>\n",
              "    <tr>\n",
              "      <th>89</th>\n",
              "      <td>42957</td>\n",
              "      <td>WATCH: We Found Donald Trump’s Campaign Theme...</td>\n",
              "    </tr>\n",
              "    <tr>\n",
              "      <th>94</th>\n",
              "      <td>29741</td>\n",
              "      <td>Texas Cop Vows To Brutalize Any Trans Woman W...</td>\n",
              "    </tr>\n",
              "  </tbody>\n",
              "</table>\n",
              "</div>\n",
              "      <button class=\"colab-df-convert\" onclick=\"convertToInteractive('df-4c6b93ac-4f70-4c74-99b7-ee1f85c77d3f')\"\n",
              "              title=\"Convert this dataframe to an interactive table.\"\n",
              "              style=\"display:none;\">\n",
              "        \n",
              "  <svg xmlns=\"http://www.w3.org/2000/svg\" height=\"24px\"viewBox=\"0 0 24 24\"\n",
              "       width=\"24px\">\n",
              "    <path d=\"M0 0h24v24H0V0z\" fill=\"none\"/>\n",
              "    <path d=\"M18.56 5.44l.94 2.06.94-2.06 2.06-.94-2.06-.94-.94-2.06-.94 2.06-2.06.94zm-11 1L8.5 8.5l.94-2.06 2.06-.94-2.06-.94L8.5 2.5l-.94 2.06-2.06.94zm10 10l.94 2.06.94-2.06 2.06-.94-2.06-.94-.94-2.06-.94 2.06-2.06.94z\"/><path d=\"M17.41 7.96l-1.37-1.37c-.4-.4-.92-.59-1.43-.59-.52 0-1.04.2-1.43.59L10.3 9.45l-7.72 7.72c-.78.78-.78 2.05 0 2.83L4 21.41c.39.39.9.59 1.41.59.51 0 1.02-.2 1.41-.59l7.78-7.78 2.81-2.81c.8-.78.8-2.07 0-2.86zM5.41 20L4 18.59l7.72-7.72 1.47 1.35L5.41 20z\"/>\n",
              "  </svg>\n",
              "      </button>\n",
              "      \n",
              "  <style>\n",
              "    .colab-df-container {\n",
              "      display:flex;\n",
              "      flex-wrap:wrap;\n",
              "      gap: 12px;\n",
              "    }\n",
              "\n",
              "    .colab-df-convert {\n",
              "      background-color: #E8F0FE;\n",
              "      border: none;\n",
              "      border-radius: 50%;\n",
              "      cursor: pointer;\n",
              "      display: none;\n",
              "      fill: #1967D2;\n",
              "      height: 32px;\n",
              "      padding: 0 0 0 0;\n",
              "      width: 32px;\n",
              "    }\n",
              "\n",
              "    .colab-df-convert:hover {\n",
              "      background-color: #E2EBFA;\n",
              "      box-shadow: 0px 1px 2px rgba(60, 64, 67, 0.3), 0px 1px 3px 1px rgba(60, 64, 67, 0.15);\n",
              "      fill: #174EA6;\n",
              "    }\n",
              "\n",
              "    [theme=dark] .colab-df-convert {\n",
              "      background-color: #3B4455;\n",
              "      fill: #D2E3FC;\n",
              "    }\n",
              "\n",
              "    [theme=dark] .colab-df-convert:hover {\n",
              "      background-color: #434B5C;\n",
              "      box-shadow: 0px 1px 3px 1px rgba(0, 0, 0, 0.15);\n",
              "      filter: drop-shadow(0px 1px 2px rgba(0, 0, 0, 0.3));\n",
              "      fill: #FFFFFF;\n",
              "    }\n",
              "  </style>\n",
              "\n",
              "      <script>\n",
              "        const buttonEl =\n",
              "          document.querySelector('#df-4c6b93ac-4f70-4c74-99b7-ee1f85c77d3f button.colab-df-convert');\n",
              "        buttonEl.style.display =\n",
              "          google.colab.kernel.accessAllowed ? 'block' : 'none';\n",
              "\n",
              "        async function convertToInteractive(key) {\n",
              "          const element = document.querySelector('#df-4c6b93ac-4f70-4c74-99b7-ee1f85c77d3f');\n",
              "          const dataTable =\n",
              "            await google.colab.kernel.invokeFunction('convertToInteractive',\n",
              "                                                     [key], {});\n",
              "          if (!dataTable) return;\n",
              "\n",
              "          const docLinkHtml = 'Like what you see? Visit the ' +\n",
              "            '<a target=\"_blank\" href=https://colab.research.google.com/notebooks/data_table.ipynb>data table notebook</a>'\n",
              "            + ' to learn more about interactive tables.';\n",
              "          element.innerHTML = '';\n",
              "          dataTable['output_type'] = 'display_data';\n",
              "          await google.colab.output.renderOutput(dataTable, element);\n",
              "          const docLink = document.createElement('div');\n",
              "          docLink.innerHTML = docLinkHtml;\n",
              "          element.appendChild(docLink);\n",
              "        }\n",
              "      </script>\n",
              "    </div>\n",
              "  </div>\n",
              "  "
            ],
            "text/plain": [
              "       id                                              title\n",
              "0   20109   BUSTED: Steel Unions FURIOUS At Trump For Des...\n",
              "1   16178   Greedy Trump Cuts Takes Housing Money Away Fr...\n",
              "2   39856   Trump Just Got DESTROYED By J.K. Rowling For ...\n",
              "3   23254   Gawker Fools Trump Into Quoting Genocidal Man...\n",
              "6   13970   WATCH: Paul Manafort Gets DESTROYED On CNN Fo...\n",
              "7   26810   Trump’s Excuse For All His Sexist Statements ...\n",
              "8    5086   Billionaire Richard Branson Breaks Silence Ab...\n",
              "9    8318   Warren Buffett Knows Exactly Why Trump’s Camp...\n",
              "10   2932   Hillary’s Campaign Account Hasn’t Tweeted Sin...\n",
              "11  32545   CNN And MSNBC Destroy Trump, Black Out His Fa...\n",
              "16  11684   Trump Still Isn’t Convinced Russia Interfered...\n",
              "18   7174   SHAME: Proof Trump Doesn’t Care About Militar...\n",
              "20   2084   Donald Trump Has Become So Toxic That He Can’...\n",
              "24  11598   Donald Trump Is Destroying The Country’s Repu...\n",
              "28   9998   BREAKING: Sessions Lied, Discussed Trump Camp...\n",
              "34   4272   Sean Hannity Goes Apesh*t Over Trump As Caesa...\n",
              "43  41627   Paul Ryan Is So Unpopular Even 8th Graders Re...\n",
              "45  17702   Watch Bernie Sanders Slam The Hell Out Of Rep...\n",
              "50   5763   Actress Salma Hayek Perfectly BURNS Trump For...\n",
              "52  38522   Trump Gets P*SSED As TODAY Hosts Slam His ‘Ly...\n",
              "55    353   The Republican Jewish Coalition Loves Trump S...\n",
              "71  32717   Nobody Likes Donald Trump, And These Three DE...\n",
              "73  19594   Trump Is Literally Causing Business Owners To...\n",
              "75   3272   Chelsea Handler Hilariously Trashes Trump’s S...\n",
              "76  38350   Trump’s Biggest KKK Fan Is Back, And He Just ...\n",
              "78  41191   Sean Spicer Just Gave ‘Alternative Facts’ Abo...\n",
              "80  27218   Donald Trump Tries To Spin ‘Second Amendment’...\n",
              "88  35729   WATCH: Trump Aide Asks CRAZIEST Question Ever...\n",
              "89  42957   WATCH: We Found Donald Trump’s Campaign Theme...\n",
              "94  29741   Texas Cop Vows To Brutalize Any Trans Woman W..."
            ]
          },
          "metadata": {},
          "execution_count": 243
        }
      ]
    }
  ]
}