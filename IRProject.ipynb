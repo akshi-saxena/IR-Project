{
  "nbformat": 4,
  "nbformat_minor": 0,
  "metadata": {
    "colab": {
      "name": "IRProject.ipynb",
      "provenance": [],
      "collapsed_sections": [],
      "include_colab_link": true
    },
    "kernelspec": {
      "name": "python3",
      "display_name": "Python 3"
    },
    "language_info": {
      "name": "python"
    }
  },
  "cells": [
    {
      "cell_type": "markdown",
      "metadata": {
        "id": "view-in-github",
        "colab_type": "text"
      },
      "source": [
        "<a href=\"https://colab.research.google.com/github/akshi-saxena/IR-Project/blob/main/IRProject.ipynb\" target=\"_parent\"><img src=\"https://colab.research.google.com/assets/colab-badge.svg\" alt=\"Open In Colab\"/></a>"
      ]
    },
    {
      "cell_type": "markdown",
      "source": [
        "### Importing libraries"
      ],
      "metadata": {
        "id": "4OCaEYKpX8VN"
      }
    },
    {
      "cell_type": "code",
      "source": [
        "import pandas as pd\n",
        "import numpy as np\n",
        "\n",
        "import nltk\n",
        "from nltk import corpus\n",
        "nltk.download('stopwords')\n",
        "\n",
        "# from nltk.stem.porter import PorterStemmer\n",
        "\n",
        "import nltk\n",
        "nltk.download('wordnet')\n",
        "from nltk.stem import WordNetLemmatizer\n",
        "\n",
        "from sklearn.feature_extraction.text import TfidfVectorizer\n",
        "from sklearn.model_selection import train_test_split\n",
        "from sklearn.naive_bayes import MultinomialNB"
      ],
      "metadata": {
        "id": "QQUc9kxL_CMo",
        "colab": {
          "base_uri": "https://localhost:8080/"
        },
        "outputId": "188d8cbb-0b07-4db8-97ef-3ce729f0bb81"
      },
      "execution_count": 1,
      "outputs": [
        {
          "output_type": "stream",
          "name": "stdout",
          "text": [
            "[nltk_data] Downloading package stopwords to /root/nltk_data...\n",
            "[nltk_data]   Unzipping corpora/stopwords.zip.\n",
            "[nltk_data] Downloading package wordnet to /root/nltk_data...\n",
            "[nltk_data]   Unzipping corpora/wordnet.zip.\n"
          ]
        }
      ]
    },
    {
      "cell_type": "markdown",
      "source": [
        "### Acquiring Data"
      ],
      "metadata": {
        "id": "lBYck7YYYnpu"
      }
    },
    {
      "cell_type": "code",
      "source": [
        "# Code to read csv file into Colaboratory:\n",
        "!pip install -U -q PyDrive\n",
        "from pydrive.auth import GoogleAuth\n",
        "from pydrive.drive import GoogleDrive\n",
        "from google.colab import auth\n",
        "from oauth2client.client import GoogleCredentials\n",
        "# Authenticate and create the PyDrive client.\n",
        "auth.authenticate_user()\n",
        "gauth = GoogleAuth()\n",
        "gauth.credentials = GoogleCredentials.get_application_default()\n",
        "drive = GoogleDrive(gauth)"
      ],
      "metadata": {
        "id": "wGfJzPzf9Utn"
      },
      "execution_count": 2,
      "outputs": []
    },
    {
      "cell_type": "code",
      "execution_count": 3,
      "metadata": {
        "id": "VoULbMJ42MIm"
      },
      "outputs": [],
      "source": [
        "link_train = 'https://drive.google.com/file/d/1JnzRS-DX5zwxWpzIKf_RpM3fblt-yzcC'"
      ]
    },
    {
      "cell_type": "code",
      "source": [
        "data, id = link_train.split('/d/')\n",
        "print (id) # Verify that you have everything after '/d/'"
      ],
      "metadata": {
        "id": "5h3vmD-_3USt",
        "colab": {
          "base_uri": "https://localhost:8080/"
        },
        "outputId": "c4508e2c-56b8-47ec-b8e0-949f93f5eab6"
      },
      "execution_count": 4,
      "outputs": [
        {
          "output_type": "stream",
          "name": "stdout",
          "text": [
            "1JnzRS-DX5zwxWpzIKf_RpM3fblt-yzcC\n"
          ]
        }
      ]
    },
    {
      "cell_type": "markdown",
      "source": [
        "Create train dataframe"
      ],
      "metadata": {
        "id": "1F1iBdCZYvcw"
      }
    },
    {
      "cell_type": "code",
      "source": [
        "train = drive.CreateFile({'id':id}) \n",
        "train.GetContentFile('training.csv')  \n",
        "train_df = pd.read_csv('training.csv')"
      ],
      "metadata": {
        "id": "rqA1nOD69sFe"
      },
      "execution_count": 5,
      "outputs": []
    },
    {
      "cell_type": "code",
      "source": [
        "train_df.head()"
      ],
      "metadata": {
        "id": "RvUJTWar9_GK",
        "colab": {
          "base_uri": "https://localhost:8080/",
          "height": 206
        },
        "outputId": "1b2e15b9-e34d-4141-b8cd-eea251649bf8"
      },
      "execution_count": 6,
      "outputs": [
        {
          "output_type": "execute_result",
          "data": {
            "text/html": [
              "\n",
              "  <div id=\"df-9532518e-fc2a-4d8f-92c8-16b206b04c3e\">\n",
              "    <div class=\"colab-df-container\">\n",
              "      <div>\n",
              "<style scoped>\n",
              "    .dataframe tbody tr th:only-of-type {\n",
              "        vertical-align: middle;\n",
              "    }\n",
              "\n",
              "    .dataframe tbody tr th {\n",
              "        vertical-align: top;\n",
              "    }\n",
              "\n",
              "    .dataframe thead th {\n",
              "        text-align: right;\n",
              "    }\n",
              "</style>\n",
              "<table border=\"1\" class=\"dataframe\">\n",
              "  <thead>\n",
              "    <tr style=\"text-align: right;\">\n",
              "      <th></th>\n",
              "      <th>Id</th>\n",
              "      <th>title</th>\n",
              "      <th>text</th>\n",
              "      <th>subject</th>\n",
              "      <th>date</th>\n",
              "      <th>label</th>\n",
              "    </tr>\n",
              "  </thead>\n",
              "  <tbody>\n",
              "    <tr>\n",
              "      <th>0</th>\n",
              "      <td>13970</td>\n",
              "      <td>WATCH: Paul Manafort Gets DESTROYED On CNN Fo...</td>\n",
              "      <td>Paul Manafort, the chair of Donald Trump s cam...</td>\n",
              "      <td>News</td>\n",
              "      <td>August 14, 2016</td>\n",
              "      <td>1</td>\n",
              "    </tr>\n",
              "    <tr>\n",
              "      <th>1</th>\n",
              "      <td>41668</td>\n",
              "      <td>REFUGEE BUSINESS IS CASH COW FOR LUTHERAN CHAR...</td>\n",
              "      <td>How very  charitable  of the Lutheran and Cath...</td>\n",
              "      <td>left-news</td>\n",
              "      <td>May 8, 2015</td>\n",
              "      <td>1</td>\n",
              "    </tr>\n",
              "    <tr>\n",
              "      <th>2</th>\n",
              "      <td>26810</td>\n",
              "      <td>Trump’s Excuse For All His Sexist Statements ...</td>\n",
              "      <td>In case you ve been living under a rock for yo...</td>\n",
              "      <td>News</td>\n",
              "      <td>March 28, 2016</td>\n",
              "      <td>1</td>\n",
              "    </tr>\n",
              "    <tr>\n",
              "      <th>3</th>\n",
              "      <td>30967</td>\n",
              "      <td>'Jihadi Gran' gets 10 years after joining son ...</td>\n",
              "      <td>PARIS (Reuters) - A court on Friday sentenced ...</td>\n",
              "      <td>worldnews</td>\n",
              "      <td>October 6, 2017</td>\n",
              "      <td>0</td>\n",
              "    </tr>\n",
              "    <tr>\n",
              "      <th>4</th>\n",
              "      <td>26072</td>\n",
              "      <td>New Czech government to seek confidence vote o...</td>\n",
              "      <td>PRAGUE (Reuters) - The Czech government will s...</td>\n",
              "      <td>worldnews</td>\n",
              "      <td>December 13, 2017</td>\n",
              "      <td>0</td>\n",
              "    </tr>\n",
              "  </tbody>\n",
              "</table>\n",
              "</div>\n",
              "      <button class=\"colab-df-convert\" onclick=\"convertToInteractive('df-9532518e-fc2a-4d8f-92c8-16b206b04c3e')\"\n",
              "              title=\"Convert this dataframe to an interactive table.\"\n",
              "              style=\"display:none;\">\n",
              "        \n",
              "  <svg xmlns=\"http://www.w3.org/2000/svg\" height=\"24px\"viewBox=\"0 0 24 24\"\n",
              "       width=\"24px\">\n",
              "    <path d=\"M0 0h24v24H0V0z\" fill=\"none\"/>\n",
              "    <path d=\"M18.56 5.44l.94 2.06.94-2.06 2.06-.94-2.06-.94-.94-2.06-.94 2.06-2.06.94zm-11 1L8.5 8.5l.94-2.06 2.06-.94-2.06-.94L8.5 2.5l-.94 2.06-2.06.94zm10 10l.94 2.06.94-2.06 2.06-.94-2.06-.94-.94-2.06-.94 2.06-2.06.94z\"/><path d=\"M17.41 7.96l-1.37-1.37c-.4-.4-.92-.59-1.43-.59-.52 0-1.04.2-1.43.59L10.3 9.45l-7.72 7.72c-.78.78-.78 2.05 0 2.83L4 21.41c.39.39.9.59 1.41.59.51 0 1.02-.2 1.41-.59l7.78-7.78 2.81-2.81c.8-.78.8-2.07 0-2.86zM5.41 20L4 18.59l7.72-7.72 1.47 1.35L5.41 20z\"/>\n",
              "  </svg>\n",
              "      </button>\n",
              "      \n",
              "  <style>\n",
              "    .colab-df-container {\n",
              "      display:flex;\n",
              "      flex-wrap:wrap;\n",
              "      gap: 12px;\n",
              "    }\n",
              "\n",
              "    .colab-df-convert {\n",
              "      background-color: #E8F0FE;\n",
              "      border: none;\n",
              "      border-radius: 50%;\n",
              "      cursor: pointer;\n",
              "      display: none;\n",
              "      fill: #1967D2;\n",
              "      height: 32px;\n",
              "      padding: 0 0 0 0;\n",
              "      width: 32px;\n",
              "    }\n",
              "\n",
              "    .colab-df-convert:hover {\n",
              "      background-color: #E2EBFA;\n",
              "      box-shadow: 0px 1px 2px rgba(60, 64, 67, 0.3), 0px 1px 3px 1px rgba(60, 64, 67, 0.15);\n",
              "      fill: #174EA6;\n",
              "    }\n",
              "\n",
              "    [theme=dark] .colab-df-convert {\n",
              "      background-color: #3B4455;\n",
              "      fill: #D2E3FC;\n",
              "    }\n",
              "\n",
              "    [theme=dark] .colab-df-convert:hover {\n",
              "      background-color: #434B5C;\n",
              "      box-shadow: 0px 1px 3px 1px rgba(0, 0, 0, 0.15);\n",
              "      filter: drop-shadow(0px 1px 2px rgba(0, 0, 0, 0.3));\n",
              "      fill: #FFFFFF;\n",
              "    }\n",
              "  </style>\n",
              "\n",
              "      <script>\n",
              "        const buttonEl =\n",
              "          document.querySelector('#df-9532518e-fc2a-4d8f-92c8-16b206b04c3e button.colab-df-convert');\n",
              "        buttonEl.style.display =\n",
              "          google.colab.kernel.accessAllowed ? 'block' : 'none';\n",
              "\n",
              "        async function convertToInteractive(key) {\n",
              "          const element = document.querySelector('#df-9532518e-fc2a-4d8f-92c8-16b206b04c3e');\n",
              "          const dataTable =\n",
              "            await google.colab.kernel.invokeFunction('convertToInteractive',\n",
              "                                                     [key], {});\n",
              "          if (!dataTable) return;\n",
              "\n",
              "          const docLinkHtml = 'Like what you see? Visit the ' +\n",
              "            '<a target=\"_blank\" href=https://colab.research.google.com/notebooks/data_table.ipynb>data table notebook</a>'\n",
              "            + ' to learn more about interactive tables.';\n",
              "          element.innerHTML = '';\n",
              "          dataTable['output_type'] = 'display_data';\n",
              "          await google.colab.output.renderOutput(dataTable, element);\n",
              "          const docLink = document.createElement('div');\n",
              "          docLink.innerHTML = docLinkHtml;\n",
              "          element.appendChild(docLink);\n",
              "        }\n",
              "      </script>\n",
              "    </div>\n",
              "  </div>\n",
              "  "
            ],
            "text/plain": [
              "      Id  ... label\n",
              "0  13970  ...     1\n",
              "1  41668  ...     1\n",
              "2  26810  ...     1\n",
              "3  30967  ...     0\n",
              "4  26072  ...     0\n",
              "\n",
              "[5 rows x 6 columns]"
            ]
          },
          "metadata": {},
          "execution_count": 6
        }
      ]
    },
    {
      "cell_type": "code",
      "source": [
        "# Records in training data\n",
        "len(train_df)"
      ],
      "metadata": {
        "id": "scRexz7G_JGJ",
        "colab": {
          "base_uri": "https://localhost:8080/"
        },
        "outputId": "da58a531-125e-4426-b986-a0bcce380822"
      },
      "execution_count": 7,
      "outputs": [
        {
          "output_type": "execute_result",
          "data": {
            "text/plain": [
              "31428"
            ]
          },
          "metadata": {},
          "execution_count": 7
        }
      ]
    },
    {
      "cell_type": "markdown",
      "source": [
        "Create test dataframe"
      ],
      "metadata": {
        "id": "6rWGO7y-Y--1"
      }
    },
    {
      "cell_type": "code",
      "source": [
        "link_test = 'https://drive.google.com/file/d/1kO4FkbqMdpa1_fDVWHqvQ7CxfxS5AMwE'"
      ],
      "metadata": {
        "id": "eTSQ4kbC_Oyd"
      },
      "execution_count": 8,
      "outputs": []
    },
    {
      "cell_type": "code",
      "source": [
        "data, id = link_test.split('/d/')\n",
        "print (id) # Verify that you have everything after '/d/'"
      ],
      "metadata": {
        "id": "3zYHq8Gu_ijt",
        "colab": {
          "base_uri": "https://localhost:8080/"
        },
        "outputId": "34791834-fd2c-4846-aa5c-b28ab28b9981"
      },
      "execution_count": 9,
      "outputs": [
        {
          "output_type": "stream",
          "name": "stdout",
          "text": [
            "1kO4FkbqMdpa1_fDVWHqvQ7CxfxS5AMwE\n"
          ]
        }
      ]
    },
    {
      "cell_type": "code",
      "source": [
        "train = drive.CreateFile({'id':id}) \n",
        "train.GetContentFile('test.csv')  \n",
        "test_df = pd.read_csv('test.csv')"
      ],
      "metadata": {
        "id": "GU82RU3i_lD1"
      },
      "execution_count": 10,
      "outputs": []
    },
    {
      "cell_type": "code",
      "source": [
        "test_df.head()"
      ],
      "metadata": {
        "id": "zXFx80gO_6Rg",
        "colab": {
          "base_uri": "https://localhost:8080/",
          "height": 206
        },
        "outputId": "9f47f793-3db7-428e-ce9a-a308690874ba"
      },
      "execution_count": 11,
      "outputs": [
        {
          "output_type": "execute_result",
          "data": {
            "text/html": [
              "\n",
              "  <div id=\"df-fe67ed3a-d962-4a9b-9420-7a97bf5bcd0d\">\n",
              "    <div class=\"colab-df-container\">\n",
              "      <div>\n",
              "<style scoped>\n",
              "    .dataframe tbody tr th:only-of-type {\n",
              "        vertical-align: middle;\n",
              "    }\n",
              "\n",
              "    .dataframe tbody tr th {\n",
              "        vertical-align: top;\n",
              "    }\n",
              "\n",
              "    .dataframe thead th {\n",
              "        text-align: right;\n",
              "    }\n",
              "</style>\n",
              "<table border=\"1\" class=\"dataframe\">\n",
              "  <thead>\n",
              "    <tr style=\"text-align: right;\">\n",
              "      <th></th>\n",
              "      <th>Id</th>\n",
              "      <th>title</th>\n",
              "      <th>text</th>\n",
              "      <th>subject</th>\n",
              "      <th>date</th>\n",
              "    </tr>\n",
              "  </thead>\n",
              "  <tbody>\n",
              "    <tr>\n",
              "      <th>0</th>\n",
              "      <td>22216</td>\n",
              "      <td>Five killed in sectarian attack in Pakistan</td>\n",
              "      <td>QUETTA, Pakistan (Reuters) - (This October 9 s...</td>\n",
              "      <td>worldnews</td>\n",
              "      <td>October 9, 2017</td>\n",
              "    </tr>\n",
              "    <tr>\n",
              "      <th>1</th>\n",
              "      <td>27917</td>\n",
              "      <td>White House narrows search to three for Suprem...</td>\n",
              "      <td>WASHINGTON/AUSTIN, Texas (Reuters) - The White...</td>\n",
              "      <td>politicsNews</td>\n",
              "      <td>March 11, 2016</td>\n",
              "    </tr>\n",
              "    <tr>\n",
              "      <th>2</th>\n",
              "      <td>25007</td>\n",
              "      <td>THE DEATH OF P.C. POLICE? Trump’s DOJ Makes Ma...</td>\n",
              "      <td>The Justice Department on Thursday dropped the...</td>\n",
              "      <td>politics</td>\n",
              "      <td>Jun 30, 2017</td>\n",
              "    </tr>\n",
              "    <tr>\n",
              "      <th>3</th>\n",
              "      <td>1377</td>\n",
              "      <td>House, Senate Republicans face challenge over ...</td>\n",
              "      <td>WASHINGTON (Reuters) - U.S. Republicans in Con...</td>\n",
              "      <td>politicsNews</td>\n",
              "      <td>December 5, 2017</td>\n",
              "    </tr>\n",
              "    <tr>\n",
              "      <th>4</th>\n",
              "      <td>32476</td>\n",
              "      <td>China complains about Taiwan content in U.S. d...</td>\n",
              "      <td>BEIJING (Reuters) - China said on Thursday it ...</td>\n",
              "      <td>worldnews</td>\n",
              "      <td>December 14, 2017</td>\n",
              "    </tr>\n",
              "  </tbody>\n",
              "</table>\n",
              "</div>\n",
              "      <button class=\"colab-df-convert\" onclick=\"convertToInteractive('df-fe67ed3a-d962-4a9b-9420-7a97bf5bcd0d')\"\n",
              "              title=\"Convert this dataframe to an interactive table.\"\n",
              "              style=\"display:none;\">\n",
              "        \n",
              "  <svg xmlns=\"http://www.w3.org/2000/svg\" height=\"24px\"viewBox=\"0 0 24 24\"\n",
              "       width=\"24px\">\n",
              "    <path d=\"M0 0h24v24H0V0z\" fill=\"none\"/>\n",
              "    <path d=\"M18.56 5.44l.94 2.06.94-2.06 2.06-.94-2.06-.94-.94-2.06-.94 2.06-2.06.94zm-11 1L8.5 8.5l.94-2.06 2.06-.94-2.06-.94L8.5 2.5l-.94 2.06-2.06.94zm10 10l.94 2.06.94-2.06 2.06-.94-2.06-.94-.94-2.06-.94 2.06-2.06.94z\"/><path d=\"M17.41 7.96l-1.37-1.37c-.4-.4-.92-.59-1.43-.59-.52 0-1.04.2-1.43.59L10.3 9.45l-7.72 7.72c-.78.78-.78 2.05 0 2.83L4 21.41c.39.39.9.59 1.41.59.51 0 1.02-.2 1.41-.59l7.78-7.78 2.81-2.81c.8-.78.8-2.07 0-2.86zM5.41 20L4 18.59l7.72-7.72 1.47 1.35L5.41 20z\"/>\n",
              "  </svg>\n",
              "      </button>\n",
              "      \n",
              "  <style>\n",
              "    .colab-df-container {\n",
              "      display:flex;\n",
              "      flex-wrap:wrap;\n",
              "      gap: 12px;\n",
              "    }\n",
              "\n",
              "    .colab-df-convert {\n",
              "      background-color: #E8F0FE;\n",
              "      border: none;\n",
              "      border-radius: 50%;\n",
              "      cursor: pointer;\n",
              "      display: none;\n",
              "      fill: #1967D2;\n",
              "      height: 32px;\n",
              "      padding: 0 0 0 0;\n",
              "      width: 32px;\n",
              "    }\n",
              "\n",
              "    .colab-df-convert:hover {\n",
              "      background-color: #E2EBFA;\n",
              "      box-shadow: 0px 1px 2px rgba(60, 64, 67, 0.3), 0px 1px 3px 1px rgba(60, 64, 67, 0.15);\n",
              "      fill: #174EA6;\n",
              "    }\n",
              "\n",
              "    [theme=dark] .colab-df-convert {\n",
              "      background-color: #3B4455;\n",
              "      fill: #D2E3FC;\n",
              "    }\n",
              "\n",
              "    [theme=dark] .colab-df-convert:hover {\n",
              "      background-color: #434B5C;\n",
              "      box-shadow: 0px 1px 3px 1px rgba(0, 0, 0, 0.15);\n",
              "      filter: drop-shadow(0px 1px 2px rgba(0, 0, 0, 0.3));\n",
              "      fill: #FFFFFF;\n",
              "    }\n",
              "  </style>\n",
              "\n",
              "      <script>\n",
              "        const buttonEl =\n",
              "          document.querySelector('#df-fe67ed3a-d962-4a9b-9420-7a97bf5bcd0d button.colab-df-convert');\n",
              "        buttonEl.style.display =\n",
              "          google.colab.kernel.accessAllowed ? 'block' : 'none';\n",
              "\n",
              "        async function convertToInteractive(key) {\n",
              "          const element = document.querySelector('#df-fe67ed3a-d962-4a9b-9420-7a97bf5bcd0d');\n",
              "          const dataTable =\n",
              "            await google.colab.kernel.invokeFunction('convertToInteractive',\n",
              "                                                     [key], {});\n",
              "          if (!dataTable) return;\n",
              "\n",
              "          const docLinkHtml = 'Like what you see? Visit the ' +\n",
              "            '<a target=\"_blank\" href=https://colab.research.google.com/notebooks/data_table.ipynb>data table notebook</a>'\n",
              "            + ' to learn more about interactive tables.';\n",
              "          element.innerHTML = '';\n",
              "          dataTable['output_type'] = 'display_data';\n",
              "          await google.colab.output.renderOutput(dataTable, element);\n",
              "          const docLink = document.createElement('div');\n",
              "          docLink.innerHTML = docLinkHtml;\n",
              "          element.appendChild(docLink);\n",
              "        }\n",
              "      </script>\n",
              "    </div>\n",
              "  </div>\n",
              "  "
            ],
            "text/plain": [
              "      Id  ...                date\n",
              "0  22216  ...    October 9, 2017 \n",
              "1  27917  ...     March 11, 2016 \n",
              "2  25007  ...        Jun 30, 2017\n",
              "3   1377  ...   December 5, 2017 \n",
              "4  32476  ...  December 14, 2017 \n",
              "\n",
              "[5 rows x 5 columns]"
            ]
          },
          "metadata": {},
          "execution_count": 11
        }
      ]
    },
    {
      "cell_type": "code",
      "source": [
        "#Records in test dataframe\n",
        "len(test_df)"
      ],
      "metadata": {
        "id": "gY_JngdlAVGc",
        "colab": {
          "base_uri": "https://localhost:8080/"
        },
        "outputId": "54ade3c5-5892-4221-dbdd-e9681d41ace3"
      },
      "execution_count": 12,
      "outputs": [
        {
          "output_type": "execute_result",
          "data": {
            "text/plain": [
              "13470"
            ]
          },
          "metadata": {},
          "execution_count": 12
        }
      ]
    },
    {
      "cell_type": "markdown",
      "source": [
        "### Dropping null values"
      ],
      "metadata": {
        "id": "VafD6B82ZFpm"
      }
    },
    {
      "cell_type": "code",
      "source": [
        "train_df = train_df.dropna()\n",
        "train_df"
      ],
      "metadata": {
        "id": "yfj_7ayTK31U",
        "colab": {
          "base_uri": "https://localhost:8080/",
          "height": 467
        },
        "outputId": "4dad5a05-600c-44d2-b272-918661b01c0f"
      },
      "execution_count": 13,
      "outputs": [
        {
          "output_type": "execute_result",
          "data": {
            "text/html": [
              "\n",
              "  <div id=\"df-d44f3b34-6a24-4365-8e42-17709c0e75a9\">\n",
              "    <div class=\"colab-df-container\">\n",
              "      <div>\n",
              "<style scoped>\n",
              "    .dataframe tbody tr th:only-of-type {\n",
              "        vertical-align: middle;\n",
              "    }\n",
              "\n",
              "    .dataframe tbody tr th {\n",
              "        vertical-align: top;\n",
              "    }\n",
              "\n",
              "    .dataframe thead th {\n",
              "        text-align: right;\n",
              "    }\n",
              "</style>\n",
              "<table border=\"1\" class=\"dataframe\">\n",
              "  <thead>\n",
              "    <tr style=\"text-align: right;\">\n",
              "      <th></th>\n",
              "      <th>Id</th>\n",
              "      <th>title</th>\n",
              "      <th>text</th>\n",
              "      <th>subject</th>\n",
              "      <th>date</th>\n",
              "      <th>label</th>\n",
              "    </tr>\n",
              "  </thead>\n",
              "  <tbody>\n",
              "    <tr>\n",
              "      <th>0</th>\n",
              "      <td>13970</td>\n",
              "      <td>WATCH: Paul Manafort Gets DESTROYED On CNN Fo...</td>\n",
              "      <td>Paul Manafort, the chair of Donald Trump s cam...</td>\n",
              "      <td>News</td>\n",
              "      <td>August 14, 2016</td>\n",
              "      <td>1</td>\n",
              "    </tr>\n",
              "    <tr>\n",
              "      <th>1</th>\n",
              "      <td>41668</td>\n",
              "      <td>REFUGEE BUSINESS IS CASH COW FOR LUTHERAN CHAR...</td>\n",
              "      <td>How very  charitable  of the Lutheran and Cath...</td>\n",
              "      <td>left-news</td>\n",
              "      <td>May 8, 2015</td>\n",
              "      <td>1</td>\n",
              "    </tr>\n",
              "    <tr>\n",
              "      <th>2</th>\n",
              "      <td>26810</td>\n",
              "      <td>Trump’s Excuse For All His Sexist Statements ...</td>\n",
              "      <td>In case you ve been living under a rock for yo...</td>\n",
              "      <td>News</td>\n",
              "      <td>March 28, 2016</td>\n",
              "      <td>1</td>\n",
              "    </tr>\n",
              "    <tr>\n",
              "      <th>3</th>\n",
              "      <td>30967</td>\n",
              "      <td>'Jihadi Gran' gets 10 years after joining son ...</td>\n",
              "      <td>PARIS (Reuters) - A court on Friday sentenced ...</td>\n",
              "      <td>worldnews</td>\n",
              "      <td>October 6, 2017</td>\n",
              "      <td>0</td>\n",
              "    </tr>\n",
              "    <tr>\n",
              "      <th>4</th>\n",
              "      <td>26072</td>\n",
              "      <td>New Czech government to seek confidence vote o...</td>\n",
              "      <td>PRAGUE (Reuters) - The Czech government will s...</td>\n",
              "      <td>worldnews</td>\n",
              "      <td>December 13, 2017</td>\n",
              "      <td>0</td>\n",
              "    </tr>\n",
              "    <tr>\n",
              "      <th>...</th>\n",
              "      <td>...</td>\n",
              "      <td>...</td>\n",
              "      <td>...</td>\n",
              "      <td>...</td>\n",
              "      <td>...</td>\n",
              "      <td>...</td>\n",
              "    </tr>\n",
              "    <tr>\n",
              "      <th>31423</th>\n",
              "      <td>11284</td>\n",
              "      <td>CHICAGO TRUMP RALLY CANCELLED: Radicals And BL...</td>\n",
              "      <td>A huge rally of 10,000 Chicagoans didn t get t...</td>\n",
              "      <td>politics</td>\n",
              "      <td>Mar 11, 2016</td>\n",
              "      <td>1</td>\n",
              "    </tr>\n",
              "    <tr>\n",
              "      <th>31424</th>\n",
              "      <td>44732</td>\n",
              "      <td>Trump supports completion of Dakota Access Pip...</td>\n",
              "      <td>WASHINGTON (Reuters) - U.S. President-elect Do...</td>\n",
              "      <td>politicsNews</td>\n",
              "      <td>December 5, 2016</td>\n",
              "      <td>0</td>\n",
              "    </tr>\n",
              "    <tr>\n",
              "      <th>31425</th>\n",
              "      <td>38158</td>\n",
              "      <td>Obama Can’t Stop Winning As New Jobs Report S...</td>\n",
              "      <td>Today, I would hate to be a Republican strateg...</td>\n",
              "      <td>News</td>\n",
              "      <td>January 8, 2016</td>\n",
              "      <td>1</td>\n",
              "    </tr>\n",
              "    <tr>\n",
              "      <th>31426</th>\n",
              "      <td>860</td>\n",
              "      <td>Turkey bank regulator dismisses 'rumors' after...</td>\n",
              "      <td>ANKARA (Reuters) - Turkey s banking regulator ...</td>\n",
              "      <td>worldnews</td>\n",
              "      <td>October 21, 2017</td>\n",
              "      <td>0</td>\n",
              "    </tr>\n",
              "    <tr>\n",
              "      <th>31427</th>\n",
              "      <td>15795</td>\n",
              "      <td>California mayors ask for governor's support f...</td>\n",
              "      <td>(Reuters) - Five mayors in northern California...</td>\n",
              "      <td>politicsNews</td>\n",
              "      <td>May 27, 2016</td>\n",
              "      <td>0</td>\n",
              "    </tr>\n",
              "  </tbody>\n",
              "</table>\n",
              "<p>31428 rows × 6 columns</p>\n",
              "</div>\n",
              "      <button class=\"colab-df-convert\" onclick=\"convertToInteractive('df-d44f3b34-6a24-4365-8e42-17709c0e75a9')\"\n",
              "              title=\"Convert this dataframe to an interactive table.\"\n",
              "              style=\"display:none;\">\n",
              "        \n",
              "  <svg xmlns=\"http://www.w3.org/2000/svg\" height=\"24px\"viewBox=\"0 0 24 24\"\n",
              "       width=\"24px\">\n",
              "    <path d=\"M0 0h24v24H0V0z\" fill=\"none\"/>\n",
              "    <path d=\"M18.56 5.44l.94 2.06.94-2.06 2.06-.94-2.06-.94-.94-2.06-.94 2.06-2.06.94zm-11 1L8.5 8.5l.94-2.06 2.06-.94-2.06-.94L8.5 2.5l-.94 2.06-2.06.94zm10 10l.94 2.06.94-2.06 2.06-.94-2.06-.94-.94-2.06-.94 2.06-2.06.94z\"/><path d=\"M17.41 7.96l-1.37-1.37c-.4-.4-.92-.59-1.43-.59-.52 0-1.04.2-1.43.59L10.3 9.45l-7.72 7.72c-.78.78-.78 2.05 0 2.83L4 21.41c.39.39.9.59 1.41.59.51 0 1.02-.2 1.41-.59l7.78-7.78 2.81-2.81c.8-.78.8-2.07 0-2.86zM5.41 20L4 18.59l7.72-7.72 1.47 1.35L5.41 20z\"/>\n",
              "  </svg>\n",
              "      </button>\n",
              "      \n",
              "  <style>\n",
              "    .colab-df-container {\n",
              "      display:flex;\n",
              "      flex-wrap:wrap;\n",
              "      gap: 12px;\n",
              "    }\n",
              "\n",
              "    .colab-df-convert {\n",
              "      background-color: #E8F0FE;\n",
              "      border: none;\n",
              "      border-radius: 50%;\n",
              "      cursor: pointer;\n",
              "      display: none;\n",
              "      fill: #1967D2;\n",
              "      height: 32px;\n",
              "      padding: 0 0 0 0;\n",
              "      width: 32px;\n",
              "    }\n",
              "\n",
              "    .colab-df-convert:hover {\n",
              "      background-color: #E2EBFA;\n",
              "      box-shadow: 0px 1px 2px rgba(60, 64, 67, 0.3), 0px 1px 3px 1px rgba(60, 64, 67, 0.15);\n",
              "      fill: #174EA6;\n",
              "    }\n",
              "\n",
              "    [theme=dark] .colab-df-convert {\n",
              "      background-color: #3B4455;\n",
              "      fill: #D2E3FC;\n",
              "    }\n",
              "\n",
              "    [theme=dark] .colab-df-convert:hover {\n",
              "      background-color: #434B5C;\n",
              "      box-shadow: 0px 1px 3px 1px rgba(0, 0, 0, 0.15);\n",
              "      filter: drop-shadow(0px 1px 2px rgba(0, 0, 0, 0.3));\n",
              "      fill: #FFFFFF;\n",
              "    }\n",
              "  </style>\n",
              "\n",
              "      <script>\n",
              "        const buttonEl =\n",
              "          document.querySelector('#df-d44f3b34-6a24-4365-8e42-17709c0e75a9 button.colab-df-convert');\n",
              "        buttonEl.style.display =\n",
              "          google.colab.kernel.accessAllowed ? 'block' : 'none';\n",
              "\n",
              "        async function convertToInteractive(key) {\n",
              "          const element = document.querySelector('#df-d44f3b34-6a24-4365-8e42-17709c0e75a9');\n",
              "          const dataTable =\n",
              "            await google.colab.kernel.invokeFunction('convertToInteractive',\n",
              "                                                     [key], {});\n",
              "          if (!dataTable) return;\n",
              "\n",
              "          const docLinkHtml = 'Like what you see? Visit the ' +\n",
              "            '<a target=\"_blank\" href=https://colab.research.google.com/notebooks/data_table.ipynb>data table notebook</a>'\n",
              "            + ' to learn more about interactive tables.';\n",
              "          element.innerHTML = '';\n",
              "          dataTable['output_type'] = 'display_data';\n",
              "          await google.colab.output.renderOutput(dataTable, element);\n",
              "          const docLink = document.createElement('div');\n",
              "          docLink.innerHTML = docLinkHtml;\n",
              "          element.appendChild(docLink);\n",
              "        }\n",
              "      </script>\n",
              "    </div>\n",
              "  </div>\n",
              "  "
            ],
            "text/plain": [
              "          Id  ... label\n",
              "0      13970  ...     1\n",
              "1      41668  ...     1\n",
              "2      26810  ...     1\n",
              "3      30967  ...     0\n",
              "4      26072  ...     0\n",
              "...      ...  ...   ...\n",
              "31423  11284  ...     1\n",
              "31424  44732  ...     0\n",
              "31425  38158  ...     1\n",
              "31426    860  ...     0\n",
              "31427  15795  ...     0\n",
              "\n",
              "[31428 rows x 6 columns]"
            ]
          },
          "metadata": {},
          "execution_count": 13
        }
      ]
    },
    {
      "cell_type": "markdown",
      "source": [
        "### Removing Stopwords"
      ],
      "metadata": {
        "id": "UxEqL0ovZKE8"
      }
    },
    {
      "cell_type": "code",
      "source": [
        "stop_words = corpus.stopwords.words('english')\n",
        "def remove_stopwords(text):\n",
        "    return ' '.join(word.lower() for word in text.split(' ') if word not in stop_words)\n",
        "\n",
        "train_df.text = train_df.text.apply(remove_stopwords)"
      ],
      "metadata": {
        "id": "ruYYTxC5Eg0h"
      },
      "execution_count": 14,
      "outputs": []
    },
    {
      "cell_type": "code",
      "source": [
        "train_df.head()"
      ],
      "metadata": {
        "id": "cFHf8RG7GDCD",
        "colab": {
          "base_uri": "https://localhost:8080/",
          "height": 206
        },
        "outputId": "f9f8c7ff-643b-4da3-c9de-c8d6f8d2aca6"
      },
      "execution_count": 15,
      "outputs": [
        {
          "output_type": "execute_result",
          "data": {
            "text/html": [
              "\n",
              "  <div id=\"df-e40867c7-a3c0-4f69-8855-0e1995ecf47d\">\n",
              "    <div class=\"colab-df-container\">\n",
              "      <div>\n",
              "<style scoped>\n",
              "    .dataframe tbody tr th:only-of-type {\n",
              "        vertical-align: middle;\n",
              "    }\n",
              "\n",
              "    .dataframe tbody tr th {\n",
              "        vertical-align: top;\n",
              "    }\n",
              "\n",
              "    .dataframe thead th {\n",
              "        text-align: right;\n",
              "    }\n",
              "</style>\n",
              "<table border=\"1\" class=\"dataframe\">\n",
              "  <thead>\n",
              "    <tr style=\"text-align: right;\">\n",
              "      <th></th>\n",
              "      <th>Id</th>\n",
              "      <th>title</th>\n",
              "      <th>text</th>\n",
              "      <th>subject</th>\n",
              "      <th>date</th>\n",
              "      <th>label</th>\n",
              "    </tr>\n",
              "  </thead>\n",
              "  <tbody>\n",
              "    <tr>\n",
              "      <th>0</th>\n",
              "      <td>13970</td>\n",
              "      <td>WATCH: Paul Manafort Gets DESTROYED On CNN Fo...</td>\n",
              "      <td>paul manafort, chair donald trump campaign, go...</td>\n",
              "      <td>News</td>\n",
              "      <td>August 14, 2016</td>\n",
              "      <td>1</td>\n",
              "    </tr>\n",
              "    <tr>\n",
              "      <th>1</th>\n",
              "      <td>41668</td>\n",
              "      <td>REFUGEE BUSINESS IS CASH COW FOR LUTHERAN CHAR...</td>\n",
              "      <td>how  charitable  lutheran catholic churches br...</td>\n",
              "      <td>left-news</td>\n",
              "      <td>May 8, 2015</td>\n",
              "      <td>1</td>\n",
              "    </tr>\n",
              "    <tr>\n",
              "      <th>2</th>\n",
              "      <td>26810</td>\n",
              "      <td>Trump’s Excuse For All His Sexist Statements ...</td>\n",
              "      <td>in case living rock entire life, especially ca...</td>\n",
              "      <td>News</td>\n",
              "      <td>March 28, 2016</td>\n",
              "      <td>1</td>\n",
              "    </tr>\n",
              "    <tr>\n",
              "      <th>3</th>\n",
              "      <td>30967</td>\n",
              "      <td>'Jihadi Gran' gets 10 years after joining son ...</td>\n",
              "      <td>paris (reuters) - a court friday sentenced rad...</td>\n",
              "      <td>worldnews</td>\n",
              "      <td>October 6, 2017</td>\n",
              "      <td>0</td>\n",
              "    </tr>\n",
              "    <tr>\n",
              "      <th>4</th>\n",
              "      <td>26072</td>\n",
              "      <td>New Czech government to seek confidence vote o...</td>\n",
              "      <td>prague (reuters) - the czech government seek v...</td>\n",
              "      <td>worldnews</td>\n",
              "      <td>December 13, 2017</td>\n",
              "      <td>0</td>\n",
              "    </tr>\n",
              "  </tbody>\n",
              "</table>\n",
              "</div>\n",
              "      <button class=\"colab-df-convert\" onclick=\"convertToInteractive('df-e40867c7-a3c0-4f69-8855-0e1995ecf47d')\"\n",
              "              title=\"Convert this dataframe to an interactive table.\"\n",
              "              style=\"display:none;\">\n",
              "        \n",
              "  <svg xmlns=\"http://www.w3.org/2000/svg\" height=\"24px\"viewBox=\"0 0 24 24\"\n",
              "       width=\"24px\">\n",
              "    <path d=\"M0 0h24v24H0V0z\" fill=\"none\"/>\n",
              "    <path d=\"M18.56 5.44l.94 2.06.94-2.06 2.06-.94-2.06-.94-.94-2.06-.94 2.06-2.06.94zm-11 1L8.5 8.5l.94-2.06 2.06-.94-2.06-.94L8.5 2.5l-.94 2.06-2.06.94zm10 10l.94 2.06.94-2.06 2.06-.94-2.06-.94-.94-2.06-.94 2.06-2.06.94z\"/><path d=\"M17.41 7.96l-1.37-1.37c-.4-.4-.92-.59-1.43-.59-.52 0-1.04.2-1.43.59L10.3 9.45l-7.72 7.72c-.78.78-.78 2.05 0 2.83L4 21.41c.39.39.9.59 1.41.59.51 0 1.02-.2 1.41-.59l7.78-7.78 2.81-2.81c.8-.78.8-2.07 0-2.86zM5.41 20L4 18.59l7.72-7.72 1.47 1.35L5.41 20z\"/>\n",
              "  </svg>\n",
              "      </button>\n",
              "      \n",
              "  <style>\n",
              "    .colab-df-container {\n",
              "      display:flex;\n",
              "      flex-wrap:wrap;\n",
              "      gap: 12px;\n",
              "    }\n",
              "\n",
              "    .colab-df-convert {\n",
              "      background-color: #E8F0FE;\n",
              "      border: none;\n",
              "      border-radius: 50%;\n",
              "      cursor: pointer;\n",
              "      display: none;\n",
              "      fill: #1967D2;\n",
              "      height: 32px;\n",
              "      padding: 0 0 0 0;\n",
              "      width: 32px;\n",
              "    }\n",
              "\n",
              "    .colab-df-convert:hover {\n",
              "      background-color: #E2EBFA;\n",
              "      box-shadow: 0px 1px 2px rgba(60, 64, 67, 0.3), 0px 1px 3px 1px rgba(60, 64, 67, 0.15);\n",
              "      fill: #174EA6;\n",
              "    }\n",
              "\n",
              "    [theme=dark] .colab-df-convert {\n",
              "      background-color: #3B4455;\n",
              "      fill: #D2E3FC;\n",
              "    }\n",
              "\n",
              "    [theme=dark] .colab-df-convert:hover {\n",
              "      background-color: #434B5C;\n",
              "      box-shadow: 0px 1px 3px 1px rgba(0, 0, 0, 0.15);\n",
              "      filter: drop-shadow(0px 1px 2px rgba(0, 0, 0, 0.3));\n",
              "      fill: #FFFFFF;\n",
              "    }\n",
              "  </style>\n",
              "\n",
              "      <script>\n",
              "        const buttonEl =\n",
              "          document.querySelector('#df-e40867c7-a3c0-4f69-8855-0e1995ecf47d button.colab-df-convert');\n",
              "        buttonEl.style.display =\n",
              "          google.colab.kernel.accessAllowed ? 'block' : 'none';\n",
              "\n",
              "        async function convertToInteractive(key) {\n",
              "          const element = document.querySelector('#df-e40867c7-a3c0-4f69-8855-0e1995ecf47d');\n",
              "          const dataTable =\n",
              "            await google.colab.kernel.invokeFunction('convertToInteractive',\n",
              "                                                     [key], {});\n",
              "          if (!dataTable) return;\n",
              "\n",
              "          const docLinkHtml = 'Like what you see? Visit the ' +\n",
              "            '<a target=\"_blank\" href=https://colab.research.google.com/notebooks/data_table.ipynb>data table notebook</a>'\n",
              "            + ' to learn more about interactive tables.';\n",
              "          element.innerHTML = '';\n",
              "          dataTable['output_type'] = 'display_data';\n",
              "          await google.colab.output.renderOutput(dataTable, element);\n",
              "          const docLink = document.createElement('div');\n",
              "          docLink.innerHTML = docLinkHtml;\n",
              "          element.appendChild(docLink);\n",
              "        }\n",
              "      </script>\n",
              "    </div>\n",
              "  </div>\n",
              "  "
            ],
            "text/plain": [
              "      Id  ... label\n",
              "0  13970  ...     1\n",
              "1  41668  ...     1\n",
              "2  26810  ...     1\n",
              "3  30967  ...     0\n",
              "4  26072  ...     0\n",
              "\n",
              "[5 rows x 6 columns]"
            ]
          },
          "metadata": {},
          "execution_count": 15
        }
      ]
    },
    {
      "cell_type": "markdown",
      "source": [
        "### Removing junk characters"
      ],
      "metadata": {
        "id": "EZWmkjUzr09E"
      }
    },
    {
      "cell_type": "code",
      "source": [
        "train_df.text = train_df.text.str.replace('\\d+','')"
      ],
      "metadata": {
        "id": "FnIFPjftr0Hy"
      },
      "execution_count": 16,
      "outputs": []
    },
    {
      "cell_type": "markdown",
      "source": [
        "### Lemmatization"
      ],
      "metadata": {
        "id": "_RRip4M1Zl0z"
      }
    },
    {
      "cell_type": "code",
      "source": [
        "lemmatizer = WordNetLemmatizer()\n",
        "def lemmatizing(text):\n",
        "    return ' '.join(lemmatizer.lemmatize(word) for word in text.split(' ') )\n",
        "\n",
        "train_df.text = train_df.text.apply(lemmatizing)"
      ],
      "metadata": {
        "id": "2pR66wjfr8rA"
      },
      "execution_count": 17,
      "outputs": []
    },
    {
      "cell_type": "markdown",
      "source": [
        "### Calculate TF-IDF"
      ],
      "metadata": {
        "id": "MQ8i__pXZtOn"
      }
    },
    {
      "cell_type": "code",
      "source": [
        "tfidf =TfidfVectorizer(max_features=5000, ngram_range=(1,3))\n",
        "X = tfidf.fit_transform(train_df.text).toarray()"
      ],
      "metadata": {
        "id": "gV5Eo7_nXdtS"
      },
      "execution_count": 18,
      "outputs": []
    },
    {
      "cell_type": "code",
      "source": [
        "X.shape"
      ],
      "metadata": {
        "id": "eDnu4eSgbOyj",
        "colab": {
          "base_uri": "https://localhost:8080/"
        },
        "outputId": "ba200b94-0cd4-4142-b07e-73809030bd8d"
      },
      "execution_count": 19,
      "outputs": [
        {
          "output_type": "execute_result",
          "data": {
            "text/plain": [
              "(31428, 5000)"
            ]
          },
          "metadata": {},
          "execution_count": 19
        }
      ]
    },
    {
      "cell_type": "code",
      "source": [
        "y = train_df.label"
      ],
      "metadata": {
        "id": "JxbKuoq2d8hj"
      },
      "execution_count": 20,
      "outputs": []
    },
    {
      "cell_type": "markdown",
      "source": [
        "Create train-validation data split"
      ],
      "metadata": {
        "id": "lWpsq0JjZ4An"
      }
    },
    {
      "cell_type": "code",
      "source": [
        "x_train, x_dev, y_train, y_dev = train_test_split(X,y,train_size=0.25, random_state = 12)"
      ],
      "metadata": {
        "id": "WFrQCM3AeXWN"
      },
      "execution_count": 21,
      "outputs": []
    },
    {
      "cell_type": "markdown",
      "source": [
        "### Naive Bayes Classifier"
      ],
      "metadata": {
        "id": "gn29CHd9Z9uy"
      }
    },
    {
      "cell_type": "code",
      "source": [
        "classifier = MultinomialNB().fit(x_train,y_train)\n",
        "preds = classifier.predict(x_dev)"
      ],
      "metadata": {
        "id": "JjuQ09FLbOp1"
      },
      "execution_count": 22,
      "outputs": []
    },
    {
      "cell_type": "code",
      "source": [
        "preds[:100]"
      ],
      "metadata": {
        "id": "U7JJsstbbOmE",
        "colab": {
          "base_uri": "https://localhost:8080/"
        },
        "outputId": "6c6a53ad-935d-4d70-9adc-9e14760b736a"
      },
      "execution_count": 23,
      "outputs": [
        {
          "output_type": "execute_result",
          "data": {
            "text/plain": [
              "array([0, 1, 1, 1, 1, 0, 0, 0, 0, 1, 0, 1, 0, 1, 1, 1, 0, 0, 0, 1, 1, 0,\n",
              "       0, 1, 0, 1, 1, 1, 1, 0, 1, 1, 0, 1, 1, 0, 0, 0, 1, 1, 0, 1, 0, 1,\n",
              "       0, 0, 0, 1, 0, 0, 1, 1, 0, 0, 1, 0, 1, 0, 1, 0, 0, 1, 1, 0, 0, 1,\n",
              "       1, 1, 1, 0, 1, 1, 1, 1, 1, 1, 0, 1, 0, 1, 1, 1, 1, 1, 1, 0, 1, 1,\n",
              "       1, 1, 1, 0, 1, 0, 1, 1, 0, 1, 0, 0])"
            ]
          },
          "metadata": {},
          "execution_count": 23
        }
      ]
    },
    {
      "cell_type": "markdown",
      "source": [
        "### Calculate accuracy"
      ],
      "metadata": {
        "id": "z0T0MtYDaBu_"
      }
    },
    {
      "cell_type": "code",
      "source": [
        "def accuracy(preds, actual):\n",
        "  acc = 0 \n",
        "  for i,j in zip(preds, actual):\n",
        "    if i == j:\n",
        "      acc += 1\n",
        "\n",
        "  return acc/len(actual)"
      ],
      "metadata": {
        "id": "kNBw69GUd6Iy"
      },
      "execution_count": 24,
      "outputs": []
    },
    {
      "cell_type": "code",
      "source": [
        "# Calculate accuracy\n",
        "accuracy(preds, y_dev)"
      ],
      "metadata": {
        "colab": {
          "base_uri": "https://localhost:8080/"
        },
        "id": "36DzTbrCLF37",
        "outputId": "0f0e1de9-142c-4111-9566-bc2e0d367fd3"
      },
      "execution_count": 25,
      "outputs": [
        {
          "output_type": "execute_result",
          "data": {
            "text/plain": [
              "0.9474354079165076"
            ]
          },
          "metadata": {},
          "execution_count": 25
        }
      ]
    },
    {
      "cell_type": "markdown",
      "source": [
        "### Calculate Precision and Recall"
      ],
      "metadata": {
        "id": "OlGXbqQ1a5Oo"
      }
    },
    {
      "cell_type": "code",
      "source": [
        "def precision(gold_labels, predicted_labels, positive_label = '1'):\n",
        "    tp = 0\n",
        "    fp = 0\n",
        "    tn = 0\n",
        "    fn = 0\n",
        "    for i,j in zip(gold_labels, predicted_labels):\n",
        "      if i == positive_label:\n",
        "          if j == i:\n",
        "              tp += 1\n",
        "          else:\n",
        "              fn += 1\n",
        "      else:\n",
        "          if j == i:\n",
        "              tn += 1\n",
        "          else:\n",
        "              fp += 1\n",
        "    return (tp) / (tp + fp)\n",
        "\n",
        "\n",
        "def recall(gold_labels, predicted_labels, positive_label = '1'):\n",
        "    tp = 0\n",
        "    fp = 0\n",
        "    tn = 0\n",
        "    fn = 0\n",
        "    for i,j in zip(gold_labels, predicted_labels):\n",
        "        if i == positive_label:\n",
        "            if i == j:\n",
        "                tp += 1\n",
        "            else:\n",
        "                fn += 1\n",
        "        else:\n",
        "            if i == j:\n",
        "                tn += 1\n",
        "            else:\n",
        "                fp += 1\n",
        "    return (tp) / (tp + fn)\n",
        "    "
      ],
      "metadata": {
        "id": "rjUCsj3td6DL"
      },
      "execution_count": 26,
      "outputs": []
    },
    {
      "cell_type": "code",
      "source": [
        "precision(y_dev.tolist(), list(preds.flatten()), 1)"
      ],
      "metadata": {
        "id": "9FTqybxQfa_i",
        "colab": {
          "base_uri": "https://localhost:8080/"
        },
        "outputId": "ee19498d-395d-4f7c-88b4-362b546ff31a"
      },
      "execution_count": 27,
      "outputs": [
        {
          "output_type": "execute_result",
          "data": {
            "text/plain": [
              "0.9534391534391534"
            ]
          },
          "metadata": {},
          "execution_count": 27
        }
      ]
    },
    {
      "cell_type": "code",
      "source": [
        "recall(y_dev.tolist(), list(preds.flatten()), 1)"
      ],
      "metadata": {
        "id": "g8KRtlWDfa1u",
        "colab": {
          "base_uri": "https://localhost:8080/"
        },
        "outputId": "3b9ae63c-2190-451c-89e5-3fe3c660399f"
      },
      "execution_count": 28,
      "outputs": [
        {
          "output_type": "execute_result",
          "data": {
            "text/plain": [
              "0.9461227786752827"
            ]
          },
          "metadata": {},
          "execution_count": 28
        }
      ]
    },
    {
      "cell_type": "markdown",
      "source": [
        "### Getting Topical relevance"
      ],
      "metadata": {
        "id": "xzJd46DTlBRf"
      }
    },
    {
      "cell_type": "code",
      "source": [
        "# Topics in the dataset\n",
        "train_df[\"subject\"].value_counts()"
      ],
      "metadata": {
        "colab": {
          "base_uri": "https://localhost:8080/"
        },
        "id": "mafxIFQ5lHTK",
        "outputId": "fc3adbf1-b11a-4f37-fbee-f884b1da3ddb"
      },
      "execution_count": 29,
      "outputs": [
        {
          "output_type": "execute_result",
          "data": {
            "text/plain": [
              "politicsNews       7863\n",
              "worldnews          7088\n",
              "News               6378\n",
              "politics           4832\n",
              "left-news          3096\n",
              "Government News    1089\n",
              "US_News             546\n",
              "Middle-east         536\n",
              "Name: subject, dtype: int64"
            ]
          },
          "metadata": {},
          "execution_count": 29
        }
      ]
    },
    {
      "cell_type": "code",
      "source": [
        "#Convert topics to numeric values\n",
        "train_df[\"subject\"] = train_df[\"subject\"].astype('category')\n",
        "train_df[\"subject_label\"] = train_df[\"subject\"].cat.codes"
      ],
      "metadata": {
        "id": "wl0cy0ZqlHNe"
      },
      "execution_count": 30,
      "outputs": []
    },
    {
      "cell_type": "code",
      "source": [
        "train_df"
      ],
      "metadata": {
        "colab": {
          "base_uri": "https://localhost:8080/",
          "height": 624
        },
        "id": "y0ctNZJolHDO",
        "outputId": "d81cd1da-a7ac-47f0-caa2-d61d874af485"
      },
      "execution_count": 31,
      "outputs": [
        {
          "output_type": "execute_result",
          "data": {
            "text/html": [
              "\n",
              "  <div id=\"df-d364f06f-a38b-4677-b151-8c3a55582e19\">\n",
              "    <div class=\"colab-df-container\">\n",
              "      <div>\n",
              "<style scoped>\n",
              "    .dataframe tbody tr th:only-of-type {\n",
              "        vertical-align: middle;\n",
              "    }\n",
              "\n",
              "    .dataframe tbody tr th {\n",
              "        vertical-align: top;\n",
              "    }\n",
              "\n",
              "    .dataframe thead th {\n",
              "        text-align: right;\n",
              "    }\n",
              "</style>\n",
              "<table border=\"1\" class=\"dataframe\">\n",
              "  <thead>\n",
              "    <tr style=\"text-align: right;\">\n",
              "      <th></th>\n",
              "      <th>Id</th>\n",
              "      <th>title</th>\n",
              "      <th>text</th>\n",
              "      <th>subject</th>\n",
              "      <th>date</th>\n",
              "      <th>label</th>\n",
              "      <th>subject_label</th>\n",
              "    </tr>\n",
              "  </thead>\n",
              "  <tbody>\n",
              "    <tr>\n",
              "      <th>0</th>\n",
              "      <td>13970</td>\n",
              "      <td>WATCH: Paul Manafort Gets DESTROYED On CNN Fo...</td>\n",
              "      <td>paul manafort, chair donald trump campaign, go...</td>\n",
              "      <td>News</td>\n",
              "      <td>August 14, 2016</td>\n",
              "      <td>1</td>\n",
              "      <td>2</td>\n",
              "    </tr>\n",
              "    <tr>\n",
              "      <th>1</th>\n",
              "      <td>41668</td>\n",
              "      <td>REFUGEE BUSINESS IS CASH COW FOR LUTHERAN CHAR...</td>\n",
              "      <td>how  charitable  lutheran catholic church brin...</td>\n",
              "      <td>left-news</td>\n",
              "      <td>May 8, 2015</td>\n",
              "      <td>1</td>\n",
              "      <td>4</td>\n",
              "    </tr>\n",
              "    <tr>\n",
              "      <th>2</th>\n",
              "      <td>26810</td>\n",
              "      <td>Trump’s Excuse For All His Sexist Statements ...</td>\n",
              "      <td>in case living rock entire life, especially ca...</td>\n",
              "      <td>News</td>\n",
              "      <td>March 28, 2016</td>\n",
              "      <td>1</td>\n",
              "      <td>2</td>\n",
              "    </tr>\n",
              "    <tr>\n",
              "      <th>3</th>\n",
              "      <td>30967</td>\n",
              "      <td>'Jihadi Gran' gets 10 years after joining son ...</td>\n",
              "      <td>paris (reuters) - a court friday sentenced rad...</td>\n",
              "      <td>worldnews</td>\n",
              "      <td>October 6, 2017</td>\n",
              "      <td>0</td>\n",
              "      <td>7</td>\n",
              "    </tr>\n",
              "    <tr>\n",
              "      <th>4</th>\n",
              "      <td>26072</td>\n",
              "      <td>New Czech government to seek confidence vote o...</td>\n",
              "      <td>prague (reuters) - the czech government seek v...</td>\n",
              "      <td>worldnews</td>\n",
              "      <td>December 13, 2017</td>\n",
              "      <td>0</td>\n",
              "      <td>7</td>\n",
              "    </tr>\n",
              "    <tr>\n",
              "      <th>...</th>\n",
              "      <td>...</td>\n",
              "      <td>...</td>\n",
              "      <td>...</td>\n",
              "      <td>...</td>\n",
              "      <td>...</td>\n",
              "      <td>...</td>\n",
              "      <td>...</td>\n",
              "    </tr>\n",
              "    <tr>\n",
              "      <th>31423</th>\n",
              "      <td>11284</td>\n",
              "      <td>CHICAGO TRUMP RALLY CANCELLED: Radicals And BL...</td>\n",
              "      <td>a huge rally , chicagoans get hear candidate s...</td>\n",
              "      <td>politics</td>\n",
              "      <td>Mar 11, 2016</td>\n",
              "      <td>1</td>\n",
              "      <td>5</td>\n",
              "    </tr>\n",
              "    <tr>\n",
              "      <th>31424</th>\n",
              "      <td>44732</td>\n",
              "      <td>Trump supports completion of Dakota Access Pip...</td>\n",
              "      <td>washington (reuters) - u.s. president-elect do...</td>\n",
              "      <td>politicsNews</td>\n",
              "      <td>December 5, 2016</td>\n",
              "      <td>0</td>\n",
              "      <td>6</td>\n",
              "    </tr>\n",
              "    <tr>\n",
              "      <th>31425</th>\n",
              "      <td>38158</td>\n",
              "      <td>Obama Can’t Stop Winning As New Jobs Report S...</td>\n",
              "      <td>today, i would hate republican strategist. why...</td>\n",
              "      <td>News</td>\n",
              "      <td>January 8, 2016</td>\n",
              "      <td>1</td>\n",
              "      <td>2</td>\n",
              "    </tr>\n",
              "    <tr>\n",
              "      <th>31426</th>\n",
              "      <td>860</td>\n",
              "      <td>Turkey bank regulator dismisses 'rumors' after...</td>\n",
              "      <td>ankara (reuters) - turkey banking regulator ur...</td>\n",
              "      <td>worldnews</td>\n",
              "      <td>October 21, 2017</td>\n",
              "      <td>0</td>\n",
              "      <td>7</td>\n",
              "    </tr>\n",
              "    <tr>\n",
              "      <th>31427</th>\n",
              "      <td>15795</td>\n",
              "      <td>California mayors ask for governor's support f...</td>\n",
              "      <td>(reuters) - five mayor northern california thu...</td>\n",
              "      <td>politicsNews</td>\n",
              "      <td>May 27, 2016</td>\n",
              "      <td>0</td>\n",
              "      <td>6</td>\n",
              "    </tr>\n",
              "  </tbody>\n",
              "</table>\n",
              "<p>31428 rows × 7 columns</p>\n",
              "</div>\n",
              "      <button class=\"colab-df-convert\" onclick=\"convertToInteractive('df-d364f06f-a38b-4677-b151-8c3a55582e19')\"\n",
              "              title=\"Convert this dataframe to an interactive table.\"\n",
              "              style=\"display:none;\">\n",
              "        \n",
              "  <svg xmlns=\"http://www.w3.org/2000/svg\" height=\"24px\"viewBox=\"0 0 24 24\"\n",
              "       width=\"24px\">\n",
              "    <path d=\"M0 0h24v24H0V0z\" fill=\"none\"/>\n",
              "    <path d=\"M18.56 5.44l.94 2.06.94-2.06 2.06-.94-2.06-.94-.94-2.06-.94 2.06-2.06.94zm-11 1L8.5 8.5l.94-2.06 2.06-.94-2.06-.94L8.5 2.5l-.94 2.06-2.06.94zm10 10l.94 2.06.94-2.06 2.06-.94-2.06-.94-.94-2.06-.94 2.06-2.06.94z\"/><path d=\"M17.41 7.96l-1.37-1.37c-.4-.4-.92-.59-1.43-.59-.52 0-1.04.2-1.43.59L10.3 9.45l-7.72 7.72c-.78.78-.78 2.05 0 2.83L4 21.41c.39.39.9.59 1.41.59.51 0 1.02-.2 1.41-.59l7.78-7.78 2.81-2.81c.8-.78.8-2.07 0-2.86zM5.41 20L4 18.59l7.72-7.72 1.47 1.35L5.41 20z\"/>\n",
              "  </svg>\n",
              "      </button>\n",
              "      \n",
              "  <style>\n",
              "    .colab-df-container {\n",
              "      display:flex;\n",
              "      flex-wrap:wrap;\n",
              "      gap: 12px;\n",
              "    }\n",
              "\n",
              "    .colab-df-convert {\n",
              "      background-color: #E8F0FE;\n",
              "      border: none;\n",
              "      border-radius: 50%;\n",
              "      cursor: pointer;\n",
              "      display: none;\n",
              "      fill: #1967D2;\n",
              "      height: 32px;\n",
              "      padding: 0 0 0 0;\n",
              "      width: 32px;\n",
              "    }\n",
              "\n",
              "    .colab-df-convert:hover {\n",
              "      background-color: #E2EBFA;\n",
              "      box-shadow: 0px 1px 2px rgba(60, 64, 67, 0.3), 0px 1px 3px 1px rgba(60, 64, 67, 0.15);\n",
              "      fill: #174EA6;\n",
              "    }\n",
              "\n",
              "    [theme=dark] .colab-df-convert {\n",
              "      background-color: #3B4455;\n",
              "      fill: #D2E3FC;\n",
              "    }\n",
              "\n",
              "    [theme=dark] .colab-df-convert:hover {\n",
              "      background-color: #434B5C;\n",
              "      box-shadow: 0px 1px 3px 1px rgba(0, 0, 0, 0.15);\n",
              "      filter: drop-shadow(0px 1px 2px rgba(0, 0, 0, 0.3));\n",
              "      fill: #FFFFFF;\n",
              "    }\n",
              "  </style>\n",
              "\n",
              "      <script>\n",
              "        const buttonEl =\n",
              "          document.querySelector('#df-d364f06f-a38b-4677-b151-8c3a55582e19 button.colab-df-convert');\n",
              "        buttonEl.style.display =\n",
              "          google.colab.kernel.accessAllowed ? 'block' : 'none';\n",
              "\n",
              "        async function convertToInteractive(key) {\n",
              "          const element = document.querySelector('#df-d364f06f-a38b-4677-b151-8c3a55582e19');\n",
              "          const dataTable =\n",
              "            await google.colab.kernel.invokeFunction('convertToInteractive',\n",
              "                                                     [key], {});\n",
              "          if (!dataTable) return;\n",
              "\n",
              "          const docLinkHtml = 'Like what you see? Visit the ' +\n",
              "            '<a target=\"_blank\" href=https://colab.research.google.com/notebooks/data_table.ipynb>data table notebook</a>'\n",
              "            + ' to learn more about interactive tables.';\n",
              "          element.innerHTML = '';\n",
              "          dataTable['output_type'] = 'display_data';\n",
              "          await google.colab.output.renderOutput(dataTable, element);\n",
              "          const docLink = document.createElement('div');\n",
              "          docLink.innerHTML = docLinkHtml;\n",
              "          element.appendChild(docLink);\n",
              "        }\n",
              "      </script>\n",
              "    </div>\n",
              "  </div>\n",
              "  "
            ],
            "text/plain": [
              "          Id  ... subject_label\n",
              "0      13970  ...             2\n",
              "1      41668  ...             4\n",
              "2      26810  ...             2\n",
              "3      30967  ...             7\n",
              "4      26072  ...             7\n",
              "...      ...  ...           ...\n",
              "31423  11284  ...             5\n",
              "31424  44732  ...             6\n",
              "31425  38158  ...             2\n",
              "31426    860  ...             7\n",
              "31427  15795  ...             6\n",
              "\n",
              "[31428 rows x 7 columns]"
            ]
          },
          "metadata": {},
          "execution_count": 31
        }
      ]
    },
    {
      "cell_type": "markdown",
      "source": [
        "Calculate TF-IDF and pass to classifier"
      ],
      "metadata": {
        "id": "Z6MuZyBID3Z7"
      }
    },
    {
      "cell_type": "code",
      "source": [
        "X_multi = tfidf.fit_transform(train_df.text).toarray()\n",
        "y_multi = train_df.subject_label"
      ],
      "metadata": {
        "id": "ggkah3g8o3gV"
      },
      "execution_count": 32,
      "outputs": []
    },
    {
      "cell_type": "code",
      "source": [
        "x_multi_train,x_multi_dev,y_multi_train,y_multi_dev = train_test_split(X_multi,y_multi,train_size=0.25, random_state = 32)\n",
        "multi_classifier = MultinomialNB().fit(x_multi_train,y_multi_train)\n",
        "preds_multi = multi_classifier.predict(x_multi_dev)"
      ],
      "metadata": {
        "id": "QstsPNjYo3Up"
      },
      "execution_count": 33,
      "outputs": []
    },
    {
      "cell_type": "code",
      "source": [
        "accuracy(preds_multi, y_multi_dev)"
      ],
      "metadata": {
        "colab": {
          "base_uri": "https://localhost:8080/"
        },
        "id": "LiECV7sqqNbG",
        "outputId": "2b105a69-101b-49d9-9648-debdf6796312"
      },
      "execution_count": 34,
      "outputs": [
        {
          "output_type": "execute_result",
          "data": {
            "text/plain": [
              "0.7045946289932544"
            ]
          },
          "metadata": {},
          "execution_count": 34
        }
      ]
    },
    {
      "cell_type": "markdown",
      "source": [
        "### Test Data prediction"
      ],
      "metadata": {
        "id": "petxqTQuG1dc"
      }
    },
    {
      "cell_type": "code",
      "source": [
        "test_df = test_df.dropna()\n",
        "test_df.text = test_df.text.apply(remove_stopwords)\n",
        "test_df.text = test_df.text.apply(lemmatizing)\n",
        "test_df.text"
      ],
      "metadata": {
        "colab": {
          "base_uri": "https://localhost:8080/"
        },
        "outputId": "bec83063-3f3e-47fa-bc83-60fb8bb3e41c",
        "id": "yL78fMYzG1dd"
      },
      "execution_count": 35,
      "outputs": [
        {
          "output_type": "execute_result",
          "data": {
            "text/plain": [
              "0        quetta, pakistan (reuters) - (this october 9 s...\n",
              "1        washington/austin, texas (reuters) - the white...\n",
              "2        the justice department thursday dropped legal ...\n",
              "3        washington (reuters) - u.s. republican congres...\n",
              "4        beijing (reuters) - china said thursday compla...\n",
              "                               ...                        \n",
              "13465    ron reagan, late president reagan son, underst...\n",
              "13466    a prolific trump foe found viral fame boasting...\n",
              "13467    washington (reuters) - u.s. president donald t...\n",
              "13468    beijing (reuters) - a young chinese climbing e...\n",
              "13469    hillary lost lead swing state oh, nv, ia fl si...\n",
              "Name: text, Length: 13470, dtype: object"
            ]
          },
          "metadata": {},
          "execution_count": 35
        }
      ]
    },
    {
      "cell_type": "code",
      "source": [
        "X_test = tfidf.fit_transform(train_df.text).toarray()"
      ],
      "metadata": {
        "id": "FUxFhYXgG1de"
      },
      "execution_count": 36,
      "outputs": []
    },
    {
      "cell_type": "code",
      "source": [
        "X_test.shape"
      ],
      "metadata": {
        "colab": {
          "base_uri": "https://localhost:8080/"
        },
        "outputId": "068717a4-9b7b-41f9-ae4d-f3c3cc2ac68b",
        "id": "Nq13mpaBG1df"
      },
      "execution_count": 37,
      "outputs": [
        {
          "output_type": "execute_result",
          "data": {
            "text/plain": [
              "(31428, 5000)"
            ]
          },
          "metadata": {},
          "execution_count": 37
        }
      ]
    },
    {
      "cell_type": "code",
      "source": [
        "pred_test = classifier.predict(X_test)\n",
        "pred_test[:100]"
      ],
      "metadata": {
        "colab": {
          "base_uri": "https://localhost:8080/"
        },
        "outputId": "2d7a6757-dd06-41da-fea1-86ad5dbf943b",
        "id": "KPrJ42sHG1dg"
      },
      "execution_count": 38,
      "outputs": [
        {
          "output_type": "execute_result",
          "data": {
            "text/plain": [
              "array([1, 1, 1, 0, 0, 1, 1, 1, 0, 0, 0, 1, 0, 0, 0, 1, 0, 0, 1, 1, 1, 0,\n",
              "       0, 0, 0, 0, 0, 0, 0, 1, 1, 0, 1, 0, 0, 1, 1, 0, 0, 1, 0, 1, 1, 0,\n",
              "       1, 0, 1, 1, 0, 0, 1, 0, 1, 1, 1, 1, 1, 1, 1, 0, 0, 0, 0, 0, 1, 1,\n",
              "       0, 0, 1, 1, 1, 1, 1, 0, 0, 1, 0, 1, 1, 0, 0, 1, 1, 1, 1, 1, 1, 0,\n",
              "       0, 1, 0, 0, 1, 1, 1, 0, 0, 0, 1, 1])"
            ]
          },
          "metadata": {},
          "execution_count": 38
        }
      ]
    },
    {
      "cell_type": "code",
      "source": [
        "multi_classifier.predict(X_test)"
      ],
      "metadata": {
        "id": "fqJTpHwCG1dg",
        "colab": {
          "base_uri": "https://localhost:8080/"
        },
        "outputId": "cf6749fe-ddf8-4f13-de40-d57436146cee"
      },
      "execution_count": 39,
      "outputs": [
        {
          "output_type": "execute_result",
          "data": {
            "text/plain": [
              "array([2, 5, 2, ..., 2, 7, 6], dtype=int8)"
            ]
          },
          "metadata": {},
          "execution_count": 39
        }
      ]
    },
    {
      "cell_type": "markdown",
      "source": [
        "### Calculate query - doc similarity"
      ],
      "metadata": {
        "id": "af5dyW1eG7ta"
      }
    },
    {
      "cell_type": "code",
      "source": [
        "titles = list(train_df.title)\n",
        "docs = list(train_df.text)\n",
        "ids = list(train_df.Id)"
      ],
      "metadata": {
        "id": "OwYq77hqrn4-"
      },
      "execution_count": 40,
      "outputs": []
    },
    {
      "cell_type": "code",
      "source": [
        "X = tfidf.fit_transform(docs)\n",
        "# Convert the X as transposed matrix\n",
        "X = X.T.toarray()\n",
        "# Create a DataFrame and set the vocabulary as the index\n",
        "df = pd.DataFrame(X, index=tfidf.get_feature_names_out())"
      ],
      "metadata": {
        "id": "HWE1wA2ern2M"
      },
      "execution_count": 41,
      "outputs": []
    },
    {
      "cell_type": "markdown",
      "source": [
        "### Calculate similarity score of query and document"
      ],
      "metadata": {
        "id": "5PhCZTt9EPax"
      }
    },
    {
      "cell_type": "code",
      "source": [
        "def get_similar_articles(q, df, n):\n",
        "  print(\"query:\", q)\n",
        "  print(\"search results: \")\n",
        "  ans_df = pd.DataFrame()\n",
        "  ans_title = []\n",
        "  ans_sim = []\n",
        "  ans_id = []\n",
        "\n",
        "  # Convert the query become a vector\n",
        "  q = [q]\n",
        "  q_vec = tfidf.transform(q).toarray().reshape(df.shape[0],)\n",
        "  sim = {}\n",
        "  \n",
        "  # Calculate the similarity\n",
        "  for i in range(df.shape[1]):\n",
        "    sim[i] = np.dot(df.loc[:, i].values, q_vec) / np.linalg.norm(df.loc[:, i]) * np.linalg.norm(q_vec)\n",
        "  \n",
        "  # Sort the values \n",
        "  sim_sorted = sorted(sim.items(), key=lambda x: x[1], reverse=True)\n",
        "  # Print the articles and their similarity values\n",
        "  for k, v in sim_sorted:\n",
        "    if v != 0.0:\n",
        "      # print(\"Cosine Similarity:\", v)\n",
        "      ans_sim.append(v)\n",
        "      # print(titles[k])\n",
        "      ans_title.append(titles[k])\n",
        "      ans_id.append(ids[k])\n",
        "      # print()\n",
        "  ans_df['id'] = ans_id\n",
        "  ans_df['title'] = ans_title\n",
        "  ans_df['sim'] = ans_sim\n",
        "  return ans_df[:n]"
      ],
      "metadata": {
        "id": "S_VzGMmGrnzB"
      },
      "execution_count": 42,
      "outputs": []
    },
    {
      "cell_type": "markdown",
      "source": [
        "### Basic Search Engine"
      ],
      "metadata": {
        "id": "UdUw_GZgHRJ0"
      }
    },
    {
      "cell_type": "code",
      "source": [
        "# Add The Query\n",
        "q1 = 'trump'\n",
        "\n",
        "# Get 100 similar documents\n",
        "ans = get_similar_articles(q1, df, 100)"
      ],
      "metadata": {
        "colab": {
          "base_uri": "https://localhost:8080/"
        },
        "id": "ubSoahR_rnvx",
        "outputId": "396e1b3d-a921-439d-f62f-7cdcf9835558"
      },
      "execution_count": 43,
      "outputs": [
        {
          "output_type": "stream",
          "name": "stdout",
          "text": [
            "query: trump\n",
            "search results: \n"
          ]
        },
        {
          "output_type": "stream",
          "name": "stderr",
          "text": [
            "/usr/local/lib/python3.7/dist-packages/ipykernel_launcher.py:16: RuntimeWarning: invalid value encountered in double_scalars\n",
            "  app.launch_new_instance()\n"
          ]
        }
      ]
    },
    {
      "cell_type": "code",
      "source": [
        "ans"
      ],
      "metadata": {
        "colab": {
          "base_uri": "https://localhost:8080/",
          "height": 423
        },
        "id": "3m7exGoMtZEL",
        "outputId": "55586563-d5af-4f58-ac54-3ee03bfa055b"
      },
      "execution_count": 44,
      "outputs": [
        {
          "output_type": "execute_result",
          "data": {
            "text/html": [
              "\n",
              "  <div id=\"df-4c18b1fc-c338-4c04-8ea8-6c44f57f22e7\">\n",
              "    <div class=\"colab-df-container\">\n",
              "      <div>\n",
              "<style scoped>\n",
              "    .dataframe tbody tr th:only-of-type {\n",
              "        vertical-align: middle;\n",
              "    }\n",
              "\n",
              "    .dataframe tbody tr th {\n",
              "        vertical-align: top;\n",
              "    }\n",
              "\n",
              "    .dataframe thead th {\n",
              "        text-align: right;\n",
              "    }\n",
              "</style>\n",
              "<table border=\"1\" class=\"dataframe\">\n",
              "  <thead>\n",
              "    <tr style=\"text-align: right;\">\n",
              "      <th></th>\n",
              "      <th>id</th>\n",
              "      <th>title</th>\n",
              "      <th>sim</th>\n",
              "    </tr>\n",
              "  </thead>\n",
              "  <tbody>\n",
              "    <tr>\n",
              "      <th>0</th>\n",
              "      <td>20109</td>\n",
              "      <td>BUSTED: Steel Unions FURIOUS At Trump For Des...</td>\n",
              "      <td>0.341291</td>\n",
              "    </tr>\n",
              "    <tr>\n",
              "      <th>1</th>\n",
              "      <td>16178</td>\n",
              "      <td>Greedy Trump Cuts Takes Housing Money Away Fr...</td>\n",
              "      <td>0.320256</td>\n",
              "    </tr>\n",
              "    <tr>\n",
              "      <th>2</th>\n",
              "      <td>39856</td>\n",
              "      <td>Trump Just Got DESTROYED By J.K. Rowling For ...</td>\n",
              "      <td>0.318098</td>\n",
              "    </tr>\n",
              "    <tr>\n",
              "      <th>3</th>\n",
              "      <td>32036</td>\n",
              "      <td>Trump, Pence master delicate art of dancing to...</td>\n",
              "      <td>0.290599</td>\n",
              "    </tr>\n",
              "    <tr>\n",
              "      <th>4</th>\n",
              "      <td>23254</td>\n",
              "      <td>Gawker Fools Trump Into Quoting Genocidal Man...</td>\n",
              "      <td>0.282543</td>\n",
              "    </tr>\n",
              "    <tr>\n",
              "      <th>...</th>\n",
              "      <td>...</td>\n",
              "      <td>...</td>\n",
              "      <td>...</td>\n",
              "    </tr>\n",
              "    <tr>\n",
              "      <th>95</th>\n",
              "      <td>30162</td>\n",
              "      <td>White House aims to speed U.S. drone, wireless...</td>\n",
              "      <td>0.033862</td>\n",
              "    </tr>\n",
              "    <tr>\n",
              "      <th>96</th>\n",
              "      <td>26891</td>\n",
              "      <td>LOL! HYPOCRITE HILLARY Gives Speech On Evils O...</td>\n",
              "      <td>0.032935</td>\n",
              "    </tr>\n",
              "    <tr>\n",
              "      <th>97</th>\n",
              "      <td>11709</td>\n",
              "      <td>CONTROVERSY AT SCHOOL After Brave Student Wear...</td>\n",
              "      <td>0.031069</td>\n",
              "    </tr>\n",
              "    <tr>\n",
              "      <th>98</th>\n",
              "      <td>7387</td>\n",
              "      <td>Sign-up pace slows in third week of 2018 Obama...</td>\n",
              "      <td>0.030651</td>\n",
              "    </tr>\n",
              "    <tr>\n",
              "      <th>99</th>\n",
              "      <td>21247</td>\n",
              "      <td>TRUMP WAS RIGHT! Why The Heck Is This Liberal ...</td>\n",
              "      <td>0.029408</td>\n",
              "    </tr>\n",
              "  </tbody>\n",
              "</table>\n",
              "<p>100 rows × 3 columns</p>\n",
              "</div>\n",
              "      <button class=\"colab-df-convert\" onclick=\"convertToInteractive('df-4c18b1fc-c338-4c04-8ea8-6c44f57f22e7')\"\n",
              "              title=\"Convert this dataframe to an interactive table.\"\n",
              "              style=\"display:none;\">\n",
              "        \n",
              "  <svg xmlns=\"http://www.w3.org/2000/svg\" height=\"24px\"viewBox=\"0 0 24 24\"\n",
              "       width=\"24px\">\n",
              "    <path d=\"M0 0h24v24H0V0z\" fill=\"none\"/>\n",
              "    <path d=\"M18.56 5.44l.94 2.06.94-2.06 2.06-.94-2.06-.94-.94-2.06-.94 2.06-2.06.94zm-11 1L8.5 8.5l.94-2.06 2.06-.94-2.06-.94L8.5 2.5l-.94 2.06-2.06.94zm10 10l.94 2.06.94-2.06 2.06-.94-2.06-.94-.94-2.06-.94 2.06-2.06.94z\"/><path d=\"M17.41 7.96l-1.37-1.37c-.4-.4-.92-.59-1.43-.59-.52 0-1.04.2-1.43.59L10.3 9.45l-7.72 7.72c-.78.78-.78 2.05 0 2.83L4 21.41c.39.39.9.59 1.41.59.51 0 1.02-.2 1.41-.59l7.78-7.78 2.81-2.81c.8-.78.8-2.07 0-2.86zM5.41 20L4 18.59l7.72-7.72 1.47 1.35L5.41 20z\"/>\n",
              "  </svg>\n",
              "      </button>\n",
              "      \n",
              "  <style>\n",
              "    .colab-df-container {\n",
              "      display:flex;\n",
              "      flex-wrap:wrap;\n",
              "      gap: 12px;\n",
              "    }\n",
              "\n",
              "    .colab-df-convert {\n",
              "      background-color: #E8F0FE;\n",
              "      border: none;\n",
              "      border-radius: 50%;\n",
              "      cursor: pointer;\n",
              "      display: none;\n",
              "      fill: #1967D2;\n",
              "      height: 32px;\n",
              "      padding: 0 0 0 0;\n",
              "      width: 32px;\n",
              "    }\n",
              "\n",
              "    .colab-df-convert:hover {\n",
              "      background-color: #E2EBFA;\n",
              "      box-shadow: 0px 1px 2px rgba(60, 64, 67, 0.3), 0px 1px 3px 1px rgba(60, 64, 67, 0.15);\n",
              "      fill: #174EA6;\n",
              "    }\n",
              "\n",
              "    [theme=dark] .colab-df-convert {\n",
              "      background-color: #3B4455;\n",
              "      fill: #D2E3FC;\n",
              "    }\n",
              "\n",
              "    [theme=dark] .colab-df-convert:hover {\n",
              "      background-color: #434B5C;\n",
              "      box-shadow: 0px 1px 3px 1px rgba(0, 0, 0, 0.15);\n",
              "      filter: drop-shadow(0px 1px 2px rgba(0, 0, 0, 0.3));\n",
              "      fill: #FFFFFF;\n",
              "    }\n",
              "  </style>\n",
              "\n",
              "      <script>\n",
              "        const buttonEl =\n",
              "          document.querySelector('#df-4c18b1fc-c338-4c04-8ea8-6c44f57f22e7 button.colab-df-convert');\n",
              "        buttonEl.style.display =\n",
              "          google.colab.kernel.accessAllowed ? 'block' : 'none';\n",
              "\n",
              "        async function convertToInteractive(key) {\n",
              "          const element = document.querySelector('#df-4c18b1fc-c338-4c04-8ea8-6c44f57f22e7');\n",
              "          const dataTable =\n",
              "            await google.colab.kernel.invokeFunction('convertToInteractive',\n",
              "                                                     [key], {});\n",
              "          if (!dataTable) return;\n",
              "\n",
              "          const docLinkHtml = 'Like what you see? Visit the ' +\n",
              "            '<a target=\"_blank\" href=https://colab.research.google.com/notebooks/data_table.ipynb>data table notebook</a>'\n",
              "            + ' to learn more about interactive tables.';\n",
              "          element.innerHTML = '';\n",
              "          dataTable['output_type'] = 'display_data';\n",
              "          await google.colab.output.renderOutput(dataTable, element);\n",
              "          const docLink = document.createElement('div');\n",
              "          docLink.innerHTML = docLinkHtml;\n",
              "          element.appendChild(docLink);\n",
              "        }\n",
              "      </script>\n",
              "    </div>\n",
              "  </div>\n",
              "  "
            ],
            "text/plain": [
              "       id                                              title       sim\n",
              "0   20109   BUSTED: Steel Unions FURIOUS At Trump For Des...  0.341291\n",
              "1   16178   Greedy Trump Cuts Takes Housing Money Away Fr...  0.320256\n",
              "2   39856   Trump Just Got DESTROYED By J.K. Rowling For ...  0.318098\n",
              "3   32036  Trump, Pence master delicate art of dancing to...  0.290599\n",
              "4   23254   Gawker Fools Trump Into Quoting Genocidal Man...  0.282543\n",
              "..    ...                                                ...       ...\n",
              "95  30162  White House aims to speed U.S. drone, wireless...  0.033862\n",
              "96  26891  LOL! HYPOCRITE HILLARY Gives Speech On Evils O...  0.032935\n",
              "97  11709  CONTROVERSY AT SCHOOL After Brave Student Wear...  0.031069\n",
              "98   7387  Sign-up pace slows in third week of 2018 Obama...  0.030651\n",
              "99  21247  TRUMP WAS RIGHT! Why The Heck Is This Liberal ...  0.029408\n",
              "\n",
              "[100 rows x 3 columns]"
            ]
          },
          "metadata": {},
          "execution_count": 44
        }
      ]
    },
    {
      "cell_type": "code",
      "source": [
        "# Get topic of query\n",
        "def get_query_class(q):\n",
        "  q = [q]\n",
        "  q_vec = tfidf.transform(q).toarray()\n",
        "  subj_class = multi_classifier.predict(q_vec)\n",
        "  print(subj_class)\n",
        "  return subj_class"
      ],
      "metadata": {
        "id": "cJoQRiPU-GE5"
      },
      "execution_count": 45,
      "outputs": []
    },
    {
      "cell_type": "code",
      "source": [
        "query_topic = get_query_class(q1)\n",
        "\n",
        "# Get similar documents from predicted label dataset\n",
        "result_ids = list(ans.id)\n",
        "ans_labels = train_df[[True if i in result_ids else False for i in train_df.Id] ][[\"Id\",\"subject_label\",\"label\"]]\n",
        "ans_labels.head()"
      ],
      "metadata": {
        "colab": {
          "base_uri": "https://localhost:8080/",
          "height": 223
        },
        "id": "7ON_NrCN-JSt",
        "outputId": "572bf951-5b92-4f18-8296-ff30f1eeb632"
      },
      "execution_count": 46,
      "outputs": [
        {
          "output_type": "stream",
          "name": "stdout",
          "text": [
            "[2]\n"
          ]
        },
        {
          "output_type": "execute_result",
          "data": {
            "text/html": [
              "\n",
              "  <div id=\"df-552f90db-fd2f-4315-81ab-d6478e20d9c0\">\n",
              "    <div class=\"colab-df-container\">\n",
              "      <div>\n",
              "<style scoped>\n",
              "    .dataframe tbody tr th:only-of-type {\n",
              "        vertical-align: middle;\n",
              "    }\n",
              "\n",
              "    .dataframe tbody tr th {\n",
              "        vertical-align: top;\n",
              "    }\n",
              "\n",
              "    .dataframe thead th {\n",
              "        text-align: right;\n",
              "    }\n",
              "</style>\n",
              "<table border=\"1\" class=\"dataframe\">\n",
              "  <thead>\n",
              "    <tr style=\"text-align: right;\">\n",
              "      <th></th>\n",
              "      <th>Id</th>\n",
              "      <th>subject_label</th>\n",
              "      <th>label</th>\n",
              "    </tr>\n",
              "  </thead>\n",
              "  <tbody>\n",
              "    <tr>\n",
              "      <th>0</th>\n",
              "      <td>13970</td>\n",
              "      <td>2</td>\n",
              "      <td>1</td>\n",
              "    </tr>\n",
              "    <tr>\n",
              "      <th>2</th>\n",
              "      <td>26810</td>\n",
              "      <td>2</td>\n",
              "      <td>1</td>\n",
              "    </tr>\n",
              "    <tr>\n",
              "      <th>5</th>\n",
              "      <td>7209</td>\n",
              "      <td>5</td>\n",
              "      <td>1</td>\n",
              "    </tr>\n",
              "    <tr>\n",
              "      <th>7</th>\n",
              "      <td>41384</td>\n",
              "      <td>5</td>\n",
              "      <td>1</td>\n",
              "    </tr>\n",
              "    <tr>\n",
              "      <th>8</th>\n",
              "      <td>34361</td>\n",
              "      <td>6</td>\n",
              "      <td>0</td>\n",
              "    </tr>\n",
              "  </tbody>\n",
              "</table>\n",
              "</div>\n",
              "      <button class=\"colab-df-convert\" onclick=\"convertToInteractive('df-552f90db-fd2f-4315-81ab-d6478e20d9c0')\"\n",
              "              title=\"Convert this dataframe to an interactive table.\"\n",
              "              style=\"display:none;\">\n",
              "        \n",
              "  <svg xmlns=\"http://www.w3.org/2000/svg\" height=\"24px\"viewBox=\"0 0 24 24\"\n",
              "       width=\"24px\">\n",
              "    <path d=\"M0 0h24v24H0V0z\" fill=\"none\"/>\n",
              "    <path d=\"M18.56 5.44l.94 2.06.94-2.06 2.06-.94-2.06-.94-.94-2.06-.94 2.06-2.06.94zm-11 1L8.5 8.5l.94-2.06 2.06-.94-2.06-.94L8.5 2.5l-.94 2.06-2.06.94zm10 10l.94 2.06.94-2.06 2.06-.94-2.06-.94-.94-2.06-.94 2.06-2.06.94z\"/><path d=\"M17.41 7.96l-1.37-1.37c-.4-.4-.92-.59-1.43-.59-.52 0-1.04.2-1.43.59L10.3 9.45l-7.72 7.72c-.78.78-.78 2.05 0 2.83L4 21.41c.39.39.9.59 1.41.59.51 0 1.02-.2 1.41-.59l7.78-7.78 2.81-2.81c.8-.78.8-2.07 0-2.86zM5.41 20L4 18.59l7.72-7.72 1.47 1.35L5.41 20z\"/>\n",
              "  </svg>\n",
              "      </button>\n",
              "      \n",
              "  <style>\n",
              "    .colab-df-container {\n",
              "      display:flex;\n",
              "      flex-wrap:wrap;\n",
              "      gap: 12px;\n",
              "    }\n",
              "\n",
              "    .colab-df-convert {\n",
              "      background-color: #E8F0FE;\n",
              "      border: none;\n",
              "      border-radius: 50%;\n",
              "      cursor: pointer;\n",
              "      display: none;\n",
              "      fill: #1967D2;\n",
              "      height: 32px;\n",
              "      padding: 0 0 0 0;\n",
              "      width: 32px;\n",
              "    }\n",
              "\n",
              "    .colab-df-convert:hover {\n",
              "      background-color: #E2EBFA;\n",
              "      box-shadow: 0px 1px 2px rgba(60, 64, 67, 0.3), 0px 1px 3px 1px rgba(60, 64, 67, 0.15);\n",
              "      fill: #174EA6;\n",
              "    }\n",
              "\n",
              "    [theme=dark] .colab-df-convert {\n",
              "      background-color: #3B4455;\n",
              "      fill: #D2E3FC;\n",
              "    }\n",
              "\n",
              "    [theme=dark] .colab-df-convert:hover {\n",
              "      background-color: #434B5C;\n",
              "      box-shadow: 0px 1px 3px 1px rgba(0, 0, 0, 0.15);\n",
              "      filter: drop-shadow(0px 1px 2px rgba(0, 0, 0, 0.3));\n",
              "      fill: #FFFFFF;\n",
              "    }\n",
              "  </style>\n",
              "\n",
              "      <script>\n",
              "        const buttonEl =\n",
              "          document.querySelector('#df-552f90db-fd2f-4315-81ab-d6478e20d9c0 button.colab-df-convert');\n",
              "        buttonEl.style.display =\n",
              "          google.colab.kernel.accessAllowed ? 'block' : 'none';\n",
              "\n",
              "        async function convertToInteractive(key) {\n",
              "          const element = document.querySelector('#df-552f90db-fd2f-4315-81ab-d6478e20d9c0');\n",
              "          const dataTable =\n",
              "            await google.colab.kernel.invokeFunction('convertToInteractive',\n",
              "                                                     [key], {});\n",
              "          if (!dataTable) return;\n",
              "\n",
              "          const docLinkHtml = 'Like what you see? Visit the ' +\n",
              "            '<a target=\"_blank\" href=https://colab.research.google.com/notebooks/data_table.ipynb>data table notebook</a>'\n",
              "            + ' to learn more about interactive tables.';\n",
              "          element.innerHTML = '';\n",
              "          dataTable['output_type'] = 'display_data';\n",
              "          await google.colab.output.renderOutput(dataTable, element);\n",
              "          const docLink = document.createElement('div');\n",
              "          docLink.innerHTML = docLinkHtml;\n",
              "          element.appendChild(docLink);\n",
              "        }\n",
              "      </script>\n",
              "    </div>\n",
              "  </div>\n",
              "  "
            ],
            "text/plain": [
              "      Id  subject_label  label\n",
              "0  13970              2      1\n",
              "2  26810              2      1\n",
              "5   7209              5      1\n",
              "7  41384              5      1\n",
              "8  34361              6      0"
            ]
          },
          "metadata": {},
          "execution_count": 46
        }
      ]
    },
    {
      "cell_type": "code",
      "source": [
        "docs_retreived = pd.merge(ans,ans_labels, left_on=[\"id\"], right_on=[\"Id\"])\n",
        "docs_retreived"
      ],
      "metadata": {
        "colab": {
          "base_uri": "https://localhost:8080/",
          "height": 423
        },
        "id": "ZBO7oSmKAFY1",
        "outputId": "7faa63fb-3322-4d3f-d1ca-865534d86528"
      },
      "execution_count": 47,
      "outputs": [
        {
          "output_type": "execute_result",
          "data": {
            "text/html": [
              "\n",
              "  <div id=\"df-79cdfc37-03e9-49cd-abe5-6ea5dd2a9951\">\n",
              "    <div class=\"colab-df-container\">\n",
              "      <div>\n",
              "<style scoped>\n",
              "    .dataframe tbody tr th:only-of-type {\n",
              "        vertical-align: middle;\n",
              "    }\n",
              "\n",
              "    .dataframe tbody tr th {\n",
              "        vertical-align: top;\n",
              "    }\n",
              "\n",
              "    .dataframe thead th {\n",
              "        text-align: right;\n",
              "    }\n",
              "</style>\n",
              "<table border=\"1\" class=\"dataframe\">\n",
              "  <thead>\n",
              "    <tr style=\"text-align: right;\">\n",
              "      <th></th>\n",
              "      <th>id</th>\n",
              "      <th>title</th>\n",
              "      <th>sim</th>\n",
              "      <th>Id</th>\n",
              "      <th>subject_label</th>\n",
              "      <th>label</th>\n",
              "    </tr>\n",
              "  </thead>\n",
              "  <tbody>\n",
              "    <tr>\n",
              "      <th>0</th>\n",
              "      <td>20109</td>\n",
              "      <td>BUSTED: Steel Unions FURIOUS At Trump For Des...</td>\n",
              "      <td>0.341291</td>\n",
              "      <td>20109</td>\n",
              "      <td>2</td>\n",
              "      <td>1</td>\n",
              "    </tr>\n",
              "    <tr>\n",
              "      <th>1</th>\n",
              "      <td>16178</td>\n",
              "      <td>Greedy Trump Cuts Takes Housing Money Away Fr...</td>\n",
              "      <td>0.320256</td>\n",
              "      <td>16178</td>\n",
              "      <td>2</td>\n",
              "      <td>1</td>\n",
              "    </tr>\n",
              "    <tr>\n",
              "      <th>2</th>\n",
              "      <td>39856</td>\n",
              "      <td>Trump Just Got DESTROYED By J.K. Rowling For ...</td>\n",
              "      <td>0.318098</td>\n",
              "      <td>39856</td>\n",
              "      <td>2</td>\n",
              "      <td>1</td>\n",
              "    </tr>\n",
              "    <tr>\n",
              "      <th>3</th>\n",
              "      <td>32036</td>\n",
              "      <td>Trump, Pence master delicate art of dancing to...</td>\n",
              "      <td>0.290599</td>\n",
              "      <td>32036</td>\n",
              "      <td>6</td>\n",
              "      <td>0</td>\n",
              "    </tr>\n",
              "    <tr>\n",
              "      <th>4</th>\n",
              "      <td>23254</td>\n",
              "      <td>Gawker Fools Trump Into Quoting Genocidal Man...</td>\n",
              "      <td>0.282543</td>\n",
              "      <td>23254</td>\n",
              "      <td>2</td>\n",
              "      <td>1</td>\n",
              "    </tr>\n",
              "    <tr>\n",
              "      <th>...</th>\n",
              "      <td>...</td>\n",
              "      <td>...</td>\n",
              "      <td>...</td>\n",
              "      <td>...</td>\n",
              "      <td>...</td>\n",
              "      <td>...</td>\n",
              "    </tr>\n",
              "    <tr>\n",
              "      <th>95</th>\n",
              "      <td>30162</td>\n",
              "      <td>White House aims to speed U.S. drone, wireless...</td>\n",
              "      <td>0.033862</td>\n",
              "      <td>30162</td>\n",
              "      <td>6</td>\n",
              "      <td>0</td>\n",
              "    </tr>\n",
              "    <tr>\n",
              "      <th>96</th>\n",
              "      <td>26891</td>\n",
              "      <td>LOL! HYPOCRITE HILLARY Gives Speech On Evils O...</td>\n",
              "      <td>0.032935</td>\n",
              "      <td>26891</td>\n",
              "      <td>5</td>\n",
              "      <td>1</td>\n",
              "    </tr>\n",
              "    <tr>\n",
              "      <th>97</th>\n",
              "      <td>11709</td>\n",
              "      <td>CONTROVERSY AT SCHOOL After Brave Student Wear...</td>\n",
              "      <td>0.031069</td>\n",
              "      <td>11709</td>\n",
              "      <td>5</td>\n",
              "      <td>1</td>\n",
              "    </tr>\n",
              "    <tr>\n",
              "      <th>98</th>\n",
              "      <td>7387</td>\n",
              "      <td>Sign-up pace slows in third week of 2018 Obama...</td>\n",
              "      <td>0.030651</td>\n",
              "      <td>7387</td>\n",
              "      <td>6</td>\n",
              "      <td>0</td>\n",
              "    </tr>\n",
              "    <tr>\n",
              "      <th>99</th>\n",
              "      <td>21247</td>\n",
              "      <td>TRUMP WAS RIGHT! Why The Heck Is This Liberal ...</td>\n",
              "      <td>0.029408</td>\n",
              "      <td>21247</td>\n",
              "      <td>5</td>\n",
              "      <td>1</td>\n",
              "    </tr>\n",
              "  </tbody>\n",
              "</table>\n",
              "<p>100 rows × 6 columns</p>\n",
              "</div>\n",
              "      <button class=\"colab-df-convert\" onclick=\"convertToInteractive('df-79cdfc37-03e9-49cd-abe5-6ea5dd2a9951')\"\n",
              "              title=\"Convert this dataframe to an interactive table.\"\n",
              "              style=\"display:none;\">\n",
              "        \n",
              "  <svg xmlns=\"http://www.w3.org/2000/svg\" height=\"24px\"viewBox=\"0 0 24 24\"\n",
              "       width=\"24px\">\n",
              "    <path d=\"M0 0h24v24H0V0z\" fill=\"none\"/>\n",
              "    <path d=\"M18.56 5.44l.94 2.06.94-2.06 2.06-.94-2.06-.94-.94-2.06-.94 2.06-2.06.94zm-11 1L8.5 8.5l.94-2.06 2.06-.94-2.06-.94L8.5 2.5l-.94 2.06-2.06.94zm10 10l.94 2.06.94-2.06 2.06-.94-2.06-.94-.94-2.06-.94 2.06-2.06.94z\"/><path d=\"M17.41 7.96l-1.37-1.37c-.4-.4-.92-.59-1.43-.59-.52 0-1.04.2-1.43.59L10.3 9.45l-7.72 7.72c-.78.78-.78 2.05 0 2.83L4 21.41c.39.39.9.59 1.41.59.51 0 1.02-.2 1.41-.59l7.78-7.78 2.81-2.81c.8-.78.8-2.07 0-2.86zM5.41 20L4 18.59l7.72-7.72 1.47 1.35L5.41 20z\"/>\n",
              "  </svg>\n",
              "      </button>\n",
              "      \n",
              "  <style>\n",
              "    .colab-df-container {\n",
              "      display:flex;\n",
              "      flex-wrap:wrap;\n",
              "      gap: 12px;\n",
              "    }\n",
              "\n",
              "    .colab-df-convert {\n",
              "      background-color: #E8F0FE;\n",
              "      border: none;\n",
              "      border-radius: 50%;\n",
              "      cursor: pointer;\n",
              "      display: none;\n",
              "      fill: #1967D2;\n",
              "      height: 32px;\n",
              "      padding: 0 0 0 0;\n",
              "      width: 32px;\n",
              "    }\n",
              "\n",
              "    .colab-df-convert:hover {\n",
              "      background-color: #E2EBFA;\n",
              "      box-shadow: 0px 1px 2px rgba(60, 64, 67, 0.3), 0px 1px 3px 1px rgba(60, 64, 67, 0.15);\n",
              "      fill: #174EA6;\n",
              "    }\n",
              "\n",
              "    [theme=dark] .colab-df-convert {\n",
              "      background-color: #3B4455;\n",
              "      fill: #D2E3FC;\n",
              "    }\n",
              "\n",
              "    [theme=dark] .colab-df-convert:hover {\n",
              "      background-color: #434B5C;\n",
              "      box-shadow: 0px 1px 3px 1px rgba(0, 0, 0, 0.15);\n",
              "      filter: drop-shadow(0px 1px 2px rgba(0, 0, 0, 0.3));\n",
              "      fill: #FFFFFF;\n",
              "    }\n",
              "  </style>\n",
              "\n",
              "      <script>\n",
              "        const buttonEl =\n",
              "          document.querySelector('#df-79cdfc37-03e9-49cd-abe5-6ea5dd2a9951 button.colab-df-convert');\n",
              "        buttonEl.style.display =\n",
              "          google.colab.kernel.accessAllowed ? 'block' : 'none';\n",
              "\n",
              "        async function convertToInteractive(key) {\n",
              "          const element = document.querySelector('#df-79cdfc37-03e9-49cd-abe5-6ea5dd2a9951');\n",
              "          const dataTable =\n",
              "            await google.colab.kernel.invokeFunction('convertToInteractive',\n",
              "                                                     [key], {});\n",
              "          if (!dataTable) return;\n",
              "\n",
              "          const docLinkHtml = 'Like what you see? Visit the ' +\n",
              "            '<a target=\"_blank\" href=https://colab.research.google.com/notebooks/data_table.ipynb>data table notebook</a>'\n",
              "            + ' to learn more about interactive tables.';\n",
              "          element.innerHTML = '';\n",
              "          dataTable['output_type'] = 'display_data';\n",
              "          await google.colab.output.renderOutput(dataTable, element);\n",
              "          const docLink = document.createElement('div');\n",
              "          docLink.innerHTML = docLinkHtml;\n",
              "          element.appendChild(docLink);\n",
              "        }\n",
              "      </script>\n",
              "    </div>\n",
              "  </div>\n",
              "  "
            ],
            "text/plain": [
              "       id  ... label\n",
              "0   20109  ...     1\n",
              "1   16178  ...     1\n",
              "2   39856  ...     1\n",
              "3   32036  ...     0\n",
              "4   23254  ...     1\n",
              "..    ...  ...   ...\n",
              "95  30162  ...     0\n",
              "96  26891  ...     1\n",
              "97  11709  ...     1\n",
              "98   7387  ...     0\n",
              "99  21247  ...     1\n",
              "\n",
              "[100 rows x 6 columns]"
            ]
          },
          "metadata": {},
          "execution_count": 47
        }
      ]
    },
    {
      "cell_type": "markdown",
      "source": [
        "Filter on basis of reliability and topical relevance"
      ],
      "metadata": {
        "id": "CqCByHl5HeJo"
      }
    },
    {
      "cell_type": "code",
      "source": [
        "class_labs = list(docs_retreived.label)\n",
        "fact_filtered = docs_retreived[[True if i == 1 else False for i in class_labs]]\n",
        "\n",
        "subj_labs = list(docs_retreived.subject_label)\n",
        "topic_filtered = docs_retreived[[True if i == query_topic else False for i in subj_labs]][[\"id\",\"title\"]]\n",
        "\n",
        "topic_filtered"
      ],
      "metadata": {
        "colab": {
          "base_uri": "https://localhost:8080/",
          "height": 990
        },
        "id": "btMbhCsTA5bk",
        "outputId": "63e98399-86aa-40c2-961b-59aaeb7f545b"
      },
      "execution_count": null,
      "outputs": [
        {
          "output_type": "execute_result",
          "data": {
            "text/html": [
              "\n",
              "  <div id=\"df-4c6b93ac-4f70-4c74-99b7-ee1f85c77d3f\">\n",
              "    <div class=\"colab-df-container\">\n",
              "      <div>\n",
              "<style scoped>\n",
              "    .dataframe tbody tr th:only-of-type {\n",
              "        vertical-align: middle;\n",
              "    }\n",
              "\n",
              "    .dataframe tbody tr th {\n",
              "        vertical-align: top;\n",
              "    }\n",
              "\n",
              "    .dataframe thead th {\n",
              "        text-align: right;\n",
              "    }\n",
              "</style>\n",
              "<table border=\"1\" class=\"dataframe\">\n",
              "  <thead>\n",
              "    <tr style=\"text-align: right;\">\n",
              "      <th></th>\n",
              "      <th>id</th>\n",
              "      <th>title</th>\n",
              "    </tr>\n",
              "  </thead>\n",
              "  <tbody>\n",
              "    <tr>\n",
              "      <th>0</th>\n",
              "      <td>20109</td>\n",
              "      <td>BUSTED: Steel Unions FURIOUS At Trump For Des...</td>\n",
              "    </tr>\n",
              "    <tr>\n",
              "      <th>1</th>\n",
              "      <td>16178</td>\n",
              "      <td>Greedy Trump Cuts Takes Housing Money Away Fr...</td>\n",
              "    </tr>\n",
              "    <tr>\n",
              "      <th>2</th>\n",
              "      <td>39856</td>\n",
              "      <td>Trump Just Got DESTROYED By J.K. Rowling For ...</td>\n",
              "    </tr>\n",
              "    <tr>\n",
              "      <th>3</th>\n",
              "      <td>23254</td>\n",
              "      <td>Gawker Fools Trump Into Quoting Genocidal Man...</td>\n",
              "    </tr>\n",
              "    <tr>\n",
              "      <th>6</th>\n",
              "      <td>13970</td>\n",
              "      <td>WATCH: Paul Manafort Gets DESTROYED On CNN Fo...</td>\n",
              "    </tr>\n",
              "    <tr>\n",
              "      <th>7</th>\n",
              "      <td>26810</td>\n",
              "      <td>Trump’s Excuse For All His Sexist Statements ...</td>\n",
              "    </tr>\n",
              "    <tr>\n",
              "      <th>8</th>\n",
              "      <td>5086</td>\n",
              "      <td>Billionaire Richard Branson Breaks Silence Ab...</td>\n",
              "    </tr>\n",
              "    <tr>\n",
              "      <th>9</th>\n",
              "      <td>8318</td>\n",
              "      <td>Warren Buffett Knows Exactly Why Trump’s Camp...</td>\n",
              "    </tr>\n",
              "    <tr>\n",
              "      <th>10</th>\n",
              "      <td>2932</td>\n",
              "      <td>Hillary’s Campaign Account Hasn’t Tweeted Sin...</td>\n",
              "    </tr>\n",
              "    <tr>\n",
              "      <th>11</th>\n",
              "      <td>32545</td>\n",
              "      <td>CNN And MSNBC Destroy Trump, Black Out His Fa...</td>\n",
              "    </tr>\n",
              "    <tr>\n",
              "      <th>16</th>\n",
              "      <td>11684</td>\n",
              "      <td>Trump Still Isn’t Convinced Russia Interfered...</td>\n",
              "    </tr>\n",
              "    <tr>\n",
              "      <th>18</th>\n",
              "      <td>7174</td>\n",
              "      <td>SHAME: Proof Trump Doesn’t Care About Militar...</td>\n",
              "    </tr>\n",
              "    <tr>\n",
              "      <th>20</th>\n",
              "      <td>2084</td>\n",
              "      <td>Donald Trump Has Become So Toxic That He Can’...</td>\n",
              "    </tr>\n",
              "    <tr>\n",
              "      <th>24</th>\n",
              "      <td>11598</td>\n",
              "      <td>Donald Trump Is Destroying The Country’s Repu...</td>\n",
              "    </tr>\n",
              "    <tr>\n",
              "      <th>28</th>\n",
              "      <td>9998</td>\n",
              "      <td>BREAKING: Sessions Lied, Discussed Trump Camp...</td>\n",
              "    </tr>\n",
              "    <tr>\n",
              "      <th>34</th>\n",
              "      <td>4272</td>\n",
              "      <td>Sean Hannity Goes Apesh*t Over Trump As Caesa...</td>\n",
              "    </tr>\n",
              "    <tr>\n",
              "      <th>43</th>\n",
              "      <td>41627</td>\n",
              "      <td>Paul Ryan Is So Unpopular Even 8th Graders Re...</td>\n",
              "    </tr>\n",
              "    <tr>\n",
              "      <th>45</th>\n",
              "      <td>17702</td>\n",
              "      <td>Watch Bernie Sanders Slam The Hell Out Of Rep...</td>\n",
              "    </tr>\n",
              "    <tr>\n",
              "      <th>50</th>\n",
              "      <td>5763</td>\n",
              "      <td>Actress Salma Hayek Perfectly BURNS Trump For...</td>\n",
              "    </tr>\n",
              "    <tr>\n",
              "      <th>52</th>\n",
              "      <td>38522</td>\n",
              "      <td>Trump Gets P*SSED As TODAY Hosts Slam His ‘Ly...</td>\n",
              "    </tr>\n",
              "    <tr>\n",
              "      <th>55</th>\n",
              "      <td>353</td>\n",
              "      <td>The Republican Jewish Coalition Loves Trump S...</td>\n",
              "    </tr>\n",
              "    <tr>\n",
              "      <th>71</th>\n",
              "      <td>32717</td>\n",
              "      <td>Nobody Likes Donald Trump, And These Three DE...</td>\n",
              "    </tr>\n",
              "    <tr>\n",
              "      <th>73</th>\n",
              "      <td>19594</td>\n",
              "      <td>Trump Is Literally Causing Business Owners To...</td>\n",
              "    </tr>\n",
              "    <tr>\n",
              "      <th>75</th>\n",
              "      <td>3272</td>\n",
              "      <td>Chelsea Handler Hilariously Trashes Trump’s S...</td>\n",
              "    </tr>\n",
              "    <tr>\n",
              "      <th>76</th>\n",
              "      <td>38350</td>\n",
              "      <td>Trump’s Biggest KKK Fan Is Back, And He Just ...</td>\n",
              "    </tr>\n",
              "    <tr>\n",
              "      <th>78</th>\n",
              "      <td>41191</td>\n",
              "      <td>Sean Spicer Just Gave ‘Alternative Facts’ Abo...</td>\n",
              "    </tr>\n",
              "    <tr>\n",
              "      <th>80</th>\n",
              "      <td>27218</td>\n",
              "      <td>Donald Trump Tries To Spin ‘Second Amendment’...</td>\n",
              "    </tr>\n",
              "    <tr>\n",
              "      <th>88</th>\n",
              "      <td>35729</td>\n",
              "      <td>WATCH: Trump Aide Asks CRAZIEST Question Ever...</td>\n",
              "    </tr>\n",
              "    <tr>\n",
              "      <th>89</th>\n",
              "      <td>42957</td>\n",
              "      <td>WATCH: We Found Donald Trump’s Campaign Theme...</td>\n",
              "    </tr>\n",
              "    <tr>\n",
              "      <th>94</th>\n",
              "      <td>29741</td>\n",
              "      <td>Texas Cop Vows To Brutalize Any Trans Woman W...</td>\n",
              "    </tr>\n",
              "  </tbody>\n",
              "</table>\n",
              "</div>\n",
              "      <button class=\"colab-df-convert\" onclick=\"convertToInteractive('df-4c6b93ac-4f70-4c74-99b7-ee1f85c77d3f')\"\n",
              "              title=\"Convert this dataframe to an interactive table.\"\n",
              "              style=\"display:none;\">\n",
              "        \n",
              "  <svg xmlns=\"http://www.w3.org/2000/svg\" height=\"24px\"viewBox=\"0 0 24 24\"\n",
              "       width=\"24px\">\n",
              "    <path d=\"M0 0h24v24H0V0z\" fill=\"none\"/>\n",
              "    <path d=\"M18.56 5.44l.94 2.06.94-2.06 2.06-.94-2.06-.94-.94-2.06-.94 2.06-2.06.94zm-11 1L8.5 8.5l.94-2.06 2.06-.94-2.06-.94L8.5 2.5l-.94 2.06-2.06.94zm10 10l.94 2.06.94-2.06 2.06-.94-2.06-.94-.94-2.06-.94 2.06-2.06.94z\"/><path d=\"M17.41 7.96l-1.37-1.37c-.4-.4-.92-.59-1.43-.59-.52 0-1.04.2-1.43.59L10.3 9.45l-7.72 7.72c-.78.78-.78 2.05 0 2.83L4 21.41c.39.39.9.59 1.41.59.51 0 1.02-.2 1.41-.59l7.78-7.78 2.81-2.81c.8-.78.8-2.07 0-2.86zM5.41 20L4 18.59l7.72-7.72 1.47 1.35L5.41 20z\"/>\n",
              "  </svg>\n",
              "      </button>\n",
              "      \n",
              "  <style>\n",
              "    .colab-df-container {\n",
              "      display:flex;\n",
              "      flex-wrap:wrap;\n",
              "      gap: 12px;\n",
              "    }\n",
              "\n",
              "    .colab-df-convert {\n",
              "      background-color: #E8F0FE;\n",
              "      border: none;\n",
              "      border-radius: 50%;\n",
              "      cursor: pointer;\n",
              "      display: none;\n",
              "      fill: #1967D2;\n",
              "      height: 32px;\n",
              "      padding: 0 0 0 0;\n",
              "      width: 32px;\n",
              "    }\n",
              "\n",
              "    .colab-df-convert:hover {\n",
              "      background-color: #E2EBFA;\n",
              "      box-shadow: 0px 1px 2px rgba(60, 64, 67, 0.3), 0px 1px 3px 1px rgba(60, 64, 67, 0.15);\n",
              "      fill: #174EA6;\n",
              "    }\n",
              "\n",
              "    [theme=dark] .colab-df-convert {\n",
              "      background-color: #3B4455;\n",
              "      fill: #D2E3FC;\n",
              "    }\n",
              "\n",
              "    [theme=dark] .colab-df-convert:hover {\n",
              "      background-color: #434B5C;\n",
              "      box-shadow: 0px 1px 3px 1px rgba(0, 0, 0, 0.15);\n",
              "      filter: drop-shadow(0px 1px 2px rgba(0, 0, 0, 0.3));\n",
              "      fill: #FFFFFF;\n",
              "    }\n",
              "  </style>\n",
              "\n",
              "      <script>\n",
              "        const buttonEl =\n",
              "          document.querySelector('#df-4c6b93ac-4f70-4c74-99b7-ee1f85c77d3f button.colab-df-convert');\n",
              "        buttonEl.style.display =\n",
              "          google.colab.kernel.accessAllowed ? 'block' : 'none';\n",
              "\n",
              "        async function convertToInteractive(key) {\n",
              "          const element = document.querySelector('#df-4c6b93ac-4f70-4c74-99b7-ee1f85c77d3f');\n",
              "          const dataTable =\n",
              "            await google.colab.kernel.invokeFunction('convertToInteractive',\n",
              "                                                     [key], {});\n",
              "          if (!dataTable) return;\n",
              "\n",
              "          const docLinkHtml = 'Like what you see? Visit the ' +\n",
              "            '<a target=\"_blank\" href=https://colab.research.google.com/notebooks/data_table.ipynb>data table notebook</a>'\n",
              "            + ' to learn more about interactive tables.';\n",
              "          element.innerHTML = '';\n",
              "          dataTable['output_type'] = 'display_data';\n",
              "          await google.colab.output.renderOutput(dataTable, element);\n",
              "          const docLink = document.createElement('div');\n",
              "          docLink.innerHTML = docLinkHtml;\n",
              "          element.appendChild(docLink);\n",
              "        }\n",
              "      </script>\n",
              "    </div>\n",
              "  </div>\n",
              "  "
            ],
            "text/plain": [
              "       id                                              title\n",
              "0   20109   BUSTED: Steel Unions FURIOUS At Trump For Des...\n",
              "1   16178   Greedy Trump Cuts Takes Housing Money Away Fr...\n",
              "2   39856   Trump Just Got DESTROYED By J.K. Rowling For ...\n",
              "3   23254   Gawker Fools Trump Into Quoting Genocidal Man...\n",
              "6   13970   WATCH: Paul Manafort Gets DESTROYED On CNN Fo...\n",
              "7   26810   Trump’s Excuse For All His Sexist Statements ...\n",
              "8    5086   Billionaire Richard Branson Breaks Silence Ab...\n",
              "9    8318   Warren Buffett Knows Exactly Why Trump’s Camp...\n",
              "10   2932   Hillary’s Campaign Account Hasn’t Tweeted Sin...\n",
              "11  32545   CNN And MSNBC Destroy Trump, Black Out His Fa...\n",
              "16  11684   Trump Still Isn’t Convinced Russia Interfered...\n",
              "18   7174   SHAME: Proof Trump Doesn’t Care About Militar...\n",
              "20   2084   Donald Trump Has Become So Toxic That He Can’...\n",
              "24  11598   Donald Trump Is Destroying The Country’s Repu...\n",
              "28   9998   BREAKING: Sessions Lied, Discussed Trump Camp...\n",
              "34   4272   Sean Hannity Goes Apesh*t Over Trump As Caesa...\n",
              "43  41627   Paul Ryan Is So Unpopular Even 8th Graders Re...\n",
              "45  17702   Watch Bernie Sanders Slam The Hell Out Of Rep...\n",
              "50   5763   Actress Salma Hayek Perfectly BURNS Trump For...\n",
              "52  38522   Trump Gets P*SSED As TODAY Hosts Slam His ‘Ly...\n",
              "55    353   The Republican Jewish Coalition Loves Trump S...\n",
              "71  32717   Nobody Likes Donald Trump, And These Three DE...\n",
              "73  19594   Trump Is Literally Causing Business Owners To...\n",
              "75   3272   Chelsea Handler Hilariously Trashes Trump’s S...\n",
              "76  38350   Trump’s Biggest KKK Fan Is Back, And He Just ...\n",
              "78  41191   Sean Spicer Just Gave ‘Alternative Facts’ Abo...\n",
              "80  27218   Donald Trump Tries To Spin ‘Second Amendment’...\n",
              "88  35729   WATCH: Trump Aide Asks CRAZIEST Question Ever...\n",
              "89  42957   WATCH: We Found Donald Trump’s Campaign Theme...\n",
              "94  29741   Texas Cop Vows To Brutalize Any Trans Woman W..."
            ]
          },
          "metadata": {},
          "execution_count": 243
        }
      ]
    }
  ]
}